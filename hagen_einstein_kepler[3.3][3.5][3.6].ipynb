{
 "cells": [
  {
   "cell_type": "markdown",
   "metadata": {},
   "source": [
    "# This notebook contains the code for section 3.3, 3.5, and 3.6\n",
    "In particular, first we have the Hagen-Poissiulle example, then the Kepler example, then the Einstein example.\n",
    "\n",
    "Note: if you want to run all three examples, be sure to restart the notebook after running each example, since some examples repurpose variable names, and otherwise the compiler might get confused.\n",
    "\n",
    "You will also need to have installed Julia, Gurobi and Mosek to reproduce the code run here.\n",
    "\n",
    "We ran everything using Julia version 1.7.3, Mosek version 9.5 and Gurobi version 9.5.1\n",
    "\n",
    "Note that the Kepler and Einstein examples do take a little while to run."
   ]
  },
  {
   "cell_type": "code",
   "execution_count": 1,
   "metadata": {},
   "outputs": [],
   "source": [
    "using DynamicPolynomials\n",
    "using JuMP\n",
    "using MosekTools\n",
    "using LinearAlgebra\n",
    "using CSV\n",
    "using DataFrames\n",
    "import JSON\n",
    "using Dates\n",
    "using Gurobi"
   ]
  },
  {
   "cell_type": "markdown",
   "metadata": {},
   "source": [
    "# Functions for generating monomials"
   ]
  },
  {
   "cell_type": "markdown",
   "metadata": {},
   "source": [
    "We have two versions of these functions: one which only controls the overall degree, and one which also controls each variable's degree, in order to have finer grained control"
   ]
  },
  {
   "cell_type": "code",
   "execution_count": 2,
   "metadata": {},
   "outputs": [
    {
     "data": {
      "text/plain": [
       "mons_of_max_degree_and_unit_overall (generic function with 1 method)"
      ]
     },
     "execution_count": 2,
     "metadata": {},
     "output_type": "execute_result"
    }
   ],
   "source": [
    "function all_monomials_up_to_max_deg(x, deg)\n",
    "    if size(x,1) == 0\n",
    "        [1]\n",
    "    else\n",
    "    [ x[1]^k * m for k=0:deg \n",
    "            for m=all_monomials_up_to_max_deg(x[2:end], deg)\n",
    "    ]\n",
    "    end\n",
    "end\n",
    "\n",
    "function mons_of_max_degree_and_unit(x, deg, u)\n",
    "    [m\n",
    "        for m=all_monomials_up_to_max_deg(x, deg)\n",
    "        #if all(unit(m) .== u)\n",
    "    ]\n",
    "end\n",
    "                \n",
    "function degree_poly(p)\n",
    "    maximum(degree.(monomials(p)))\n",
    "end\n",
    "\n",
    "function all_monomials_up_to_max_deg_overall(x, deg, deg_overall)\n",
    "    if size(x,1) == 0\n",
    "        [1]\n",
    "    else\n",
    "    [ x[1]^k * m for k=0:min(deg, deg_overall) \n",
    "                for m=all_monomials_up_to_max_deg_overall(x[2:end], deg, deg_overall-k)\n",
    "    ]\n",
    "    end\n",
    "end\n",
    "\n",
    "function mons_of_max_degree_and_unit_overall(x, deg, deg_overall, u)\n",
    "    [m\n",
    "        for m=all_monomials_up_to_max_deg_overall(x, deg, deg_overall)\n",
    "        #if all(unit(m) .== u)\n",
    "    ]\n",
    "end"
   ]
  },
  {
   "cell_type": "markdown",
   "metadata": {},
   "source": [
    "# Hagen-Poiseuille (First example in paper)"
   ]
  },
  {
   "cell_type": "markdown",
   "metadata": {},
   "source": [
    "Let us first attempt to derive the Hagen-Poissuille equation"
   ]
  },
  {
   "cell_type": "code",
   "execution_count": null,
   "metadata": {},
   "outputs": [
    {
     "data": {
      "text/plain": [
       "1×9 Matrix{PolyVar{true}}:\n",
       " r  c_0  c_2  L  μ  Δp  R  u  dp"
      ]
     },
     "execution_count": 7,
     "metadata": {},
     "output_type": "execute_result"
    }
   ],
   "source": [
    "@polyvar r c_0 c_2 L μ Δp R u dp  # c_1 \n",
    "\n",
    "x =[r c_0 c_2 L μ Δp R u dp] # c_1 "
   ]
  },
  {
   "cell_type": "code",
   "execution_count": null,
   "metadata": {},
   "outputs": [
    {
     "data": {
      "text/latex": [
       "$$ r^{2}c_2 + c_0 $$"
      ],
      "text/plain": [
       "r²c_2 + c_0"
      ]
     },
     "execution_count": 8,
     "metadata": {},
     "output_type": "execute_result"
    }
   ],
   "source": [
    "ur = c_0+c_2*r^2 "
   ]
  },
  {
   "cell_type": "code",
   "execution_count": null,
   "metadata": {},
   "outputs": [
    {
     "data": {
      "text/latex": [
       "$$ 4rc_2 $$"
      ],
      "text/plain": [
       "4rc_2"
      ]
     },
     "execution_count": 9,
     "metadata": {},
     "output_type": "execute_result"
    }
   ],
   "source": [
    "ur_fin=differentiate(r*differentiate(ur, r),r)"
   ]
  },
  {
   "cell_type": "code",
   "execution_count": null,
   "metadata": {},
   "outputs": [
    {
     "data": {
      "text/latex": [
       "$$ c_2R^{2} + c_0 $$"
      ],
      "text/plain": [
       "c_2R² + c_0"
      ]
     },
     "execution_count": 10,
     "metadata": {},
     "output_type": "execute_result"
    }
   ],
   "source": [
    "bc=subs(ur, r=>R)"
   ]
  },
  {
   "cell_type": "code",
   "execution_count": null,
   "metadata": {},
   "outputs": [
    {
     "data": {
      "text/plain": [
       "4-element Vector{Polynomial{true, Int64}}:\n",
       " 4rc_2μ - rdp\n",
       " Ldp + Δp\n",
       " c_2R² + c_0\n",
       " -r²c_2 - c_0 + u"
      ]
     },
     "execution_count": 11,
     "metadata": {},
     "output_type": "execute_result"
    }
   ],
   "source": [
    "axioms= \n",
    "[\n",
    "    μ*ur_fin-r*dp, \n",
    "    dp*L+Δp, \n",
    "    bc,\n",
    "    u-c_0-c_2*r^2\n",
    "]"
   ]
  },
  {
   "cell_type": "code",
   "execution_count": null,
   "metadata": {},
   "outputs": [
    {
     "name": "stdout",
     "output_type": "stream",
     "text": [
      "size.(candidate_mons) = [(4510,), (4510,), (4510,), (4510,)]\n",
      "size.(coeff_αs) = [(4510,), (4510,), (4510,), (4510,)]\n",
      "Problem\n",
      "  Name                   :                 \n",
      "  Objective sense        : max             \n",
      "  Type                   : LO (linear optimization problem)\n",
      "  Constraints            : 22000           \n",
      "  Cones                  : 0               \n",
      "  Scalar variables       : 18796           \n",
      "  Matrix variables       : 0               \n",
      "  Integer variables      : 0               \n",
      "\n",
      "Optimizer started.\n",
      "Presolve started.\n",
      "Linear dependency checker started.\n",
      "Linear dependency checker terminated.\n",
      "Eliminator started.\n",
      "Freed constraints in eliminator : 3837\n",
      "Eliminator terminated.\n",
      "Eliminator started.\n",
      "Freed constraints in eliminator : 0\n",
      "Eliminator terminated.\n",
      "Eliminator - tries                  : 2                 time                   : 0.00            \n",
      "Lin. dep.  - tries                  : 1                 time                   : 0.01            \n",
      "Lin. dep.  - number                 : 826             \n",
      "Presolve terminated. Time: 0.04    \n",
      "Optimizer terminated. Time: 0.07    \n",
      "\n",
      "termination_status(model) = MathOptInterface.OPTIMAL\n"
     ]
    },
    {
     "data": {
      "text/plain": [
       "OPTIMAL::TerminationStatusCode = 1"
      ]
     },
     "execution_count": 12,
     "metadata": {},
     "output_type": "execute_result"
    }
   ],
   "source": [
    "deg = 3\n",
    "deg_overall=6\n",
    "candidate_mons = [\n",
    "    mons_of_max_degree_and_unit_overall(x, deg, deg_overall, [])\n",
    "    for ai=axioms\n",
    "]\n",
    "@show size.(candidate_mons)\n",
    "\n",
    "model = Model(Mosek.Optimizer)\n",
    "mons_q = mons_of_max_degree_and_unit_overall([r R u L μ Δp] , deg, deg_overall, []) # \n",
    "coeff_q =   @variable(model, [1:size(mons_q,1)], base_name=\"q\")\n",
    "\n",
    "q = sum(ci .* mi for (ci, mi)=zip(coeff_q, mons_q)) # Zip pairs things without needing a ref index, e.g., zip([1, 2, 3], [4,5,6])=((1,4), (2,5), (3,6))\n",
    "coeff_αs = [\n",
    "    @variable(model, [1:size(X,1)], base_name=\"α$i\")\n",
    "    for (i,X)=enumerate(candidate_mons)\n",
    "    ]\n",
    "@show size.(coeff_αs)\n",
    "αs = [sum(ci .* mi) for (ci, mi)=zip(coeff_αs, candidate_mons)]\n",
    "\n",
    "residual = q - sum(αᵢ * aᵢ for (αᵢ, aᵢ)=zip(αs,axioms));\n",
    "eqs = coefficients(residual)\n",
    "\n",
    "# Ensure that the sum of the coefficients on the terms involving u isn't zero, in order that u is part of expression\n",
    "@constraint model sum(coeff_q[degree.(mons_q, u).>0]) == 4.0\n",
    "\n",
    "@constraint model eqs .== 0\n",
    "@objective model Max 0\n",
    "\n",
    "optimize!(model)\n",
    "@show termination_status(model)\n"
   ]
  },
  {
   "cell_type": "code",
   "execution_count": null,
   "metadata": {},
   "outputs": [
    {
     "data": {
      "text/plain": [
       "#31 (generic function with 1 method)"
      ]
     },
     "execution_count": 14,
     "metadata": {},
     "output_type": "execute_result"
    }
   ],
   "source": [
    "value_poly = p -> sum(value.(coefficients(p)).* monomials(p))"
   ]
  },
  {
   "cell_type": "code",
   "execution_count": null,
   "metadata": {},
   "outputs": [
    {
     "data": {
      "text/latex": [
       "$$ r^{3}Δp + 4.0rLμu - rΔpR^{2} $$"
      ],
      "text/plain": [
       "r³Δp + 4.0rLμu - rΔpR²"
      ]
     },
     "execution_count": 15,
     "metadata": {},
     "output_type": "execute_result"
    }
   ],
   "source": [
    "value_q = value_poly(q)\n",
    "value_q"
   ]
  },
  {
   "cell_type": "code",
   "execution_count": null,
   "metadata": {},
   "outputs": [
    {
     "name": "stdout",
     "output_type": "stream",
     "text": [
      "value_αs = value_poly.(αs) = Polynomial{true, Float64}[r²L - LR², r³ - rR², 4.0rLμ, 4.0rLμ]\n"
     ]
    },
    {
     "data": {
      "text/plain": [
       "4-element Vector{Polynomial{true, Float64}}:\n",
       " r²L - LR²\n",
       " r³ - rR²\n",
       " 4.0rLμ\n",
       " 4.0rLμ"
      ]
     },
     "execution_count": 16,
     "metadata": {},
     "output_type": "execute_result"
    }
   ],
   "source": [
    "@show value_αs = value_poly.(αs)"
   ]
  },
  {
   "cell_type": "markdown",
   "metadata": {},
   "source": [
    "Re-arranging: "
   ]
  },
  {
   "cell_type": "markdown",
   "metadata": {},
   "source": [
    "$ u=\\frac{-Δp (r^2-R^2)}{4μL}$ as required."
   ]
  },
  {
   "cell_type": "markdown",
   "metadata": {},
   "source": [
    "# Kepler example: Distinguishing between axioms via experimental data"
   ]
  },
  {
   "cell_type": "markdown",
   "metadata": {},
   "source": [
    "Let us revisit Kepler's law, but with irrelevant axioms and experimental data, to aim to distinguish between them"
   ]
  },
  {
   "cell_type": "code",
   "execution_count": 3,
   "metadata": {},
   "outputs": [
    {
     "data": {
      "text/plain": [
       "degree_poly (generic function with 1 method)"
      ]
     },
     "execution_count": 3,
     "metadata": {},
     "output_type": "execute_result"
    }
   ],
   "source": [
    "function all_monomials_up_to_max_deg(x, deg)\n",
    "    if size(x,1) == 0\n",
    "        [1]\n",
    "    else\n",
    "    [ x[1]^k * m for k=0:deg \n",
    "            for m=all_monomials_up_to_max_deg(x[2:end], deg)\n",
    "    ]\n",
    "    end\n",
    "end\n",
    "\n",
    "function mons_of_max_degree_and_unit(x, deg, u)\n",
    "    [m\n",
    "        for m=all_monomials_up_to_max_deg(x, deg)\n",
    "        #if all(unit(m) .== u)\n",
    "    ]\n",
    "end\n",
    "\n",
    "function all_monomials_up_to_max_deg_overall(x, deg, deg_overall)\n",
    "    if size(x,1) == 0\n",
    "        [1]\n",
    "    else\n",
    "    [ x[1]^k * m for k=0:min(deg, deg_overall) \n",
    "                for m=all_monomials_up_to_max_deg_overall(x[2:end], deg, deg_overall-k)\n",
    "    ]\n",
    "    end\n",
    "end\n",
    "\n",
    "function mons_of_max_degree_and_unit_overall(x, deg, deg_overall, u)\n",
    "    [m\n",
    "        for m=all_monomials_up_to_max_deg_overall(x, deg, deg_overall)\n",
    "        #if all(unit(m) .== u)\n",
    "    ]\n",
    "end\n",
    "                \n",
    "function degree_poly(p)\n",
    "    maximum(degree.(monomials(p)))\n",
    "end"
   ]
  },
  {
   "cell_type": "code",
   "execution_count": 4,
   "metadata": {},
   "outputs": [
    {
     "data": {
      "text/plain": [
       "9-element Vector{Variable{DynamicPolynomials.Commutative{DynamicPolynomials.CreationOrder}, Graded{LexOrder}}}:\n",
       " m₁\n",
       " m₂\n",
       " d₁\n",
       " d₂\n",
       " p\n",
       " w\n",
       " Fg\n",
       " Fc\n",
       " G"
      ]
     },
     "execution_count": 4,
     "metadata": {},
     "output_type": "execute_result"
    }
   ],
   "source": [
    "@polyvar m₁ m₂ d₁ d₂ p w Fg Fc G\n",
    "x =[m₁, m₂, d₁, d₂, p, w, Fg, Fc, G]"
   ]
  },
  {
   "cell_type": "code",
   "execution_count": 5,
   "metadata": {},
   "outputs": [
    {
     "data": {
      "text/plain": [
       "6-element Vector{Polynomial{DynamicPolynomials.Commutative{DynamicPolynomials.CreationOrder}, Graded{LexOrder}, Float64}}:\n",
       " -m₂d₂ + m₁d₁\n",
       " d₂²Fg + 2.0d₁d₂Fg + d₁²Fg - m₁m₂G\n",
       " -0.1319d₂³ - 0.39569999999999994d₁d₂² - 0.39569999999999994d₁²d₂ - 0.1319d₁³ + m₁p²\n",
       " Fc - m₂d₂w²\n",
       " -Fc + Fg\n",
       " -1.0 + pw"
      ]
     },
     "execution_count": 5,
     "metadata": {},
     "output_type": "execute_result"
    }
   ],
   "source": [
    "# Including some irrelevant axioms here\n",
    "axioms2 = [d₁*m₁ - d₂*m₂,\n",
    "          (d₁+d₂)^2*Fg-G*m₁*m₂,\n",
    "          p^2*m₁-0.1319*(d₁+d₂)^3, # One of the (incorrect) axioms from the AI-Descartes paper\n",
    "          Fc-m₂*d₂*w^2,\n",
    "          Fg-Fc,\n",
    "          w*p-1\n",
    "         ]"
   ]
  },
  {
   "cell_type": "code",
   "execution_count": 6,
   "metadata": {},
   "outputs": [],
   "source": [
    "data_bin_star=[\n",
    "    # Period (years) # m1 #m2 #d1 #d2 # G\n",
    "    1089.0 0.54 0.50 0.0 0.0 0.0\n",
    "    143.1  1.33 1.41 0.0 0.0 0.0\n",
    "    930.0  0.88 0.82 0.0 0.0 0.0\n",
    "    675.5  3.06 1.97 0.0 0.0 0.0\n",
    "]\n",
    "d=[107.270 38.235 113.769 131.352]\n",
    "for i=1:4\n",
    "   data_bin_star[i,4]=d[i]*data_bin_star[i,3]/(data_bin_star[i,2]+data_bin_star[i,3]) \n",
    "    data_bin_star[i,5]=d[i]*data_bin_star[i,2]/(data_bin_star[i,2]+data_bin_star[i,3]) \n",
    "end\n",
    "data_bin_star=data_bin_star[:,[2,3,4,5,1,6]] # Move period to end, to be consistent with model\n",
    "\n",
    "data_bin_star[:,5].=data_bin_star[:,5]/(2*pi) # Scale out 2*pi factor\n",
    "\n",
    "theG=4*pi^2 # In solar system units\n",
    "                \n",
    "\n",
    "data_bin_star[:,6].=theG;\n"
   ]
  },
  {
   "cell_type": "code",
   "execution_count": 7,
   "metadata": {},
   "outputs": [
    {
     "data": {
      "text/plain": [
       "4×6 Matrix{Float64}:\n",
       " 0.54  0.5   51.5721  55.6979  173.32    39.4784\n",
       " 1.33  1.41  19.6757  18.5593   22.7751  39.4784\n",
       " 0.88  0.82  54.8768  58.8922  148.014   39.4784\n",
       " 3.06  1.97  51.444   79.908   107.509   39.4784"
      ]
     },
     "execution_count": 7,
     "metadata": {},
     "output_type": "execute_result"
    }
   ],
   "source": [
    "data_bin_star"
   ]
  },
  {
   "cell_type": "code",
   "execution_count": 12,
   "metadata": {},
   "outputs": [
    {
     "name": "stdout",
     "output_type": "stream",
     "text": [
      "size.(candidate_mons) = [(3061,), (3061,), (3061,), (3061,), (3061,), (3061,)]\n",
      "Set parameter Username\n",
      "Academic license - for non-commercial use only - expires 2024-08-13\n",
      "Set parameter Presolve to value 0\n",
      "Set parameter OptimalityTol to value 1e-09\n",
      "Set parameter FeasibilityTol to value 1e-09\n",
      "Set parameter IntFeasTol to value 1e-09\n",
      "Set parameter MIPGap to value 1e-09\n",
      "Set parameter Quad to value 1\n",
      "size.(coeff_αs) = [(3061,), (3061,), (3061,), (3061,), (3061,), (3061,)]\n",
      "size(eqs) = (25063,)\n",
      "Set parameter FeasibilityTol to value 1e-09\n",
      "Set parameter MIPGap to value 1e-09\n",
      "Set parameter Quad to value 1\n",
      "Set parameter OptimalityTol to value 1e-09\n",
      "Set parameter IntFeasTol to value 1e-09\n",
      "Set parameter Presolve to value 0\n",
      "Gurobi Optimizer version 10.0.2 build v10.0.2rc0 (mac64[x86])\n",
      "\n",
      "CPU model: Intel(R) Core(TM) i9-8950HK CPU @ 2.90GHz\n",
      "Thread count: 6 physical cores, 12 logical processors, using up to 12 threads\n",
      "\n",
      "Optimize a model with 50724 rows, 44027 columns and 158477 nonzeros\n",
      "Model fingerprint: 0x9538866e\n",
      "Model has 18366 general constraints\n",
      "Variable types: 44021 continuous, 6 integer (6 binary)\n",
      "Coefficient statistics:\n",
      "  Matrix range     [7e-02, 5e+09]\n",
      "  Objective range  [1e+00, 1e+03]\n",
      "  Bounds range     [0e+00, 0e+00]\n",
      "  RHS range        [1e+00, 5e+00]\n",
      "  GenCon coe range [1e+00, 1e+00]\n",
      "Warning: Model contains large matrix coefficients\n",
      "         Consider reformulating model or setting NumericFocus parameter\n",
      "         to avoid numerical issues.\n",
      "Variable types: 44021 continuous, 18372 integer (18372 binary)\n",
      "Deterministic concurrent LP optimizer: primal and dual simplex\n",
      "Showing first log only...\n",
      "\n",
      "Concurrent spin time: 0.13s\n",
      "\n",
      "Solved with primal simplex\n",
      "\n",
      "Root relaxation: objective 1.765604e+00, 18483 iterations, 0.51 seconds (0.23 work units)\n",
      "\n",
      "    Nodes    |    Current Node    |     Objective Bounds      |     Work\n",
      " Expl Unexpl |  Obj  Depth IntInf | Incumbent    BestBd   Gap | It/Node Time\n",
      "\n",
      "     0     0    1.76560    0   16          -    1.76560      -     -    0s\n",
      "H    0     0                     637.9886349    1.76560   100%     -    1s\n",
      "H    0     0                     634.8024699    1.76560   100%     -    1s\n",
      "H    0     0                       4.3334774    1.76560  59.3%     -    2s\n",
      "     0     0    1.76560    0   16    4.33348    1.76560  59.3%     -    2s\n",
      "     0     2    1.76560    0   16    4.33348    1.76560  59.3%     -    3s\n",
      "\n",
      "Explored 11 nodes (20700 simplex iterations) in 3.80 seconds (1.26 work units)\n",
      "Thread count was 12 (of 12 available processors)\n",
      "\n",
      "Solution count 3: 4.33348 634.802 637.989 \n",
      "\n",
      "Optimal solution found (tolerance 1.00e-09)\n",
      "Best objective 4.333477354800e+00, best bound 4.333477354800e+00, gap 0.0000%\n",
      "\n",
      "User-callback calls 987, time in user-callback 0.01 sec\n",
      "termination_status(model) = MathOptInterface.OPTIMAL\n"
     ]
    },
    {
     "data": {
      "text/plain": [
       "OPTIMAL::TerminationStatusCode = 1"
      ]
     },
     "execution_count": 12,
     "metadata": {},
     "output_type": "execute_result"
    }
   ],
   "source": [
    "### deg = 2\n",
    "deg_overall=6\n",
    "deg_overall_q=5\n",
    "\n",
    "deg_elementwise=[2, 2, 2, 2, 2, 2, 2, 2, 2] \n",
    "deg_elementwise_q=[2, 2, 2, 2, 2, 2] \n",
    "\n",
    "deg = 2\n",
    "k=5 # cardinality constraint RHS\n",
    "M=10\n",
    "\n",
    "candidate_mons = [\n",
    "    mons_of_max_degree_and_unit_overall(x, deg, deg_overall, deg_elementwise, [])\n",
    "    for ai=axioms2\n",
    "]\n",
    "@show size.(candidate_mons)\n",
    "\n",
    "model = Model(Gurobi.Optimizer)\n",
    "set_optimizer_attribute(model, \"Presolve\", 0)\n",
    "set_optimizer_attribute(model, \"OptimalityTol\", 1e-9)\n",
    "set_optimizer_attribute(model, \"FeasibilityTol\", 1e-9)\n",
    "set_optimizer_attribute(model, \"IntFeasTol\", 1e-9)\n",
    "set_optimizer_attribute(model, \"MIPGap\", 1e-9)\n",
    "set_optimizer_attribute(model, \"Quad\", 1)\n",
    "\n",
    "\n",
    "mons_q = mons_of_max_degree_and_unit_overall([p, m₁, m₂, d₁, d₂, G] , deg, deg_overall_q, deg_elementwise_q, [])\n",
    "coeff_q =   @variable(model, [1:size(mons_q,1)], base_name=\"q\")\n",
    "abs_coeff_q =   @variable(model, [1:size(mons_q,1)], base_name=\"q\")\n",
    "\n",
    "q = sum(ci .* mi for (ci, mi)=zip(coeff_q, mons_q)) # Zip pairs things without needing a ref index, e.g., zip([1, 2, 3], [4,5,6])=((1,4), (2,5), (3,6))\n",
    "coeff_αs = [\n",
    "    @variable(model, [1:size(X,1)], base_name=\"α$i\")\n",
    "    for (i,X)=enumerate(candidate_mons)\n",
    "    ]\n",
    "@show size.(coeff_αs)\n",
    "αs = [sum(ci .* mi) for (ci, mi)=zip(coeff_αs, candidate_mons)]\n",
    "\n",
    "residual = q - sum(αᵢ * aᵢ for (αᵢ, aᵢ)=zip(αs,axioms2));\n",
    "eqs = coefficients(residual)\n",
    "\n",
    "\n",
    "@variable(model, z[i=1:size(axioms2,1)], Bin)\n",
    "\n",
    "# @constraint(model, imposeLogical1[i=1:size(axioms2,1)], coefficients(αs[i]).<= M*z[i]) \n",
    "# @constraint(model, imposeLogical2[i=1:size(axioms2,1)], -coefficients(αs[i]).<= M*z[i]) \n",
    "@constraint(model, imposeLogical[i=1:size(axioms2,1)], !(z[i]) .=> {coefficients(αs[i]).==0.0}) #logical \n",
    "\n",
    "\n",
    "@constraint(model, sum(z)<=k)\n",
    "\n",
    "# Ensure that the sum of the coefficients on the terms involving p isn't zero, in order that p is part of expression\n",
    "@constraint model sum(coeff_q[degree.(mons_q, p).>0]) == 1.0\n",
    "\n",
    "# @constraint model eqs .== 0\n",
    "@constraint model abs_coeff_q.>=coeff_q\n",
    "@constraint model abs_coeff_q.>=-coeff_q\n",
    "@variable(model, t[i=1:4]>=0.0)\n",
    "@constraint(model, imposeabs1[i=1:4], t[i]>=q(data_bin_star[i,:]))\n",
    "@constraint(model, imposeabs2[i=1:4], t[i]>=-q(data_bin_star[i,:]))\n",
    "@objective model Min 100*sum(t)+sum(abs_coeff_q)+1000*sum(abs.(eqs)) # Reduce number of non-zero coefficients via Lasso trick\n",
    "\n",
    "optimize!(model)\n",
    "@show termination_status(model)\n"
   ]
  },
  {
   "cell_type": "code",
   "execution_count": 72,
   "metadata": {},
   "outputs": [
    {
     "name": "stdout",
     "output_type": "stream",
     "text": [
      "value.(t) = [255.01255520191626, 145.3171148051224, 944.8754072092124, 34669.34502677247]\n"
     ]
    },
    {
     "data": {
      "text/plain": [
       "4-element Vector{Float64}:\n",
       "   255.01255520191626\n",
       "   145.3171148051224\n",
       "   944.8754072092124\n",
       " 34669.34502677247"
      ]
     },
     "execution_count": 72,
     "metadata": {},
     "output_type": "execute_result"
    }
   ],
   "source": [
    "@show value.(t)"
   ]
  },
  {
   "cell_type": "code",
   "execution_count": 73,
   "metadata": {},
   "outputs": [
    {
     "name": "stdout",
     "output_type": "stream",
     "text": [
      "value.(z) = [1.0, 1.0, 0.0, 1.0, 1.0, 1.0]\n"
     ]
    },
    {
     "data": {
      "text/plain": [
       "6-element Vector{Float64}:\n",
       " 1.0\n",
       " 1.0\n",
       " 0.0\n",
       " 1.0\n",
       " 1.0\n",
       " 1.0"
      ]
     },
     "execution_count": 73,
     "metadata": {},
     "output_type": "execute_result"
    }
   ],
   "source": [
    "@show value.(z)"
   ]
  },
  {
   "cell_type": "code",
   "execution_count": 77,
   "metadata": {},
   "outputs": [
    {
     "name": "stdout",
     "output_type": "stream",
     "text": [
      "value_poly2(q) = m₁m₂p²G - m₁d₁d₂² - m₂d₁²d₂ - 2.0m₂d₁d₂²\n",
      "value_αs = value_poly2.(αs) = Polynomial{true, Float64}[-d₂²p²w², -p², 0.0, d₁²p² + 2.0d₁d₂p² + d₂²p², d₁²p² + 2.0d₁d₂p² + d₂²p², m₁d₁d₂²pw + m₂d₁²d₂pw + 2.0m₂d₁d₂²pw + m₁d₁d₂² + m₂d₁²d₂ + 2.0m₂d₁d₂²]\n"
     ]
    },
    {
     "data": {
      "text/plain": [
       "6-element Vector{Polynomial{true, Float64}}:\n",
       " -d₂²p²w²\n",
       " -p²\n",
       " 0.0\n",
       " d₁²p² + 2.0d₁d₂p² + d₂²p²\n",
       " d₁²p² + 2.0d₁d₂p² + d₂²p²\n",
       " m₁d₁d₂²pw + m₂d₁²d₂pw + 2.0m₂d₁d₂²pw + m₁d₁d₂² + m₂d₁²d₂ + 2.0m₂d₁d₂²"
      ]
     },
     "execution_count": 77,
     "metadata": {},
     "output_type": "execute_result"
    }
   ],
   "source": [
    "value_poly2 = p -> sum(value.(coefficients(p)).* monomials(p))\n",
    "@show value_poly2(q)\n",
    "\n",
    "\n",
    "@show value_αs=value_poly2.(αs)\n",
    "\n",
    "\n"
   ]
  },
  {
   "cell_type": "markdown",
   "metadata": {},
   "source": [
    "# Einstein: distinguishing between axioms"
   ]
  },
  {
   "cell_type": "code",
   "execution_count": 3,
   "metadata": {},
   "outputs": [
    {
     "data": {
      "text/plain": [
       "1×8 Matrix{Variable{DynamicPolynomials.Commutative{DynamicPolynomials.CreationOrder}, Graded{LexOrder}}}:\n",
       " c  d  dt  dt₀  f₀  f  L  v"
      ]
     },
     "execution_count": 3,
     "metadata": {},
     "output_type": "execute_result"
    }
   ],
   "source": [
    "@polyvar c d dt dt₀ f₀ f L v \n",
    "x =[c d dt dt₀ f₀ f L v]"
   ]
  },
  {
   "cell_type": "code",
   "execution_count": 4,
   "metadata": {},
   "outputs": [
    {
     "data": {
      "text/plain": [
       "6-element Vector{Polynomial{DynamicPolynomials.Commutative{DynamicPolynomials.CreationOrder}, Graded{LexOrder}, Int64}}:\n",
       " -2d + cdt₀\n",
       " -2L + cdt\n",
       " -4L² + dt²v² + c²dt²\n",
       " 4L² - 4d² - dt²v²\n",
       " -1 + dt₀f₀\n",
       " -1 + dtf"
      ]
     },
     "execution_count": 4,
     "metadata": {},
     "output_type": "execute_result"
    }
   ],
   "source": [
    "axioms = [\n",
    "         c*dt₀-2*d,\n",
    "         c*dt-2*L, #Real axiom\n",
    "         dt^2*(v^2+c^2)-4*L^2, # Fake \"Newtonian\" axiom\n",
    "         4*L^2-4*d^2-v^2*dt^2,\n",
    "         f₀*dt₀-1,\n",
    "         f*dt-1\n",
    "        ]"
   ]
  },
  {
   "cell_type": "code",
   "execution_count": 5,
   "metadata": {},
   "outputs": [
    {
     "name": "stdout",
     "output_type": "stream",
     "text": [
      "thef0 * (1.0 .+ data_einstein[i, 2]) = 1.0\n",
      "thef0 * (1.0 .+ data_einstein[i, 2]) = 0.9999999999999998\n",
      "thef0 * (1.0 .+ data_einstein[i, 2]) = 0.9999999999999996\n",
      "thef0 * (1.0 .+ data_einstein[i, 2]) = 0.9999999999999984\n",
      "thef0 * (1.0 .+ data_einstein[i, 2]) = 0.9999999999999971\n",
      "thef0 * (1.0 .+ data_einstein[i, 2]) = 0.9999999999999952\n",
      "thef0 * (1.0 .+ data_einstein[i, 2]) = 0.9999999999999927\n",
      "[3.0e6 1.0 1.0 0.0055000000000000005; 3.0e6 1.0 0.9999999999999998 0.040999999999999995; 3.0e6 1.0 0.9999999999999996 0.086; 3.0e6 1.0 0.9999999999999984 0.1484; 3.0e6 1.0 0.9999999999999971 0.2218; 3.0e6 1.0 0.9999999999999952 0.2965; 3.0e6 1.0 0.9999999999999927 0.36219999999999997]"
     ]
    }
   ],
   "source": [
    "data_einstein=Array{BigFloat,2}\n",
    "data_einstein=[\n",
    "    #v # f0    # f # c\n",
    "    0.55 -0.018 0.0 0.0\n",
    "    4.10 -0.21 0.0 0.0\n",
    "    8.60 -0.43 0.0 0.0\n",
    "    14.84 -1.54 0.0 0.0\n",
    "    22.18 -2.92 0.0 0.0\n",
    "    29.65 -4.82 0.0 0.0\n",
    "    36.22 -7.36 0.0 0.0\n",
    "]\n",
    "data_einstein[:,2].*=10^-15\n",
    "\n",
    "\n",
    "\n",
    "# # Second column is originally (f-f_0)/f_0 and has units on the order of 10^-15, need to convert to f0, f\n",
    "# # Define f, f_0 to be the same order of magnitude\n",
    "thef0=1.0000\n",
    "\n",
    "speedLight=3*10^8\n",
    "\n",
    "data_einstein[:,4].=speedLight\n",
    "for i=1:7\n",
    "    data_einstein[i,3]=thef0+thef0*data_einstein[i,2]\n",
    "    @show thef0*(1.0.+data_einstein[i,2])\n",
    "    data_einstein[i,2]=thef0\n",
    "    # Rescale units to be in km, not in m (3*10^8 is not well conditioned, numerically speaking)\n",
    "    data_einstein[i,1]=data_einstein[i,1]/100.0\n",
    "    data_einstein[i,4]=data_einstein[i,4]/100.0\n",
    "end\n",
    "data_einstein=data_einstein[:, [4, 2, 3, 1]] # Change order of columns to be alphabetical and therefore consistent with polynomials package\n",
    "    \n",
    "print(data_einstein)\n",
    "\n",
    "\n",
    "ground_truth=f₀^2*v^2 + c^2*f^2 - c^2*f₀^2\n",
    "for i=1:7\n",
    "    @show ground_truth(data_einstein[i,:])\n",
    "end\n",
    "\n",
    "# Data prepared in original variables, in order that we need not introduce any new variables"
   ]
  },
  {
   "cell_type": "code",
   "execution_count": 6,
   "metadata": {},
   "outputs": [
    {
     "data": {
      "text/plain": [
       "degree_poly (generic function with 1 method)"
      ]
     },
     "execution_count": 6,
     "metadata": {},
     "output_type": "execute_result"
    }
   ],
   "source": [
    "function all_monomials_up_to_max_deg_overall(x, deg, deg_overall, deg_elem)\n",
    "    if size(x,1) == 0\n",
    "        [1]\n",
    "    else\n",
    "    [ x[1]^k * m for k=0:min(deg, deg_overall, deg_elem[1]) \n",
    "                for m=all_monomials_up_to_max_deg_overall(x[2:end], deg, deg_overall-k, deg_elem[2:end])\n",
    "    ]\n",
    "    end\n",
    "end\n",
    "\n",
    "function mons_of_max_degree_and_unit_overall(x, deg, deg_overall, deg_elem, u)\n",
    "    [m\n",
    "        for m=all_monomials_up_to_max_deg_overall(x, deg, deg_overall, deg_elem)\n",
    "        #if all(unit(m) .== u)\n",
    "    ]\n",
    "end\n",
    "                \n",
    "function degree_poly(p)\n",
    "    maximum(degree.(monomials(p)))\n",
    "end"
   ]
  },
  {
   "cell_type": "code",
   "execution_count": 9,
   "metadata": {},
   "outputs": [
    {
     "name": "stdout",
     "output_type": "stream",
     "text": [
      "size.(candidate_mons) = [(5634,), (5634,), (5634,), (5634,), (5634,), (5634,)]\n",
      "Set parameter Username\n",
      "Academic license - for non-commercial use only - expires 2024-08-14\n",
      "Set parameter Presolve to value 0\n",
      "Set parameter OptimalityTol to value 0.001\n",
      "Set parameter FeasibilityTol to value 0.001\n",
      "Set parameter IntFeasTol to value 0.001\n",
      "Set parameter MIPGap to value 0.001\n",
      "Set parameter NodeMethod to value 0\n",
      "Set parameter Method to value 0\n",
      "Set parameter NumericFocus to value 3\n",
      "size.(coeff_αs) = "
     ]
    }
   ],
   "source": [
    "### deg = 2\n",
    "deg_overall=10\n",
    "deg_overall_q=4\n",
    "\n",
    "deg_elementwise=[2, 2, 2, 2, 2, 2, 2, 2] \n",
    "deg_elementwise_q=[2, 2, 2, 2] \n",
    "\n",
    "deg = 2\n",
    "k=5 # cardinality constraint RHS\n",
    "# M=10 # \n",
    "\n",
    "candidate_mons = [\n",
    "    mons_of_max_degree_and_unit_overall(x, deg, deg_overall, deg_elementwise, [])\n",
    "    for ai=axioms\n",
    "]\n",
    "@show size.(candidate_mons)\n",
    "\n",
    "model = Model(Gurobi.Optimizer)\n",
    "\n",
    "set_optimizer_attribute(model, \"Presolve\", 0)\n",
    "set_optimizer_attribute(model, \"OptimalityTol\", 1e-3)\n",
    "set_optimizer_attribute(model, \"FeasibilityTol\", 1e-3)\n",
    "set_optimizer_attribute(model, \"IntFeasTol\", 1e-3)\n",
    "set_optimizer_attribute(model, \"MIPGap\", 1e-3)\n",
    "set_optimizer_attribute(model, \"NodeMethod\", 0)\n",
    "set_optimizer_attribute(model, \"Method\", 0)\n",
    "# Note: somewhat loose tolerance, as a very numerically unstable problem\n",
    "set_optimizer_attribute(model, \"NumericFocus\", 3)\n",
    "\n",
    "\n",
    "mons_q = mons_of_max_degree_and_unit_overall([c f₀ f v] , deg, deg_overall_q, deg_elementwise_q, [])\n",
    "coeff_q =   @variable(model, [1:size(mons_q,1)], base_name=\"q\")\n",
    "abs_coeff_q =   @variable(model, [1:size(mons_q,1)], base_name=\"q\")\n",
    "\n",
    "q = sum(ci .* mi for (ci, mi)=zip(coeff_q, mons_q)) # Zip pairs things without needing a ref index, e.g., zip([1, 2, 3], [4,5,6])=((1,4), (2,5), (3,6))\n",
    "coeff_αs = [\n",
    "    @variable(model, [1:size(X,1)], base_name=\"α$i\")\n",
    "    for (i,X)=enumerate(candidate_mons)\n",
    "    ]\n",
    "@show size.(coeff_αs)\n",
    "αs = [sum(ci .* mi) for (ci, mi)=zip(coeff_αs, candidate_mons)]\n",
    "\n",
    "residual = q - sum(αᵢ * aᵢ for (αᵢ, aᵢ)=zip(αs,axioms));\n",
    "eqs = coefficients(residual)\n",
    "\n",
    "\n",
    "@variable(model, z[i=1:size(axioms,1)], Bin)\n",
    "\n",
    "@constraint(model, imposeLogical[i=1:size(axioms,1)], !(z[i]) .=> {coefficients(αs[i]).==0.0}) #logical \n",
    "\n",
    "\n",
    "\n",
    "@constraint(model, sum(z)<=k)\n",
    "\n",
    "# Ensure that the sum of the coefficients on the terms involving v isn't zero, in order that v is part of expression\n",
    "@constraint model sum(coeff_q[degree.(mons_q, f).>0]) == 1.0\n",
    "\n",
    "@constraint model eqs .== 0\n",
    "@constraint model abs_coeff_q.>=coeff_q\n",
    "@constraint model abs_coeff_q.>=-coeff_q\n",
    "# # @objective model Max 0\n",
    "@variable(model, t[i=1:7]>=0.0)\n",
    "@constraint(model, imposeabs[i=1:7], t[i]>=q(data_einstein[i,:]))\n",
    "@constraint(model, imposeabs2[i=1:7], t[i]>=-q(data_einstein[i,:]))\n",
    "@objective model Min 0.001*sum(abs_coeff_q)+ 10^6*sum(t)\n",
    "\n",
    "optimize!(model)\n",
    "@show termination_status(model)"
   ]
  },
  {
   "cell_type": "code",
   "execution_count": null,
   "metadata": {},
   "outputs": [
    {
     "name": "stdout",
     "output_type": "stream",
     "text": [
      "value.(t) = [0.0, 0.0011272430419921875, 0.0018053054809570312, 0.0021076202392578125, 0.0, 0.004910469055175781, 0.0]\n",
      "value.(z) = [1.0, 1.0, -0.0, 1.0, 1.0, 1.0]\n",
      "value_poly2(q) = -c²f₀² + c²f² - 9.389298021553431e-15c²v² + f₀²v² - 2.4930024825566218e-17c²f₀ + 3.967856195787149e-15c²v\n"
     ]
    },
    {
     "data": {
      "text/latex": [
       "$$ -c^{2}f₀^{2} + c^{2}f^{2} - 9.389298021553431e-15c^{2}v^{2} + f₀^{2}v^{2} - 2.4930024825566218e-17c^{2}f₀ + 3.967856195787149e-15c^{2}v $$"
      ],
      "text/plain": [
       "-c²f₀² + c²f² - 9.389298021553431e-15c²v² + f₀²v² - 2.4930024825566218e-17c²f₀ + 3.967856195787149e-15c²v"
      ]
     },
     "execution_count": 92,
     "metadata": {},
     "output_type": "execute_result"
    }
   ],
   "source": [
    "@show value.(t)\n",
    "@show value.(z)\n",
    "@show value_poly2(q)"
   ]
  },
  {
   "cell_type": "code",
   "execution_count": null,
   "metadata": {},
   "outputs": [
    {
     "name": "stdout",
     "output_type": "stream",
     "text": [
      "value_poly2.(αs) = Polynomial{true, Float64}[2.0df₀²f² + cf₀f², -2.0f₀²f²L - cf₀²f, 0.0, -f₀²f², -2.0cdf₀f² - c²f², -dtf₀²fv² + 2.0cf₀²fL + c²f₀² - f₀²v²]\n"
     ]
    },
    {
     "data": {
      "text/plain": [
       "6-element Vector{Polynomial{true, Float64}}:\n",
       " 2.0df₀²f² + cf₀f²\n",
       " -2.0f₀²f²L - cf₀²f\n",
       " 0.0\n",
       " -f₀²f²\n",
       " -2.0cdf₀f² - c²f²\n",
       " -dtf₀²fv² + 2.0cf₀²fL + c²f₀² - f₀²v²"
      ]
     },
     "execution_count": 93,
     "metadata": {},
     "output_type": "execute_result"
    }
   ],
   "source": [
    "@show value_poly2.(αs)"
   ]
  },
  {
   "cell_type": "code",
   "execution_count": null,
   "metadata": {},
   "outputs": [],
   "source": [
    "### deg = 2, Kepler version with equality constraint relaxed\n",
    "deg_overall=6\n",
    "deg_overall_q=5\n",
    "\n",
    "deg_elementwise=[2, 2, 2, 2, 2, 2, 2, 2, 2] \n",
    "deg_elementwise_q=[2, 2, 2, 2, 2, 2] \n",
    "\n",
    "deg = 2\n",
    "k=5 # cardinality constraint RHS\n",
    "M=10\n",
    "\n",
    "candidate_mons = [\n",
    "    mons_of_max_degree_and_unit_overall(x, deg, deg_overall, deg_elementwise, [])\n",
    "    for ai=axioms2\n",
    "]\n",
    "@show size.(candidate_mons)\n",
    "\n",
    "model = Model(Gurobi.Optimizer)\n",
    "set_optimizer_attribute(model, \"Presolve\", 0)\n",
    "set_optimizer_attribute(model, \"OptimalityTol\", 1e-9)\n",
    "set_optimizer_attribute(model, \"FeasibilityTol\", 1e-9)\n",
    "set_optimizer_attribute(model, \"IntFeasTol\", 1e-9)\n",
    "set_optimizer_attribute(model, \"MIPGap\", 1e-9)\n",
    "set_optimizer_attribute(model, \"Quad\", 1)\n",
    "\n",
    "\n",
    "mons_q = mons_of_max_degree_and_unit_overall([p, m₁, m₂, d₁, d₂, G] , deg, deg_overall_q, deg_elementwise_q, [])\n",
    "coeff_q =   @variable(model, [1:size(mons_q,1)], base_name=\"q\")\n",
    "abs_coeff_q =   @variable(model, [1:size(mons_q,1)], base_name=\"q\")\n",
    "\n",
    "q = sum(ci .* mi for (ci, mi)=zip(coeff_q, mons_q)) # Zip pairs things without needing a ref index, e.g., zip([1, 2, 3], [4,5,6])=((1,4), (2,5), (3,6))\n",
    "coeff_αs = [\n",
    "    @variable(model, [1:size(X,1)], base_name=\"α$i\")\n",
    "    for (i,X)=enumerate(candidate_mons)\n",
    "    ]\n",
    "@show size.(coeff_αs)\n",
    "αs = [sum(ci .* mi) for (ci, mi)=zip(coeff_αs, candidate_mons)]\n",
    "\n",
    "residual = q - sum(αᵢ * aᵢ for (αᵢ, aᵢ)=zip(αs,axioms2));\n",
    "eqs = coefficients(residual)\n",
    "@show size(eqs)\n",
    "@variable(model, abseqs[i=1:size(eqs,1)])\n",
    "@constraint model abseqs.>=eqs\n",
    "@constraint model abseqs.>=-eqs\n",
    "\n",
    "\n",
    "@variable(model, z[i=1:size(axioms2,1)], Bin)\n",
    "\n",
    "# @constraint(model, imposeLogical1[i=1:size(axioms2,1)], coefficients(αs[i]).<= M*z[i]) \n",
    "# @constraint(model, imposeLogical2[i=1:size(axioms2,1)], -coefficients(αs[i]).<= M*z[i]) \n",
    "@constraint(model, imposeLogical[i=1:size(axioms2,1)], !(z[i]) .=> {coefficients(αs[i]).==0.0}) #logical \n",
    "\n",
    "\n",
    "@constraint(model, sum(z)<=k)\n",
    "\n",
    "# Ensure that the sum of the coefficients on the terms involving p isn't zero, in order that p is part of expression\n",
    "@constraint model sum(coeff_q[degree.(mons_q, p).>0]) == 1.0\n",
    "\n",
    "# @constraint model eqs .== 0\n",
    "@constraint model abs_coeff_q.>=coeff_q\n",
    "@constraint model abs_coeff_q.>=-coeff_q\n",
    "@variable(model, t[i=1:4]>=0.0)\n",
    "@constraint(model, imposeabs1[i=1:4], t[i]>=q(data_bin_star[i,:]))\n",
    "@constraint(model, imposeabs2[i=1:4], t[i]>=-q(data_bin_star[i,:]))\n",
    "@objective model Min 100*sum(t)+sum(abs_coeff_q)+1000*sum(abseqs) # Reduce number of non-zero coefficients via Lasso trick\n",
    "\n",
    "optimize!(model)\n",
    "@show termination_status(model)\n"
   ]
  }
 ],
 "metadata": {
  "kernelspec": {
   "display_name": "Julia 1.10.2",
   "language": "julia",
   "name": "julia-1.10"
  },
  "language_info": {
   "file_extension": ".jl",
   "mimetype": "application/julia",
   "name": "julia",
   "version": "1.9.1"
  }
 },
 "nbformat": 4,
 "nbformat_minor": 2
}
