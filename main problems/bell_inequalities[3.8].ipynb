{
 "cells": [
  {
   "cell_type": "markdown",
   "id": "13702a10",
   "metadata": {},
   "source": [
    "# This notebook contains the code for section 3.8\n"
   ]
  },
  {
   "cell_type": "code",
   "execution_count": 2,
   "id": "77600d9b",
   "metadata": {},
   "outputs": [],
   "source": [
    "using DynamicPolynomials\n",
    "using JuMP\n",
    "using MosekTools\n",
    "using LinearAlgebra\n",
    "using CSV\n",
    "using DataFrames\n",
    "import JSON\n",
    "using Dates\n",
    "using Gurobi\n",
    "using Symbolics"
   ]
  },
  {
   "cell_type": "markdown",
   "id": "cc16342b",
   "metadata": {},
   "source": [
    "# Bell's Inequality (building towards CHSH)"
   ]
  },
  {
   "cell_type": "code",
   "execution_count": 4,
   "id": "38cfed6c",
   "metadata": {},
   "outputs": [],
   "source": [
    "using SumOfSquares"
   ]
  },
  {
   "cell_type": "code",
   "execution_count": 5,
   "id": "8bd11f4f",
   "metadata": {},
   "outputs": [
    {
     "data": {
      "text/plain": [
       "1×8 Matrix{DynamicPolynomials.Variable{DynamicPolynomials.Commutative{DynamicPolynomials.CreationOrder}, Graded{LexOrder}}}:\n",
       " pₕₕₕ  pₕₕₜ  pₕₜₕ  pₕₜₜ  pₜₕₕ  pₜₕₜ  pₜₜₕ  pₜₜₜ"
      ]
     },
     "execution_count": 5,
     "metadata": {},
     "output_type": "execute_result"
    }
   ],
   "source": [
    "@polyvar pₕₕₕ pₕₕₜ pₕₜₕ pₕₜₜ pₜₕₕ pₜₕₜ pₜₜₕ pₜₜₜ\n",
    "# @polyvar s_AB s_AC s_BC\n",
    "\n",
    "vars =[pₕₕₕ pₕₕₜ pₕₜₕ pₕₜₜ pₜₕₕ pₜₕₜ pₜₜₕ pₜₜₜ]"
   ]
  },
  {
   "cell_type": "code",
   "execution_count": 6,
   "id": "9c56242f",
   "metadata": {},
   "outputs": [
    {
     "data": {
      "text/latex": [
       "$$ 3pₜₜₜ + pₜₜₕ + pₜₕₜ + pₜₕₕ + pₕₜₜ + pₕₜₕ + pₕₕₜ + 3pₕₕₕ $$"
      ],
      "text/plain": [
       "3pₜₜₜ + pₜₜₕ + pₜₕₜ + pₜₕₕ + pₕₜₜ + pₕₜₕ + pₕₕₜ + 3pₕₕₕ"
      ]
     },
     "execution_count": 6,
     "metadata": {},
     "output_type": "execute_result"
    }
   ],
   "source": [
    "# axioms other than non-negativity, then non-negativity ones\n",
    "# axioms=[\n",
    "#     pₕₕₕ+pₕₕₜ+pₕₜₕ+pₕₜₜ+pₜₕₕ+pₜₕₜ+pₜₜₕ+pₜₜₜ-1,\n",
    "#     s_AB-pₕₕₕ-pₕₕₜ-pₜₜₕ-pₜₜₜ,\n",
    "#     s_AC-pₕₕₕ-pₕₜₕ-pₜₕₜ-pₜₜₜ,\n",
    "#     s_BC-pₕₕₕ-pₕₜₜ-pₜₕₜ-pₜₜₜ\n",
    "#     ]\n",
    "\n",
    "p_AB = pₕₕₕ+pₕₕₜ+pₜₜₕ+pₜₜₜ\n",
    "p_AC = pₕₕₕ+pₕₜₕ+pₜₕₜ+pₜₜₜ\n",
    "p_BC =pₕₕₕ+pₕₜₜ+pₜₕₕ+pₜₜₜ\n",
    "\n",
    "\n",
    "S = @set pₕₕₕ >= 0 && pₕₕₜ >=0 && pₕₜₕ >=0 && pₕₜₜ >=0 && pₜₕₕ >=0 && pₜₕₜ >=0 && pₜₜₕ >=0 && pₜₜₜ >=0 && pₕₕₕ+pₕₕₜ+pₕₜₕ+pₕₜₜ+pₜₕₕ+pₜₕₜ+pₜₜₕ+pₜₜₜ==1\n",
    "\n",
    "p= p_AB+p_AC+p_BC"
   ]
  },
  {
   "cell_type": "code",
   "execution_count": 7,
   "id": "c2ae6b5c",
   "metadata": {},
   "outputs": [
    {
     "name": "stdout",
     "output_type": "stream",
     "text": [
      "Problem\n",
      "  Name                   :                 \n",
      "  Objective sense        : maximize        \n",
      "  Type                   : LO (linear optimization problem)\n",
      "  Constraints            : 8               \n",
      "  Affine conic cons.     : 0               \n",
      "  Disjunctive cons.      : 0               \n",
      "  Cones                  : 0               \n",
      "  Scalar variables       : 10              \n",
      "  Matrix variables       : 0               \n",
      "  Integer variables      : 0               \n",
      "\n",
      "Optimizer started.\n",
      "Presolve started.\n",
      "Eliminator started.\n",
      "Freed constraints in eliminator : 0\n",
      "Eliminator terminated.\n",
      "Eliminator - tries                  : 1                 time                   : 0.00            \n",
      "Lin. dep.  - tries                  : 0                 time                   : 0.00            \n",
      "Lin. dep.  - primal attempts        : 0                 successes              : 0               \n",
      "Lin. dep.  - dual attempts          : 0                 successes              : 0               \n",
      "Lin. dep.  - primal deps.           : 0                 dual deps.             : 0               \n",
      "Presolve terminated. Time: 0.00    \n",
      "Optimizer terminated. Time: 0.02    \n",
      "\n"
     ]
    }
   ],
   "source": [
    "model= SOSModel(Mosek.Optimizer)\n",
    "\n",
    "@variable(model, gamma)\n",
    "@objective(model, Max, gamma)\n",
    "con_ref=@constraint(model, p>=gamma, domain=S)\n",
    "optimize!(model)"
   ]
  },
  {
   "cell_type": "code",
   "execution_count": 10,
   "id": "e04c2ae5",
   "metadata": {},
   "outputs": [
    {
     "name": "stdout",
     "output_type": "stream",
     "text": [
      "termination_status(model) = MathOptInterface.OPTIMAL\n",
      "objective_value(model) = 1.0\n"
     ]
    },
    {
     "data": {
      "text/plain": [
       "1.0"
      ]
     },
     "execution_count": 10,
     "metadata": {},
     "output_type": "execute_result"
    }
   ],
   "source": [
    "@show termination_status(model)\n",
    "@show objective_value(model)"
   ]
  },
  {
   "cell_type": "code",
   "execution_count": 11,
   "id": "420f5248",
   "metadata": {},
   "outputs": [
    {
     "name": "stdout",
     "output_type": "stream",
     "text": [
      "value(gamma) = 1.0\n"
     ]
    },
    {
     "data": {
      "text/plain": [
       "1.0"
      ]
     },
     "execution_count": 11,
     "metadata": {},
     "output_type": "execute_result"
    }
   ],
   "source": [
    "@show value(gamma)"
   ]
  },
  {
   "cell_type": "code",
   "execution_count": 73,
   "id": "98bd54fb",
   "metadata": {},
   "outputs": [],
   "source": [
    "# Verifies that a valid lower bound on this inequality is 1.0\n",
    "# Let us now extract the multipliers that verify this, to provide an axiomatic \"proof\" of the result\n"
   ]
  },
  {
   "cell_type": "code",
   "execution_count": 12,
   "id": "c892ad23",
   "metadata": {},
   "outputs": [
    {
     "name": "stdout",
     "output_type": "stream",
     "text": [
      "pₕₕₕ * ((SumOfSquares.lagrangian_multipliers(con_ref))[1])[1] + pₕₕₜ * ((SumOfSquares.lagrangian_multipliers(con_ref))[2])[1] + pₕₜₕ * ((SumOfSquares.lagrangian_multipliers(con_ref))[3])[1] + pₕₜₜ * ((SumOfSquares.lagrangian_multipliers(con_ref))[4])[1] + pₜₕₕ * ((SumOfSquares.lagrangian_multipliers(con_ref))[5])[1] + pₜₕₜ * ((SumOfSquares.lagrangian_multipliers(con_ref))[6])[1] + pₜₜₕ * ((SumOfSquares.lagrangian_multipliers(con_ref))[7])[1] + pₜₜₜ * ((SumOfSquares.lagrangian_multipliers(con_ref))[8])[1] = 2.0pₜₜₜ + 2.0pₕₕₕ\n"
     ]
    },
    {
     "data": {
      "text/latex": [
       "$$ 2.0pₜₜₜ + 2.0pₕₕₕ $$"
      ],
      "text/plain": [
       "2.0pₜₜₜ + 2.0pₕₕₕ"
      ]
     },
     "execution_count": 12,
     "metadata": {},
     "output_type": "execute_result"
    }
   ],
   "source": [
    "@show pₕₕₕ*SumOfSquares.lagrangian_multipliers(con_ref)[1][1]+pₕₕₜ * SumOfSquares.lagrangian_multipliers(con_ref)[2][1]+pₕₜₕ * SumOfSquares.lagrangian_multipliers(con_ref)[3][1]+ pₕₜₜ * SumOfSquares.lagrangian_multipliers(con_ref)[4][1]+ pₜₕₕ * SumOfSquares.lagrangian_multipliers(con_ref)[5][1]+ pₜₕₜ * SumOfSquares.lagrangian_multipliers(con_ref)[6][1]+ pₜₜₕ * SumOfSquares.lagrangian_multipliers(con_ref)[7][1]+ pₜₜₜ * SumOfSquares.lagrangian_multipliers(con_ref)[8][1]"
   ]
  },
  {
   "cell_type": "markdown",
   "id": "41612b9a",
   "metadata": {},
   "source": [
    "This verifies that P_ab+P_ac+P_bc>=1, since this is 2.0 p_hh+2.0 p_tt>=0 mod ideal."
   ]
  },
  {
   "cell_type": "markdown",
   "id": "e7474565",
   "metadata": {},
   "source": [
    "# CHSH inequality now"
   ]
  },
  {
   "cell_type": "markdown",
   "id": "9758f741",
   "metadata": {},
   "source": [
    "Define random variables A, A', B, B' which take values +-1\n",
    "\n",
    "Let s=AB-AB'+A'B+A'B'\n",
    "\n",
    "We want to show that E[|S|]<=2, which violates the 2 sqrt(2) value predicted from Trirelson's bound."
   ]
  },
  {
   "cell_type": "code",
   "execution_count": 13,
   "id": "b81ecfb5",
   "metadata": {},
   "outputs": [
    {
     "data": {
      "text/latex": [
       "$$ 2.0pₜₜₜₜ + 2.0pₜₜₕₜ + 2.0pₜₕₜₜ + 2.0pₜₕₕₜ + 2.0pₕₜₜₜ + 2.0pₕₜₕₜ + 2.0pₕₕₜₜ + 2.0pₕₕₕₜ + 2.0pₜₜₜₕ + 2.0pₜₜₕₕ + 2.0pₜₕₜₕ + 2.0pₜₕₕₕ + 2.0pₕₜₜₕ + 2.0pₕₜₕₕ + 2.0pₕₕₜₕ + 2.0pₕₕₕₕ $$"
      ],
      "text/plain": [
       "2.0pₜₜₜₜ + 2.0pₜₜₕₜ + 2.0pₜₕₜₜ + 2.0pₜₕₕₜ + 2.0pₕₜₜₜ + 2.0pₕₜₕₜ + 2.0pₕₕₜₜ + 2.0pₕₕₕₜ + 2.0pₜₜₜₕ + 2.0pₜₜₕₕ + 2.0pₜₕₜₕ + 2.0pₜₕₕₕ + 2.0pₕₜₜₕ + 2.0pₕₜₕₕ + 2.0pₕₕₜₕ + 2.0pₕₕₕₕ"
      ]
     },
     "execution_count": 13,
     "metadata": {},
     "output_type": "execute_result"
    }
   ],
   "source": [
    "@polyvar pₕₕₕₕ pₕₕₜₕ pₕₜₕₕ pₕₜₜₕ pₜₕₕₕ pₜₕₜₕ pₜₜₕₕ pₜₜₜₕ pₕₕₕₜ pₕₕₜₜ pₕₜₕₜ pₕₜₜₜ pₜₕₕₜ pₜₕₜₜ pₜₜₕₜ pₜₜₜₜ\n",
    "\n",
    "S=@set pₕₕₕₕ >=0.0 && pₕₕₜₕ >=0.0 && pₕₜₕₕ >=0.0 && pₕₜₜₕ >=0.0 && pₜₕₕₕ >=0.0 && pₜₕₜₕ >=0.0 && pₜₜₕₕ >=0.0 && pₜₜₜₕ >=0.0 && pₕₕₕₜ >= 0.0 && pₕₕₜₜ >= 0.0 && pₕₜₕₜ >=0.0 && pₕₜₜₜ >= 0.0 && pₜₕₕₜ >=0.0 &&  pₜₕₜₜ >= 0.0 && pₜₜₕₜ >= 0.0 && pₜₜₜₜ >= 0.0&& pₕₕₕₕ + pₕₕₜₕ + pₕₜₕₕ + pₕₜₜₕ + pₜₕₕₕ + pₜₕₜₕ + pₜₜₕₕ + pₜₜₜₕ + pₕₕₕₜ + pₕₕₜₜ + pₕₜₕₜ + pₕₜₜₜ + pₜₕₕₜ + pₜₕₜₜ + pₜₜₕₜ + pₜₜₜₜ== 1.0\n",
    "\n",
    "E_abs_s=2.0*(pₕₕₕₕ + pₕₕₜₕ + pₕₜₕₕ + pₕₜₜₕ + pₜₕₕₕ + pₜₕₜₕ + pₜₜₕₕ + pₜₜₜₕ + pₕₕₕₜ + pₕₕₜₜ + pₕₜₕₜ + pₕₜₜₜ + pₜₕₕₜ + pₜₕₜₜ + pₜₜₕₜ + pₜₜₜₜ)\n",
    "\n"
   ]
  },
  {
   "cell_type": "code",
   "execution_count": 14,
   "id": "65cf8793",
   "metadata": {},
   "outputs": [
    {
     "name": "stdout",
     "output_type": "stream",
     "text": [
      "Problem\n",
      "  Name                   :                 \n",
      "  Objective sense        : minimize        \n",
      "  Type                   : LO (linear optimization problem)\n",
      "  Constraints            : 16              \n",
      "  Affine conic cons.     : 0               \n",
      "  Disjunctive cons.      : 0               \n",
      "  Cones                  : 0               \n",
      "  Scalar variables       : 18              \n",
      "  Matrix variables       : 0               \n",
      "  Integer variables      : 0               \n",
      "\n",
      "Optimizer started.\n",
      "Presolve started.\n",
      "Eliminator - tries                  : 0                 time                   : 0.00            \n",
      "Lin. dep.  - tries                  : 0                 time                   : 0.00            \n",
      "Lin. dep.  - primal attempts        : 0                 successes              : 0               \n",
      "Lin. dep.  - dual attempts          : 0                 successes              : 0               \n",
      "Lin. dep.  - primal deps.           : 0                 dual deps.             : 0               \n",
      "Presolve terminated. Time: 0.00    \n",
      "Optimizer terminated. Time: 0.00    \n",
      "\n"
     ]
    }
   ],
   "source": [
    "model= SOSModel(Mosek.Optimizer)\n",
    "\n",
    "@variable(model, gamma)\n",
    "@objective(model, Min, gamma)\n",
    "con_ref=@constraint(model, gamma>=E_abs_s, domain=S)\n",
    "optimize!(model)"
   ]
  },
  {
   "cell_type": "code",
   "execution_count": 15,
   "id": "e0db80f6",
   "metadata": {},
   "outputs": [
    {
     "name": "stdout",
     "output_type": "stream",
     "text": [
      "objective_value(model) = 2.0\n"
     ]
    },
    {
     "data": {
      "text/plain": [
       "2.0"
      ]
     },
     "execution_count": 15,
     "metadata": {},
     "output_type": "execute_result"
    }
   ],
   "source": [
    "@show objective_value(model)"
   ]
  },
  {
   "cell_type": "code",
   "execution_count": 16,
   "id": "5a0ea5c3",
   "metadata": {},
   "outputs": [
    {
     "name": "stdout",
     "output_type": "stream",
     "text": [
      "lagrangian_multipliers(con_ref) = GramMatrix{Float64, MonomialBasis{Monomial{DynamicPolynomials.Commutative{DynamicPolynomials.CreationOrder}, Graded{LexOrder}}, MonomialVector{DynamicPolynomials.Commutative{DynamicPolynomials.CreationOrder}, Graded{LexOrder}}}, Float64, SymMatrix{Float64}}[GramMatrix with row/column basis:\n",
      " MonomialBasis([1])\n",
      "And entries in a 1×1 SymMatrix{Float64}:\n",
      " 0.0, GramMatrix with row/column basis:\n",
      " MonomialBasis([1])\n",
      "And entries in a 1×1 SymMatrix{Float64}:\n",
      " -0.0, GramMatrix with row/column basis:\n",
      " MonomialBasis([1])\n",
      "And entries in a 1×1 SymMatrix{Float64}:\n",
      " -0.0, GramMatrix with row/column basis:\n",
      " MonomialBasis([1])\n",
      "And entries in a 1×1 SymMatrix{Float64}:\n",
      " -0.0, GramMatrix with row/column basis:\n",
      " MonomialBasis([1])\n",
      "And entries in a 1×1 SymMatrix{Float64}:\n",
      " -0.0, GramMatrix with row/column basis:\n",
      " MonomialBasis([1])\n",
      "And entries in a 1×1 SymMatrix{Float64}:\n",
      " -0.0, GramMatrix with row/column basis:\n",
      " MonomialBasis([1])\n",
      "And entries in a 1×1 SymMatrix{Float64}:\n",
      " -0.0, GramMatrix with row/column basis:\n",
      " MonomialBasis([1])\n",
      "And entries in a 1×1 SymMatrix{Float64}:\n",
      " -0.0, GramMatrix with row/column basis:\n",
      " MonomialBasis([1])\n",
      "And entries in a 1×1 SymMatrix{Float64}:\n",
      " -0.0, GramMatrix with row/column basis:\n",
      " MonomialBasis([1])\n",
      "And entries in a 1×1 SymMatrix{Float64}:\n",
      " -0.0, GramMatrix with row/column basis:\n",
      " MonomialBasis([1])\n",
      "And entries in a 1×1 SymMatrix{Float64}:\n",
      " -0.0, GramMatrix with row/column basis:\n",
      " MonomialBasis([1])\n",
      "And entries in a 1×1 SymMatrix{Float64}:\n",
      " -0.0, GramMatrix with row/column basis:\n",
      " MonomialBasis([1])\n",
      "And entries in a 1×1 SymMatrix{Float64}:\n",
      " -0.0, GramMatrix with row/column basis:\n",
      " MonomialBasis([1])\n",
      "And entries in a 1×1 SymMatrix{Float64}:\n",
      " -0.0, GramMatrix with row/column basis:\n",
      " MonomialBasis([1])\n",
      "And entries in a 1×1 SymMatrix{Float64}:\n",
      " -0.0, GramMatrix with row/column basis:\n",
      " MonomialBasis([1])\n",
      "And entries in a 1×1 SymMatrix{Float64}:\n",
      " 0.0]\n"
     ]
    },
    {
     "data": {
      "text/plain": [
       "16-element Vector{GramMatrix{Float64, MonomialBasis{Monomial{DynamicPolynomials.Commutative{DynamicPolynomials.CreationOrder}, Graded{LexOrder}}, MonomialVector{DynamicPolynomials.Commutative{DynamicPolynomials.CreationOrder}, Graded{LexOrder}}}, Float64, SymMatrix{Float64}}}:\n",
       " GramMatrix with row/column basis:\n",
       " MonomialBasis([1])\n",
       "And entries in a 1×1 SymMatrix{Float64}:\n",
       " 0.0\n",
       " GramMatrix with row/column basis:\n",
       " MonomialBasis([1])\n",
       "And entries in a 1×1 SymMatrix{Float64}:\n",
       " -0.0\n",
       " GramMatrix with row/column basis:\n",
       " MonomialBasis([1])\n",
       "And entries in a 1×1 SymMatrix{Float64}:\n",
       " -0.0\n",
       " GramMatrix with row/column basis:\n",
       " MonomialBasis([1])\n",
       "And entries in a 1×1 SymMatrix{Float64}:\n",
       " -0.0\n",
       " GramMatrix with row/column basis:\n",
       " MonomialBasis([1])\n",
       "And entries in a 1×1 SymMatrix{Float64}:\n",
       " -0.0\n",
       " GramMatrix with row/column basis:\n",
       " MonomialBasis([1])\n",
       "And entries in a 1×1 SymMatrix{Float64}:\n",
       " -0.0\n",
       " GramMatrix with row/column basis:\n",
       " MonomialBasis([1])\n",
       "And entries in a 1×1 SymMatrix{Float64}:\n",
       " -0.0\n",
       " GramMatrix with row/column basis:\n",
       " MonomialBasis([1])\n",
       "And entries in a 1×1 SymMatrix{Float64}:\n",
       " -0.0\n",
       " GramMatrix with row/column basis:\n",
       " MonomialBasis([1])\n",
       "And entries in a 1×1 SymMatrix{Float64}:\n",
       " -0.0\n",
       " GramMatrix with row/column basis:\n",
       " MonomialBasis([1])\n",
       "And entries in a 1×1 SymMatrix{Float64}:\n",
       " -0.0\n",
       " GramMatrix with row/column basis:\n",
       " MonomialBasis([1])\n",
       "And entries in a 1×1 SymMatrix{Float64}:\n",
       " -0.0\n",
       " GramMatrix with row/column basis:\n",
       " MonomialBasis([1])\n",
       "And entries in a 1×1 SymMatrix{Float64}:\n",
       " -0.0\n",
       " GramMatrix with row/column basis:\n",
       " MonomialBasis([1])\n",
       "And entries in a 1×1 SymMatrix{Float64}:\n",
       " -0.0\n",
       " GramMatrix with row/column basis:\n",
       " MonomialBasis([1])\n",
       "And entries in a 1×1 SymMatrix{Float64}:\n",
       " -0.0\n",
       " GramMatrix with row/column basis:\n",
       " MonomialBasis([1])\n",
       "And entries in a 1×1 SymMatrix{Float64}:\n",
       " -0.0\n",
       " GramMatrix with row/column basis:\n",
       " MonomialBasis([1])\n",
       "And entries in a 1×1 SymMatrix{Float64}:\n",
       " 0.0"
      ]
     },
     "execution_count": 16,
     "metadata": {},
     "output_type": "execute_result"
    }
   ],
   "source": [
    "@show lagrangian_multipliers(con_ref)"
   ]
  },
  {
   "cell_type": "markdown",
   "id": "eaec0dd6",
   "metadata": {},
   "source": [
    "# Multipliers are all zero, which is because this inequality is 0.0>=0.0 mod ideal."
   ]
  },
  {
   "cell_type": "code",
   "execution_count": 17,
   "id": "4f0c67c9",
   "metadata": {},
   "outputs": [],
   "source": [
    "# Deriving the I3322 inequality, using indexing.\n",
    "# Let \"1\" denote -1, \"2\" denote 1\n",
    "@polyvar p[1:2, 1:2, 1:2, 1:2, 1:2, 1:2]\n",
    "S=@set sum(p)==1 \n",
    "# Append to set, without writing out fully (nested loop since syntax to do more nicely does not, to my knowledge, currently exist)\n",
    "for i1=1:2\n",
    "    for i2=1:2\n",
    "        for i3=1:2\n",
    "            for i4=1:2\n",
    "                for i5=1:2\n",
    "                    for i6=1:2\n",
    "                        S=@set S && p[i1,i2,i3,i4,i5,i6]>=0.0\n",
    "                    end\n",
    "                end\n",
    "            end\n",
    "        end\n",
    "    end\n",
    "end"
   ]
  },
  {
   "cell_type": "code",
   "execution_count": 18,
   "id": "ceacdce2",
   "metadata": {},
   "outputs": [
    {
     "data": {
      "text/latex": [
       "$$ 4.0p_{2,2,2,2,2,2} + 4.0p_{2,1,2,2,2,2} - 4.0p_{1,2,1,2,2,2} - 4.0p_{1,1,1,2,2,2} - 8.0p_{1,2,2,1,2,2} + 4.0p_{2,1,2,1,2,2} - 4.0p_{1,1,2,1,2,2} - 8.0p_{1,2,1,1,2,2} + 4.0p_{2,1,1,1,2,2} - 4.0p_{1,1,1,1,2,2} + 4.0p_{2,2,2,2,1,2} + 4.0p_{1,2,2,2,1,2} + 4.0p_{2,2,1,2,1,2} + 4.0p_{1,2,1,2,1,2} - 4.0p_{1,2,2,1,1,2} - 4.0p_{1,1,2,1,1,2} + 4.0p_{2,2,1,1,1,2} + 4.0p_{2,1,1,1,1,2} + 4.0p_{2,1,2,2,2,1} + 4.0p_{1,1,2,2,2,1} - 4.0p_{2,2,1,2,2,1} - 4.0p_{1,2,1,2,2,1} - 4.0p_{2,2,2,1,2,1} - 8.0p_{1,2,2,1,2,1} + 4.0p_{2,1,2,1,2,1} - 4.0p_{2,2,1,1,2,1} - 8.0p_{1,2,1,1,2,1} + 4.0p_{2,1,1,1,2,1} + 4.0p_{1,2,2,2,1,1} + 4.0p_{1,1,2,2,1,1} + 4.0p_{1,2,1,2,1,1} + 4.0p_{1,1,1,2,1,1} - 4.0p_{2,2,2,1,1,1} - 4.0p_{1,2,2,1,1,1} + 4.0p_{2,1,1,1,1,1} + 4.0p_{1,1,1,1,1,1} $$"
      ],
      "text/plain": [
       "4.0p₂₋₂₋₂₋₂₋₂₋₂ + 4.0p₂₋₁₋₂₋₂₋₂₋₂ - 4.0p₁₋₂₋₁₋₂₋₂₋₂ - 4.0p₁₋₁₋₁₋₂₋₂₋₂ - 8.0p₁₋₂₋₂₋₁₋₂₋₂ + 4.0p₂₋₁₋₂₋₁₋₂₋₂ - 4.0p₁₋₁₋₂₋₁₋₂₋₂ - 8.0p₁₋₂₋₁₋₁₋₂₋₂ + 4.0p₂₋₁₋₁₋₁₋₂₋₂ - 4.0p₁₋₁₋₁₋₁₋₂₋₂ + 4.0p₂₋₂₋₂₋₂₋₁₋₂ + 4.0p₁₋₂₋₂₋₂₋₁₋₂ + 4.0p₂₋₂₋₁₋₂₋₁₋₂ + 4.0p₁₋₂₋₁₋₂₋₁₋₂ - 4.0p₁₋₂₋₂₋₁₋₁₋₂ - 4.0p₁₋₁₋₂₋₁₋₁₋₂ + 4.0p₂₋₂₋₁₋₁₋₁₋₂ + 4.0p₂₋₁₋₁₋₁₋₁₋₂ + 4.0p₂₋₁₋₂₋₂₋₂₋₁ + 4.0p₁₋₁₋₂₋₂₋₂₋₁ - 4.0p₂₋₂₋₁₋₂₋₂₋₁ - 4.0p₁₋₂₋₁₋₂₋₂₋₁ - 4.0p₂₋₂₋₂₋₁₋₂₋₁ - 8.0p₁₋₂₋₂₋₁₋₂₋₁ + 4.0p₂₋₁₋₂₋₁₋₂₋₁ - 4.0p₂₋₂₋₁₋₁₋₂₋₁ - 8.0p₁₋₂₋₁₋₁₋₂₋₁ + 4.0p₂₋₁₋₁₋₁₋₂₋₁ + 4.0p₁₋₂₋₂₋₂₋₁₋₁ + 4.0p₁₋₁₋₂₋₂₋₁₋₁ + 4.0p₁₋₂₋₁₋₂₋₁₋₁ + 4.0p₁₋₁₋₁₋₂₋₁₋₁ - 4.0p₂₋₂₋₂₋₁₋₁₋₁ - 4.0p₁₋₂₋₂₋₁₋₁₋₁ + 4.0p₂₋₁₋₁₋₁₋₁₋₁ + 4.0p₁₋₁₋₁₋₁₋₁₋₁"
      ]
     },
     "execution_count": 18,
     "metadata": {},
     "output_type": "execute_result"
    }
   ],
   "source": [
    "E_A1=-1.0*sum(p[1,:,:,:,:,:])+1.0*sum(p[2,:,:,:,:,:])\n",
    "E_A2=-1.0*sum(p[:,1,:,:,:,:])+1.0*sum(p[:,2,:,:,:,:])\n",
    "\n",
    "E_B1=-1.0*sum(p[:,:,:,1,:,:])+1.0*sum(p[:,:,:,2,:,:])\n",
    "E_B2=-1.0*sum(p[:,:,:,:,1,:])+1.0*sum(p[:,:,:,:,2,:])\n",
    "\n",
    "E_A1B1=1.0*sum(p[1,:,:,1,:,:])-1.0*sum(p[1,:,:,2,:,:])-1.0*sum(p[2,:,:,1,:,:])+1.0*sum(p[2,:,:,2,:,:])\n",
    "E_A1B2=1.0*sum(p[1,:,:,:,1,:])-1.0*sum(p[1,:,:,:,2,:])-1.0*sum(p[2,:,:,:,1,:])+1.0*sum(p[2,:,:,:,2,:])\n",
    "E_A2B1=1.0*sum(p[:,1,:,1,:,:])-1.0*sum(p[:,1,:,2,:,:])-1.0*sum(p[:,2,:,1,:,:])+1.0*sum(p[:,2,:,2,:,:])\n",
    "E_A2B2=1.0*sum(p[:,1,:,:,1,:])-1.0*sum(p[:,1,:,:,2,:])-1.0*sum(p[:,2,:,:,1,:])+1.0*sum(p[:,2,:,:,2,:])\n",
    "E_A1B3=1.0*sum(p[1,:,:,:,:,1])-1.0*sum(p[1,:,:,:,:,2])-1.0*sum(p[2,:,:,:,:,1])+1.0*sum(p[2,:,:,:,:,2])\n",
    "E_A2B3=1.0*sum(p[:,1,:,:,:,1])-1.0*sum(p[:,1,:,:,:,2])-1.0*sum(p[:,2,:,:,:,1])+1.0*sum(p[:,2,:,:,:,2])\n",
    "E_A3B1=1.0*sum(p[:,:,1,1,:,:])-1.0*sum(p[:,:,1,2,:,:])-1.0*sum(p[:,:,2,1,:,:])+1.0*sum(p[:,:,2,2,:,:])\n",
    "E_A3B2=1.0*sum(p[:,:,1,:,1,:])-1.0*sum(p[:,:,1,:,2,:])-1.0*sum(p[:,:,2,:,1,:])+1.0*sum(p[:,:,2,:,2,:])\n",
    "\n",
    "\n",
    "\n",
    "E_int=E_A1B1+E_A2B2-E_A1B2-E_A2B1\n",
    "E_int2=E_A1B3+E_A2B3\n",
    "E_int3=E_A3B1+E_A3B2\n",
    "\n",
    "E_overall=E_A1-E_A2+E_B1-E_B2-E_int+E_int2+E_int3"
   ]
  },
  {
   "cell_type": "code",
   "execution_count": 19,
   "id": "cc2f49cc",
   "metadata": {},
   "outputs": [
    {
     "name": "stdout",
     "output_type": "stream",
     "text": [
      "Problem\n",
      "  Name                   :                 \n",
      "  Objective sense        : minimize        \n",
      "  Type                   : LO (linear optimization problem)\n",
      "  Constraints            : 64              \n",
      "  Affine conic cons.     : 0               \n",
      "  Disjunctive cons.      : 0               \n",
      "  Cones                  : 0               \n",
      "  Scalar variables       : 66              \n",
      "  Matrix variables       : 0               \n",
      "  Integer variables      : 0               \n",
      "\n",
      "Optimizer started.\n",
      "Presolve started.\n",
      "Eliminator - tries                  : 0                 time                   : 0.00            \n",
      "Lin. dep.  - tries                  : 0                 time                   : 0.00            \n",
      "Lin. dep.  - primal attempts        : 0                 successes              : 0               \n",
      "Lin. dep.  - dual attempts          : 0                 successes              : 0               \n",
      "Lin. dep.  - primal deps.           : 0                 dual deps.             : 0               \n",
      "Presolve terminated. Time: 0.00    \n",
      "Optimizer terminated. Time: 0.00    \n",
      "\n"
     ]
    }
   ],
   "source": [
    "model= SOSModel(Mosek.Optimizer)\n",
    "\n",
    "@variable(model, gamma)\n",
    "@objective(model, Min, gamma)\n",
    "con_ref=@constraint(model, gamma>=E_overall, domain=S)\n",
    "optimize!(model)"
   ]
  },
  {
   "cell_type": "code",
   "execution_count": 20,
   "id": "7d9a792a",
   "metadata": {},
   "outputs": [
    {
     "name": "stdout",
     "output_type": "stream",
     "text": [
      "objective_value(model) = 4.0\n"
     ]
    },
    {
     "data": {
      "text/plain": [
       "4.0"
      ]
     },
     "execution_count": 20,
     "metadata": {},
     "output_type": "execute_result"
    }
   ],
   "source": [
    "@show objective_value(model)"
   ]
  },
  {
   "cell_type": "code",
   "execution_count": 21,
   "id": "03e44684",
   "metadata": {},
   "outputs": [
    {
     "name": "stdout",
     "output_type": "stream",
     "text": [
      "sum(vec(p) .* lagrangian_multipliers(con_ref)) = 4.0p₁₋₂₋₂₋₂₋₂₋₂ + 4.0p₁₋₁₋₂₋₂₋₂₋₂ + 4.0p₂₋₂₋₁₋₂₋₂₋₂ + 8.0p₁₋₂₋₁₋₂₋₂₋₂ + 4.0p₂₋₁₋₁₋₂₋₂₋₂ + 8.0p₁₋₁₋₁₋₂₋₂₋₂ + 4.0p₂₋₂₋₂₋₁₋₂₋₂ + 8.0p₁₋₂₋₂₋₁₋₂₋₂ + 4.0p₁₋₁₋₂₋₁₋₂₋₂ + 4.0p₂₋₂₋₁₋₁₋₂₋₂ + 8.0p₁₋₂₋₁₋₁₋₂₋₂ + 4.0p₁₋₁₋₁₋₁₋₂₋₂ + 4.0p₂₋₁₋₂₋₂₋₁₋₂ + 4.0p₁₋₁₋₂₋₂₋₁₋₂ + 4.0p₂₋₁₋₁₋₂₋₁₋₂ + 4.0p₁₋₁₋₁₋₂₋₁₋₂ + 4.0p₂₋₂₋₂₋₁₋₁₋₂ + 4.0p₁₋₂₋₂₋₁₋₁₋₂ + 4.0p₂₋₁₋₂₋₁₋₁₋₂ + 4.0p₁₋₁₋₂₋₁₋₁₋₂ + 4.0p₂₋₂₋₂₋₂₋₂₋₁ + 4.0p₁₋₂₋₂₋₂₋₂₋₁ + 12.0p₂₋₂₋₁₋₂₋₂₋₁ + 12.0p₁₋₂₋₁₋₂₋₂₋₁ + 8.0p₂₋₁₋₁₋₂₋₂₋₁ + 8.0p₁₋₁₋₁₋₂₋₂₋₁ + 8.0p₂₋₂₋₂₋₁₋₂₋₁ + 8.0p₁₋₂₋₂₋₁₋₂₋₁ + 12.0p₂₋₂₋₁₋₁₋₂₋₁ + 12.0p₁₋₂₋₁₋₁₋₂₋₁ + 4.0p₂₋₁₋₁₋₁₋₂₋₁ + 4.0p₁₋₁₋₁₋₁₋₂₋₁ + 4.0p₂₋₂₋₂₋₂₋₁₋₁ + 4.0p₂₋₁₋₂₋₂₋₁₋₁ + 8.0p₂₋₂₋₁₋₂₋₁₋₁ + 4.0p₁₋₂₋₁₋₂₋₁₋₁ + 8.0p₂₋₁₋₁₋₂₋₁₋₁ + 4.0p₁₋₁₋₁₋₂₋₁₋₁ + 8.0p₂₋₂₋₂₋₁₋₁₋₁ + 4.0p₁₋₂₋₂₋₁₋₁₋₁ + 4.0p₂₋₁₋₂₋₁₋₁₋₁ + 8.0p₂₋₂₋₁₋₁₋₁₋₁ + 4.0p₁₋₂₋₁₋₁₋₁₋₁ + 4.0p₂₋₁₋₁₋₁₋₁₋₁\n"
     ]
    },
    {
     "data": {
      "text/latex": [
       "$$ 4.0p_{1,2,2,2,2,2} + 4.0p_{1,1,2,2,2,2} + 4.0p_{2,2,1,2,2,2} + 8.0p_{1,2,1,2,2,2} + 4.0p_{2,1,1,2,2,2} + 8.0p_{1,1,1,2,2,2} + 4.0p_{2,2,2,1,2,2} + 8.0p_{1,2,2,1,2,2} + 4.0p_{1,1,2,1,2,2} + 4.0p_{2,2,1,1,2,2} + 8.0p_{1,2,1,1,2,2} + 4.0p_{1,1,1,1,2,2} + 4.0p_{2,1,2,2,1,2} + 4.0p_{1,1,2,2,1,2} + 4.0p_{2,1,1,2,1,2} + 4.0p_{1,1,1,2,1,2} + 4.0p_{2,2,2,1,1,2} + 4.0p_{1,2,2,1,1,2} + 4.0p_{2,1,2,1,1,2} + 4.0p_{1,1,2,1,1,2} + 4.0p_{2,2,2,2,2,1} + 4.0p_{1,2,2,2,2,1} + 12.0p_{2,2,1,2,2,1} + 12.0p_{1,2,1,2,2,1} + 8.0p_{2,1,1,2,2,1} + 8.0p_{1,1,1,2,2,1} + 8.0p_{2,2,2,1,2,1} + 8.0p_{1,2,2,1,2,1} + 12.0p_{2,2,1,1,2,1} + 12.0p_{1,2,1,1,2,1} + 4.0p_{2,1,1,1,2,1} + 4.0p_{1,1,1,1,2,1} + 4.0p_{2,2,2,2,1,1} + 4.0p_{2,1,2,2,1,1} + 8.0p_{2,2,1,2,1,1} + 4.0p_{1,2,1,2,1,1} + 8.0p_{2,1,1,2,1,1} + 4.0p_{1,1,1,2,1,1} + 8.0p_{2,2,2,1,1,1} + 4.0p_{1,2,2,1,1,1} + 4.0p_{2,1,2,1,1,1} + 8.0p_{2,2,1,1,1,1} + 4.0p_{1,2,1,1,1,1} + 4.0p_{2,1,1,1,1,1} $$"
      ],
      "text/plain": [
       "4.0p₁₋₂₋₂₋₂₋₂₋₂ + 4.0p₁₋₁₋₂₋₂₋₂₋₂ + 4.0p₂₋₂₋₁₋₂₋₂₋₂ + 8.0p₁₋₂₋₁₋₂₋₂₋₂ + 4.0p₂₋₁₋₁₋₂₋₂₋₂ + 8.0p₁₋₁₋₁₋₂₋₂₋₂ + 4.0p₂₋₂₋₂₋₁₋₂₋₂ + 8.0p₁₋₂₋₂₋₁₋₂₋₂ + 4.0p₁₋₁₋₂₋₁₋₂₋₂ + 4.0p₂₋₂₋₁₋₁₋₂₋₂ + 8.0p₁₋₂₋₁₋₁₋₂₋₂ + 4.0p₁₋₁₋₁₋₁₋₂₋₂ + 4.0p₂₋₁₋₂₋₂₋₁₋₂ + 4.0p₁₋₁₋₂₋₂₋₁₋₂ + 4.0p₂₋₁₋₁₋₂₋₁₋₂ + 4.0p₁₋₁₋₁₋₂₋₁₋₂ + 4.0p₂₋₂₋₂₋₁₋₁₋₂ + 4.0p₁₋₂₋₂₋₁₋₁₋₂ + 4.0p₂₋₁₋₂₋₁₋₁₋₂ + 4.0p₁₋₁₋₂₋₁₋₁₋₂ + 4.0p₂₋₂₋₂₋₂₋₂₋₁ + 4.0p₁₋₂₋₂₋₂₋₂₋₁ + 12.0p₂₋₂₋₁₋₂₋₂₋₁ + 12.0p₁₋₂₋₁₋₂₋₂₋₁ + 8.0p₂₋₁₋₁₋₂₋₂₋₁ + 8.0p₁₋₁₋₁₋₂₋₂₋₁ + 8.0p₂₋₂₋₂₋₁₋₂₋₁ + 8.0p₁₋₂₋₂₋₁₋₂₋₁ + 12.0p₂₋₂₋₁₋₁₋₂₋₁ + 12.0p₁₋₂₋₁₋₁₋₂₋₁ + 4.0p₂₋₁₋₁₋₁₋₂₋₁ + 4.0p₁₋₁₋₁₋₁₋₂₋₁ + 4.0p₂₋₂₋₂₋₂₋₁₋₁ + 4.0p₂₋₁₋₂₋₂₋₁₋₁ + 8.0p₂₋₂₋₁₋₂₋₁₋₁ + 4.0p₁₋₂₋₁₋₂₋₁₋₁ + 8.0p₂₋₁₋₁₋₂₋₁₋₁ + 4.0p₁₋₁₋₁₋₂₋₁₋₁ + 8.0p₂₋₂₋₂₋₁₋₁₋₁ + 4.0p₁₋₂₋₂₋₁₋₁₋₁ + 4.0p₂₋₁₋₂₋₁₋₁₋₁ + 8.0p₂₋₂₋₁₋₁₋₁₋₁ + 4.0p₁₋₂₋₁₋₁₋₁₋₁ + 4.0p₂₋₁₋₁₋₁₋₁₋₁"
      ]
     },
     "execution_count": 21,
     "metadata": {},
     "output_type": "execute_result"
    }
   ],
   "source": [
    "@show sum((vec(p).*lagrangian_multipliers(con_ref)))"
   ]
  }
 ],
 "metadata": {
  "kernelspec": {
   "display_name": "Julia 1.10.2",
   "language": "julia",
   "name": "julia-1.10"
  },
  "language_info": {
   "file_extension": ".jl",
   "mimetype": "application/julia",
   "name": "julia",
   "version": "1.9.1"
  }
 },
 "nbformat": 4,
 "nbformat_minor": 5
}
