{
 "cells": [
  {
   "cell_type": "markdown",
   "metadata": {},
   "source": [
    "Inelastic Relativistic Collision\n",
    "https://www.feynmanlectures.caltech.edu/info/exercises/inelastic_relativistic_collision.html\n",
    "\n",
    "\n",
    "A particle of mass m, moving at speed v = 4c/5, collides inelastically with a similar particle at rest.\n",
    "\n",
    "(a) What is the speed vc of the composite particle?\n",
    "\n",
    "(b) What is its mass mc?"
   ]
  },
  {
   "cell_type": "code",
   "execution_count": 3,
   "metadata": {},
   "outputs": [],
   "source": [
    "using DynamicPolynomials\n",
    "using JuMP\n",
    "using MosekTools\n",
    "using LinearAlgebra\n",
    "using CSV\n",
    "using DataFrames\n",
    "import JSON\n",
    "using Dates\n",
    "using Gurobi\n",
    "using FileIO\n",
    "using JLD2"
   ]
  },
  {
   "cell_type": "markdown",
   "metadata": {},
   "source": [
    "functions for generating monomials"
   ]
  },
  {
   "cell_type": "code",
   "execution_count": 13,
   "metadata": {},
   "outputs": [
    {
     "data": {
      "text/plain": [
       "mons_of_max_degree_and_unit_overall (generic function with 1 method)"
      ]
     },
     "execution_count": 13,
     "metadata": {},
     "output_type": "execute_result"
    }
   ],
   "source": [
    "function all_monomials_up_to_max_deg(x, deg)\n",
    "    if size(x,1) == 0\n",
    "        [1]\n",
    "    else\n",
    "    [ x[1]^k * m for k=0:deg \n",
    "      for m=all_monomials_up_to_max_deg(x[2:end], deg)\n",
    "    ]\n",
    "    end\n",
    "end\n",
    "\n",
    "function mons_of_max_degree_and_unit(x, deg, u)\n",
    "    [m\n",
    "        for m=all_monomials_up_to_max_deg(x, deg)\n",
    "        #if all(unit(m) .== u)\n",
    "    ]\n",
    "end\n",
    "                \n",
    "function degree_poly(p)\n",
    "    maximum(degree.(monomials(p)))\n",
    "end\n",
    "\n",
    "function all_monomials_up_to_max_deg_overall(x, deg, deg_overall)\n",
    "    if size(x,1) == 0\n",
    "        [1]\n",
    "    else\n",
    "    [ x[1]^k * m for k=0:min(deg, deg_overall) \n",
    "                for m=all_monomials_up_to_max_deg_overall(x[2:end], deg, deg_overall-k)\n",
    "    ]\n",
    "    end\n",
    "end\n",
    "\n",
    "function all_monomials_up_to_max_deg_overall_and_individual(x, deg, deg_overall, theDegrees)\n",
    "    if size(x,1) == 0\n",
    "        [1]\n",
    "    else\n",
    "    [ x[1]^k * m for k=0:min(deg, deg_overall, theDegrees[1]) \n",
    "                for m=all_monomials_up_to_max_deg_overall_and_individual(x[2:end], deg, deg_overall-k, theDegrees[2:end])\n",
    "    ]\n",
    "    end\n",
    "end\n",
    "\n",
    "function mons_of_max_degree_and_unit_overall(x, deg, deg_overall, u)\n",
    "    [m\n",
    "        for m=all_monomials_up_to_max_deg_overall(x, deg, deg_overall)\n",
    "        #if all(unit(m) .== u)\n",
    "    ]\n",
    "end\n"
   ]
  },
  {
   "cell_type": "code",
   "execution_count": 5,
   "metadata": {},
   "outputs": [
    {
     "data": {
      "text/plain": [
       "1×11 Matrix{Variable{DynamicPolynomials.Commutative{DynamicPolynomials.CreationOrder}, Graded{LexOrder}}}:\n",
       " m_m  m_c  m_r  v_m  v_c  c  p_m  p_c  E_m  E_r  E_c"
      ]
     },
     "execution_count": 5,
     "metadata": {},
     "output_type": "execute_result"
    }
   ],
   "source": [
    "@polyvar m_m m_c m_r v_m v_c c p_m p_c E_m E_r E_c   # the order matters per evaluation(?)\n",
    "\n",
    "x =[m_m m_c m_r v_m v_c c p_m p_c E_m E_r E_c  ] "
   ]
  },
  {
   "cell_type": "code",
   "execution_count": 18,
   "metadata": {},
   "outputs": [
    {
     "data": {
      "text/latex": [
       "$$ E_r^{2} + 2E_mE_r + E_m^{2} $$"
      ],
      "text/plain": [
       "E_r² + 2E_mE_r + E_m²"
      ]
     },
     "execution_count": 18,
     "metadata": {},
     "output_type": "execute_result"
    }
   ],
   "source": [
    "E_c = E_m + E_r  # conservation of energy\n",
    "cEs =E_c^2 # conservation of energy squared "
   ]
  },
  {
   "cell_type": "code",
   "execution_count": 42,
   "metadata": {},
   "outputs": [
    {
     "data": {
      "text/plain": [
       "9-element Vector{Polynomial{DynamicPolynomials.Commutative{DynamicPolynomials.CreationOrder}, Graded{LexOrder}, Float64}}:\n",
       " c²p_m² - v_m²p_m² - m_m²v_m²c²\n",
       " E_m² - c²p_m² - m_m²c⁴\n",
       " E_r - m_rc²\n",
       " E_r² + 2.0E_mE_r + E_m² - c²p_c² - m_c²c²\n",
       " 0.0\n",
       " p_c - p_m\n",
       " -0.8c + v_m\n",
       " m_r - m_m\n",
       " c²p_c² - v_c²p_c² - m_c²v_c²c²"
      ]
     },
     "execution_count": 42,
     "metadata": {},
     "output_type": "execute_result"
    }
   ],
   "source": [
    "axioms= \n",
    "[\n",
    "    #p_m^2*(c^2 - v_m^2)-m_m^2*v_m^2*c^2,\n",
    "    p_m^2*(c^2-v_m^2) - m_m^2*v_m^2*c^2,    # momentum of moving particle p_m = m*v / (sqrt(1-v^2/c^2))\n",
    "    E_m^2 - (m_m*c^2)^2 - (p_m*c)^2,       # square energy of moving particle\n",
    "    E_r - m_r*c^2,                         # energey of particple at rest\n",
    "    E_c^2 - (m_c *c)^2 - (p_c*c)^2,        # energy of composite particle\n",
    "    #E_m + E_r - E_c,                       # conservation of energy\n",
    "    2*E_m*E_r - E_c^2 + E_m^2 + E_r^2,     # conservation of energy squared \n",
    "    #cEs,  #2*E_m*E_r - E_c^2 + E_m^2 + E_r^2, # conservation of energy squared \n",
    "    #\n",
    "    p_c - p_m,                             # conservation of momentum \n",
    "    v_m - 4/5*c,                          # moving velocity of the mass is 4/5c \n",
    "    m_r - m_m,                           # resting mass of particle at rest and particle at motion is equal \n",
    "    #m_c - m_m - m_r,                     # mass of composite particle\n",
    "    p_c^2*(c^2-v_c^2) - m_c^2*v_c^2*c^2,  # momentum of the composite particle p_c = m_c*v_c / (sqrt(1-v^2/c^2))\n",
    "]"
   ]
  },
  {
   "cell_type": "code",
   "execution_count": null,
   "metadata": {},
   "outputs": [],
   "source": [
    "deg = 4\n",
    "deg_overall = 8\n",
    "theDegrees = [2 2 2 4 4 4 2 2 2 2 2] # m_m m_c m_r v_m v_c c p_m p_c E_m E_r E_c  \n",
    "\n",
    "candidate_mons = [\n",
    "    #mons_of_max_degree_and_unit_overall(x, deg, deg_overall, [])\n",
    "    all_monomials_up_to_max_deg_overall_and_individual(x, deg, deg_overall, theDegrees)\n",
    "    for ai=axioms\n",
    "]\n",
    "@show size.(candidate_mons)\n",
    "\n",
    "# model = Model(Mosek.Optimizer)\n",
    "model = Model(Gurobi.Optimizer)\n",
    "mons_q = mons_of_max_degree_and_unit_overall([ m_c m_m p_m c ], deg, deg_overall, []) #  only include variables expected to appear in the final theorem \n",
    "\n",
    "coeff_q =   @variable(model, [1:size(mons_q,1)], base_name=\"q\")\n",
    "\n",
    "q = sum(ci .* mi for (ci, mi)=zip(coeff_q, mons_q)) # Zip pairs things without needing a ref index, e.g., zip([1, 2, 3], [4,5,6])=((1,4), (2,5), (3,6))\n",
    "coeff_αs = [\n",
    "    @variable(model, [1:size(X,1)], base_name=\"α$i\")\n",
    "    for (i,X)=enumerate(candidate_mons)\n",
    "    ]\n",
    "@show size.(coeff_αs)\n",
    "αs = [sum(ci .* mi) for (ci, mi)=zip(coeff_αs, candidate_mons)]\n",
    "\n",
    "residual = q - sum(αᵢ * aᵢ for (αᵢ, aᵢ)=zip(αs,axioms));\n",
    "eqs = coefficients(residual)\n",
    "\n",
    "# Ensure that the sum of the coefficients on the terms involving m isn't zero, in order that m is part of expression\n",
    "@constraint model sum(coeff_q[degree.(mons_q, [m_c ]).>0]) == 4.0 # insist that some variables will appear\n",
    "#@constraint model sum(coeff_q[degree.(mons_q,[v_m]).>0]) == 0.0 # insist that some variables will not appear\n",
    "@constraint model eqs .== 0\n",
    "@objective model Max 0\n",
    "\n",
    "optimize!(model)\n",
    "@show termination_status(model)"
   ]
  },
  {
   "cell_type": "code",
   "execution_count": 53,
   "metadata": {},
   "outputs": [
    {
     "data": {
      "text/plain": [
       "#239 (generic function with 1 method)"
      ]
     },
     "execution_count": 53,
     "metadata": {},
     "output_type": "execute_result"
    }
   ],
   "source": [
    "value_poly = p -> sum(value.(coefficients(p)).* monomials(p))"
   ]
  },
  {
   "cell_type": "code",
   "execution_count": 54,
   "metadata": {},
   "outputs": [
    {
     "data": {
      "text/latex": [
       "$$ -1.3333333333333333m_c^{4}cs^{2} + 5.333333333333332m_m^{2}m_c^{2}cs^{3} + 9.48148148148148m_m^{4}cs^{4} $$"
      ],
      "text/plain": [
       "-1.3333333333333333m_c⁴cs² + 5.333333333333332m_m²m_c²cs³ + 9.48148148148148m_m⁴cs⁴"
      ]
     },
     "execution_count": 54,
     "metadata": {},
     "output_type": "execute_result"
    }
   ],
   "source": [
    "value_q = value_poly(q)\n",
    "value_q"
   ]
  },
  {
   "cell_type": "code",
   "execution_count": 27,
   "metadata": {},
   "outputs": [
    {
     "name": "stdout",
     "output_type": "stream",
     "text": [
      "value_αs = value_poly.(αs) = Polynomial{DynamicPolynomials.Commutative{DynamicPolynomials.CreationOrder}, Graded{LexOrder}, Float64}[11.111111111111114, 8.888888888888893cp_m² + 11.111111111111114v_mp_m² + 8.888888888888891m_m²c³ + 11.111111111111114m_m²v_mc²]\n"
     ]
    },
    {
     "data": {
      "text/plain": [
       "2-element Vector{Polynomial{DynamicPolynomials.Commutative{DynamicPolynomials.CreationOrder}, Graded{LexOrder}, Float64}}:\n",
       " 11.111111111111114\n",
       " 8.888888888888893cp_m² + 11.111111111111114v_mp_m² + 8.888888888888891m_m²c³ + 11.111111111111114m_m²v_mc²"
      ]
     },
     "execution_count": 27,
     "metadata": {},
     "output_type": "execute_result"
    }
   ],
   "source": [
    "@show value_αs = value_poly.(αs)"
   ]
  },
  {
   "cell_type": "markdown",
   "metadata": {},
   "source": [
    "Solving the above for m_c^2 : 4/3 c^4 m_c^4 + 16/3 m_m^2 c^6 m_c^2 + 9.48 m_m^4 c^8\n"
   ]
  },
  {
   "cell_type": "code",
   "execution_count": 115,
   "metadata": {},
   "outputs": [
    {
     "data": {
      "text/latex": [
       "$$ c^{2}p_c^{2} - v_c^{2}p_c^{2} - 2m_c^{2}v_cc^{2} $$"
      ],
      "text/plain": [
       "c²p_c² - v_c²p_c² - 2m_c²v_cc²"
      ]
     },
     "execution_count": 115,
     "metadata": {},
     "output_type": "execute_result"
    }
   ],
   "source": [
    "#p_c^2 * (c^2 - v_c^2) -  m_c^2 * v_c*2 * c^2             # momentum of composite particle\n",
    "Solving the above for m_c^2 : 4/3 c^4 m_c^4 + 16/3 m_m^2 c^6 m_c^2 + 9.48 m_m^4 c^8\n"
   ]
  },
  {
   "cell_type": "markdown",
   "metadata": {},
   "source": [
    "After reordering we get the correct composite mass expression:\n"
   ]
  }
 ],
 "metadata": {
  "kernelspec": {
   "display_name": "Julia 1.10.2",
   "language": "julia",
   "name": "julia-1.10"
  },
  "language_info": {
   "file_extension": ".jl",
   "mimetype": "application/julia",
   "name": "julia",
   "version": "1.9.4"
  }
 },
 "nbformat": 4,
 "nbformat_minor": 2
}
