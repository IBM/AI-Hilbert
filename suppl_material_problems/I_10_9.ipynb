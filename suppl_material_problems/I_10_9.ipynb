{
 "cells": [
  {
   "cell_type": "markdown",
   "metadata": {},
   "source": [
    "II-10-9 Feynamn Lectures on Physics\n",
    "\n",
    "https://www.feynmanlectures.caltech.edu/II_10.html\n",
    "\n",
    "E = sigmaF/(eps * (1+ chi))"
   ]
  },
  {
   "cell_type": "code",
   "execution_count": 1,
   "metadata": {},
   "outputs": [],
   "source": [
    "using DynamicPolynomials\n",
    "using JuMP\n",
    "using MosekTools\n",
    "using LinearAlgebra\n",
    "using CSV\n",
    "using DataFrames\n",
    "import JSON\n",
    "using Dates\n",
    "using Gurobi\n",
    "using SymbolicUtils # for symbolic simplification"
   ]
  },
  {
   "cell_type": "markdown",
   "metadata": {},
   "source": [
    "functions for generating monomials"
   ]
  },
  {
   "cell_type": "code",
   "execution_count": 12,
   "metadata": {},
   "outputs": [
    {
     "data": {
      "text/plain": [
       "all_monomials_up_to_max_deg_overall_and_individual (generic function with 1 method)"
      ]
     },
     "execution_count": 12,
     "metadata": {},
     "output_type": "execute_result"
    }
   ],
   "source": [
    "function all_monomials_up_to_max_deg(x, deg)\n",
    "    if size(x,1) == 0\n",
    "        [1]\n",
    "    else\n",
    "    [ x[1]^k * m for k=0:deg \n",
    "      for m=all_monomials_up_to_max_deg(x[2:end], deg)\n",
    "    ]\n",
    "    end\n",
    "end\n",
    "\n",
    "function mons_of_max_degree_and_unit(x, deg, u)\n",
    "    [m\n",
    "        for m=all_monomials_up_to_max_deg(x, deg)\n",
    "        #if all(unit(m) .== u)\n",
    "    ]\n",
    "end\n",
    "                \n",
    "function degree_poly(p)\n",
    "    maximum(degree.(monomials(p)))\n",
    "end\n",
    "\n",
    "function all_monomials_up_to_max_deg_overall(x, deg, deg_overall)\n",
    "    if size(x,1) == 0\n",
    "        [1]\n",
    "    else\n",
    "    [ x[1]^k * m for k=0:min(deg, deg_overall) \n",
    "                for m=all_monomials_up_to_max_deg_overall(x[2:end], deg, deg_overall-k)\n",
    "    ]\n",
    "    end\n",
    "end\n",
    "\n",
    "function mons_of_max_degree_and_unit_overall(x, deg, deg_overall, u)\n",
    "    [m\n",
    "        for m=all_monomials_up_to_max_deg_overall(x, deg, deg_overall)\n",
    "        #if all(unit(m) .== u)\n",
    "    ]\n",
    "end\n",
    "\n",
    "function all_monomials_up_to_max_deg_overall_and_individual(x, deg, deg_overall, theDegrees)\n",
    "    if size(x,1) == 0\n",
    "        [1]\n",
    "    else\n",
    "    [ x[1]^k * m for k=0:min(deg, deg_overall, theDegrees[1]) \n",
    "                for m=all_monomials_up_to_max_deg_overall_and_individual(x[2:end], deg, deg_overall-k, theDegrees[2:end])\n",
    "    ]\n",
    "    end\n",
    "end"
   ]
  },
  {
   "cell_type": "code",
   "execution_count": 13,
   "metadata": {},
   "outputs": [
    {
     "data": {
      "text/plain": [
       "1×9 Matrix{Variable{DynamicPolynomials.Commutative{DynamicPolynomials.CreationOrder}, Graded{LexOrder}}}:\n",
       " E  eps_0  sigmaF  sigmaP  N  qc  delta  P  chi"
      ]
     },
     "execution_count": 13,
     "metadata": {},
     "output_type": "execute_result"
    }
   ],
   "source": [
    "@polyvar E eps_0 sigmaF sigmaP N qc delta P chi   # \n",
    "\n",
    "x   =   [E eps_0 sigmaF sigmaP N qc delta P chi ] #"
   ]
  },
  {
   "cell_type": "code",
   "execution_count": 20,
   "metadata": {},
   "outputs": [
    {
     "data": {
      "text/plain": [
       "4-element Vector{Polynomial{DynamicPolynomials.Commutative{DynamicPolynomials.CreationOrder}, Graded{LexOrder}, Int64}}:\n",
       " sigmaP - sigmaF + Eeps_0\n",
       " sigmaP - Nqcdelta\n",
       " P - Eeps_0chi\n",
       " P - Nqcdelta"
      ]
     },
     "execution_count": 20,
     "metadata": {},
     "output_type": "execute_result"
    }
   ],
   "source": [
    "axioms= \n",
    "[\n",
    "    E * eps_0 - (sigmaF - sigmaP),          # E = (sigmaF - sigmaP)/eps\n",
    "    sigmaP - N * qc * delta,             # sigmaP = N * q * delta\n",
    "    P - chi * eps_0 * E,                      # P = chi * eps * E\n",
    "    P - N * qc * delta,                      # P = N * q * delta\n",
    "]\n",
    "\n"
   ]
  },
  {
   "cell_type": "code",
   "execution_count": 26,
   "metadata": {},
   "outputs": [
    {
     "name": "stdout",
     "output_type": "stream",
     "text": [
      "size.(candidate_mons) = [(7547,), (7547,), (7547,), (7547,)]\n",
      "Set parameter Username\n",
      "Academic license - for non-commercial use only - expires 2024-12-04\n",
      "Set parameter TimeLimit to value 600\n",
      "size.(coeff_αs) = [(7547,), (7547,), (7547,), (7547,)]\n",
      "Set parameter TimeLimit to value 600\n",
      "Gurobi Optimizer version 11.0.0 build v11.0.0rc2 (win64 - Windows 11+.0 (22631.2))\n",
      "\n",
      "CPU model: Intel(R) Core(TM) i9-10885H CPU @ 2.40GHz, instruction set [SSE2|AVX|AVX2]\n",
      "Thread count: 8 physical cores, 16 logical processors, using up to 16 threads\n",
      "\n",
      "Optimize a model with 29489 rows, 31091 columns and 69478 nonzeros\n",
      "Model fingerprint: 0x645fd877\n",
      "Coefficient statistics:\n",
      "  Matrix range     [1e+00, 1e+00]\n",
      "  Objective range  [0e+00, 0e+00]\n",
      "  Bounds range     [0e+00, 0e+00]\n",
      "  RHS range        [2e+00, 2e+00]\n",
      "Presolve removed 29489 rows and 31091 columns\n",
      "Presolve time: 0.03s\n",
      "Presolve: All rows and columns removed\n",
      "Iteration    Objective       Primal Inf.    Dual Inf.      Time\n",
      "       0   -0.0000000e+00   0.000000e+00   4.261000e-03      0s\n",
      "\n",
      "Solved in 0 iterations and 0.04 seconds (0.03 work units)\n",
      "Optimal objective -0.000000000e+00\n",
      "\n",
      "User-callback calls 55, time in user-callback 0.00 sec\n",
      "termination_status(model) = MathOptInterface.OPTIMAL\n"
     ]
    },
    {
     "data": {
      "text/plain": [
       "OPTIMAL::TerminationStatusCode = 1"
      ]
     },
     "execution_count": 26,
     "metadata": {},
     "output_type": "execute_result"
    }
   ],
   "source": [
    "deg = 3\n",
    "deg_overall = 10\n",
    "theDegrees = [ 1  2     2      2    2  2  2   2   1]   \n",
    "            # E eps_0 sigmaF sigmaP N qc delta P chi  \n",
    "\n",
    "candidate_mons = [\n",
    "    #mons_of_max_degree_and_unit_overall(params, deg, deg_overall, [])\n",
    "    all_monomials_up_to_max_deg_overall_and_individual(x, deg, deg_overall, theDegrees)\n",
    "    for ai=axioms\n",
    "]\n",
    "\n",
    "@show size.(candidate_mons)\n",
    "\n",
    "#model = Model(Mosek.Optimizer)\n",
    "model = Model(Gurobi.Optimizer)\n",
    "set_optimizer_attribute(model, \"TimeLimit\", 600.0)\n",
    "\n",
    "mons_q = mons_of_max_degree_and_unit_overall([ E sigmaF eps_0 chi qc ], deg, deg_overall, []) #  only include variables expected to appear in the final theorem \n",
    "coeff_q =   @variable(model, [1:size(mons_q,1)], base_name=\"q\")\n",
    "\n",
    "q = sum(ci .* mi for (ci, mi)=zip(coeff_q, mons_q)) # Zip pairs things without needing a ref index, e.g., zip([1, 2, 3], [4,5,6])=((1,4), (2,5), (3,6))\n",
    "coeff_αs = [\n",
    "    @variable(model, [1:size(X,1)], base_name=\"α$i\")\n",
    "    for (i,X)=enumerate(candidate_mons)\n",
    "    ]\n",
    "@show size.(coeff_αs)\n",
    "αs = [sum(ci .* mi) for (ci, mi)=zip(coeff_αs, candidate_mons)]\n",
    "\n",
    "residual = q - sum(αᵢ * aᵢ for (αᵢ, aᵢ)=zip(αs,axioms));\n",
    "eqs = coefficients(residual)\n",
    "\n",
    "# Ensure that the sum of the coefficients on the terms involving m isn't zero, in order that m is part of expression\n",
    "@constraint model sum(coeff_q[degree.(mons_q, [E]).>0]) == 2.0\n",
    "\n",
    "@constraint model eqs .== 0\n",
    "@objective model Max 0\n",
    "\n",
    "optimize!(model)\n",
    "@show termination_status(model)"
   ]
  },
  {
   "cell_type": "code",
   "execution_count": 27,
   "metadata": {},
   "outputs": [
    {
     "data": {
      "text/plain": [
       "#91 (generic function with 1 method)"
      ]
     },
     "execution_count": 27,
     "metadata": {},
     "output_type": "execute_result"
    }
   ],
   "source": [
    "value_poly = p -> sum(value.(coefficients(p)).* monomials(p))"
   ]
  },
  {
   "cell_type": "code",
   "execution_count": 28,
   "metadata": {},
   "outputs": [
    {
     "data": {
      "text/latex": [
       "$$ -sigmaF + Eeps_0 + Eeps_0chi $$"
      ],
      "text/plain": [
       "-sigmaF + Eeps_0 + Eeps_0chi"
      ]
     },
     "execution_count": 28,
     "metadata": {},
     "output_type": "execute_result"
    }
   ],
   "source": [
    "value_q = value_poly(q)\n",
    "value_q"
   ]
  },
  {
   "cell_type": "code",
   "execution_count": 29,
   "metadata": {},
   "outputs": [
    {
     "data": {
      "text/latex": [
       "$$ -sigmaF + Eeps_0 + Eeps_0chi $$"
      ],
      "text/plain": [
       "-sigmaF + Eeps_0 + Eeps_0chi"
      ]
     },
     "execution_count": 29,
     "metadata": {},
     "output_type": "execute_result"
    }
   ],
   "source": [
    "q_sim = simplify(value_q)"
   ]
  },
  {
   "cell_type": "markdown",
   "metadata": {},
   "source": [
    "which can be reorganized to arrive at the known relation E = sigmaF/(eps * (1+ chi))\n"
   ]
  },
  {
   "cell_type": "code",
   "execution_count": 30,
   "metadata": {},
   "outputs": [
    {
     "name": "stdout",
     "output_type": "stream",
     "text": [
      "value_αs = value_poly.(αs) = Polynomial{DynamicPolynomials.Commutative{DynamicPolynomials.CreationOrder}, Graded{LexOrder}, Float64}[1.0, -1.0, -1.0, 1.0]\n"
     ]
    },
    {
     "data": {
      "text/plain": [
       "4-element Vector{Polynomial{DynamicPolynomials.Commutative{DynamicPolynomials.CreationOrder}, Graded{LexOrder}, Float64}}:\n",
       " 1.0\n",
       " -1.0\n",
       " -1.0\n",
       " 1.0"
      ]
     },
     "execution_count": 30,
     "metadata": {},
     "output_type": "execute_result"
    }
   ],
   "source": [
    "@show value_αs = value_poly.(αs)"
   ]
  }
 ],
 "metadata": {
  "kernelspec": {
   "display_name": "Julia 1.10.2",
   "language": "julia",
   "name": "julia-1.10"
  },
  "language_info": {
   "file_extension": ".jl",
   "mimetype": "application/julia",
   "name": "julia",
   "version": "1.9.4"
  }
 },
 "nbformat": 4,
 "nbformat_minor": 2
}
