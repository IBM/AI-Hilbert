{
 "cells": [
  {
   "cell_type": "markdown",
   "metadata": {},
   "source": [
    "Hall Effect\n",
    "\n",
    "https://en.wikipedia.org/wiki/Hall_effect#Corbino_effect\n",
    "\n",
    "The Hall effect is the production of a potential difference (the Hall voltage) across an electrical conductor that is transverse to an electric current in the conductor and to an applied magnetic field perpendicular to the current.\n",
    "\n",
    "U_H = h L I B / (N q_e)\n",
    "\n",
    "https://www.youtube.com/watch?v=1OZCWetFCps"
   ]
  },
  {
   "cell_type": "code",
   "execution_count": 1,
   "metadata": {},
   "outputs": [],
   "source": [
    "using DynamicPolynomials\n",
    "using JuMP\n",
    "using MosekTools\n",
    "using LinearAlgebra\n",
    "using CSV\n",
    "using DataFrames\n",
    "import JSON\n",
    "using Dates\n",
    "using Gurobi"
   ]
  },
  {
   "cell_type": "markdown",
   "metadata": {},
   "source": [
    "functions for generating monomials"
   ]
  },
  {
   "cell_type": "code",
   "execution_count": 2,
   "metadata": {},
   "outputs": [
    {
     "data": {
      "text/plain": [
       "all_monomials_up_to_max_deg_overall_and_individual (generic function with 1 method)"
      ]
     },
     "execution_count": 2,
     "metadata": {},
     "output_type": "execute_result"
    }
   ],
   "source": [
    "function all_monomials_up_to_max_deg(x, deg)\n",
    "    if size(x,1) == 0\n",
    "        [1]\n",
    "    else\n",
    "    [ x[1]^k * m for k=0:deg \n",
    "      for m=all_monomials_up_to_max_deg(x[2:end], deg)\n",
    "    ]\n",
    "    end\n",
    "end\n",
    "\n",
    "function mons_of_max_degree_and_unit(x, deg, u)\n",
    "    [m\n",
    "        for m=all_monomials_up_to_max_deg(x, deg)\n",
    "        #if all(unit(m) .== u)\n",
    "    ]\n",
    "end\n",
    "                \n",
    "function degree_poly(p)\n",
    "    maximum(degree.(monomials(p)))\n",
    "end\n",
    "\n",
    "function all_monomials_up_to_max_deg_overall(x, deg, deg_overall)\n",
    "    if size(x,1) == 0\n",
    "        [1]\n",
    "    else\n",
    "    [ x[1]^k * m for k=0:min(deg, deg_overall) \n",
    "                for m=all_monomials_up_to_max_deg_overall(x[2:end], deg, deg_overall-k)\n",
    "    ]\n",
    "    end\n",
    "end\n",
    "\n",
    "function mons_of_max_degree_and_unit_overall(x, deg, deg_overall, u)\n",
    "    [m\n",
    "        for m=all_monomials_up_to_max_deg_overall(x, deg, deg_overall)\n",
    "        #if all(unit(m) .== u)\n",
    "    ]\n",
    "end\n",
    "\n",
    "function all_monomials_up_to_max_deg_overall_and_individual(x, deg, deg_overall, theDegrees)\n",
    "    if size(x,1) == 0\n",
    "        [1]\n",
    "    else\n",
    "    [ x[1]^k * m for k=0:min(deg, deg_overall, theDegrees[1]) \n",
    "                for m=all_monomials_up_to_max_deg_overall_and_individual(x[2:end], deg, deg_overall-k, theDegrees[2:end])\n",
    "    ]\n",
    "    end\n",
    "end"
   ]
  },
  {
   "cell_type": "code",
   "execution_count": 3,
   "metadata": {},
   "outputs": [
    {
     "data": {
      "text/plain": [
       "1×16 Matrix{Variable{DynamicPolynomials.Commutative{DynamicPolynomials.CreationOrder}, Graded{LexOrder}}}:\n",
       " F_m  q_e  v  B  F_e  E  h  U_H  dt  L  I  Q  N  n  V  d"
      ]
     },
     "execution_count": 3,
     "metadata": {},
     "output_type": "execute_result"
    }
   ],
   "source": [
    "@polyvar F_m q_e v B F_e E h U_H dt L I Q N n V d   # the order matters per evaluation(?) # a_y a_x dv_x dv_y\n",
    "\n",
    "x =     [F_m q_e v B F_e E h U_H dt L I Q N n V d  ] #dv_x dv_y a_y a_x"
   ]
  },
  {
   "cell_type": "code",
   "execution_count": 4,
   "metadata": {},
   "outputs": [
    {
     "data": {
      "text/plain": [
       "9-element Vector{Polynomial{DynamicPolynomials.Commutative{DynamicPolynomials.CreationOrder}, Graded{LexOrder}, Int64}}:\n",
       " F_m - q_evB\n",
       " F_e - q_eE\n",
       " -F_e + F_m\n",
       " -U_H + Eh\n",
       " -L + vdt\n",
       " -Q + dtI\n",
       " Q - q_eN\n",
       " -N + nV\n",
       " V - hLd"
      ]
     },
     "execution_count": 4,
     "metadata": {},
     "output_type": "execute_result"
    }
   ],
   "source": [
    "axioms= \n",
    "[\n",
    "    F_m - q_e * v * B,                    # Lorentz force\n",
    "    F_e - q_e * E,                        # electric force (E homogenous electric feild between the upper and lower metal plate)\n",
    "    F_m - F_e,                            # Newton's 3rd Law\n",
    "    E * h - U_H,                          # electric potnetial U_H to field E relation per plate width h (the electric field is not known)\n",
    "    v * dt - L,                           # velocity (v = L/dt) is not known\n",
    "    I * dt - Q,                           # amount of charge Q, is the current I times dt (can be measured by an amp meter)\n",
    "    Q - N * q_e,                          # the charge Q is the number of electrons N by the chage of each electron q_e\n",
    "    n * V - N,                            # charge density is the number of electrons traveling through the metal plate in a given time over the volume V\n",
    "    V - L * h * d,                        # the volume V is the product of the length L by the width h, by the thickness of the plate d\n",
    "    ]\n",
    "    "
   ]
  },
  {
   "cell_type": "code",
   "execution_count": 5,
   "metadata": {},
   "outputs": [
    {
     "name": "stdout",
     "output_type": "stream",
     "text": [
      "size.(candidate_mons) = [(104583,), (104583,), (104583,), (104583,), (104583,), (104583,), (104583,), (104583,), (104583,)]\n"
     ]
    }
   ],
   "source": [
    "deg = 3\n",
    "deg_overall = 8\n",
    "theDegrees = [ 1   1  2 1  1  1 2  1  2  2 2 1 1 1 1 1] \n",
    "            # F_m q_e v B F_e E h U_H dt L I Q N n V d\n",
    "\n",
    "candidate_mons = [\n",
    "    #mons_of_max_degree_and_unit_overall(params, deg, deg_overall, [])\n",
    "    all_monomials_up_to_max_deg_overall_and_individual(x, deg, deg_overall, theDegrees)\n",
    "    for ai=axioms\n",
    "]\n",
    "\n",
    "@show size.(candidate_mons)\n",
    "\n",
    "# model = Model(Mosek.Optimizer)\n",
    "model = Model(Gurobi.Optimizer)\n",
    "set_optimizer_attribute(model, \"TimeLimit\", 600.0)\n",
    "\n",
    "mons_q = mons_of_max_degree_and_unit_overall([I n q_e d B h L U_H], deg, deg_overall, []) #  only include variables expected to appear in the final theorem \n",
    "coeff_q =   @variable(model, [1:size(mons_q,1)], base_name=\"q\")\n",
    "\n",
    "q = sum(ci .* mi for (ci, mi)=zip(coeff_q, mons_q)) # Zip pairs things without needing a ref index, e.g., zip([1, 2, 3], [4,5,6])=((1,4), (2,5), (3,6))\n",
    "coeff_αs = [\n",
    "    @variable(model, [1:size(X,1)], base_name=\"α$i\")\n",
    "    for (i,X)=enumerate(candidate_mons)\n",
    "    ]\n",
    "@show size.(coeff_αs)\n",
    "αs = [sum(ci .* mi) for (ci, mi)=zip(coeff_αs, candidate_mons)]\n",
    "\n",
    "residual = q - sum(αᵢ * aᵢ for (αᵢ, aᵢ)=zip(αs,axioms));\n",
    "eqs = coefficients(residual)\n",
    "\n",
    "# Ensure that the sum of the coefficients on the terms involving m isn't zero, in order that m is part of expression\n",
    "@constraint model sum(coeff_q[degree.(mons_q, [U_H ]).>0]) == 1.0\n",
    "\n",
    "@constraint model eqs .== 0\n",
    "@objective model Max 0\n",
    "\n",
    "optimize!(model)\n",
    "@show termination_status(model)"
   ]
  },
  {
   "cell_type": "code",
   "execution_count": 14,
   "metadata": {},
   "outputs": [
    {
     "data": {
      "text/plain": [
       "#75 (generic function with 1 method)"
      ]
     },
     "execution_count": 14,
     "metadata": {},
     "output_type": "execute_result"
    }
   ],
   "source": [
    "value_poly = p -> sum(value.(coefficients(p)).* monomials(p))"
   ]
  },
  {
   "cell_type": "code",
   "execution_count": 15,
   "metadata": {},
   "outputs": [
    {
     "data": {
      "text/latex": [
       "$$ 2.0mGM + mv_e^{2}r $$"
      ],
      "text/plain": [
       "2.0mGM + mv_e²r"
      ]
     },
     "execution_count": 15,
     "metadata": {},
     "output_type": "execute_result"
    }
   ],
   "source": [
    "value_q = value_poly(q)\n",
    "value_q"
   ]
  },
  {
   "cell_type": "markdown",
   "metadata": {},
   "source": []
  },
  {
   "cell_type": "code",
   "execution_count": 3,
   "metadata": {},
   "outputs": [
    {
     "ename": "LoadError",
     "evalue": "UndefVarError: `value_poly` not defined",
     "output_type": "error",
     "traceback": [
      "UndefVarError: `value_poly` not defined",
      "",
      "Stacktrace:",
      " [1] top-level scope",
      "   @ show.jl:1128"
     ]
    }
   ],
   "source": [
    "@show value_αs = value_poly.(αs)"
   ]
  },
  {
   "cell_type": "markdown",
   "metadata": {},
   "source": [
    "___________________________________________________________________reduced parameters_____________________________________________________________"
   ]
  },
  {
   "cell_type": "code",
   "execution_count": 7,
   "metadata": {},
   "outputs": [
    {
     "data": {
      "text/plain": [
       "1×12 Matrix{Variable{DynamicPolynomials.Commutative{DynamicPolynomials.CreationOrder}, Graded{LexOrder}}}:\n",
       " F_m  q_e  v  B  F_e  E  h  U_H  dt  L  I  N"
      ]
     },
     "execution_count": 7,
     "metadata": {},
     "output_type": "execute_result"
    }
   ],
   "source": [
    "@polyvar F_m q_e v B F_e E h U_H dt L I N   # the order matters per evaluation # Q N n V d\n",
    "\n",
    "x =     [F_m q_e v B F_e E h U_H dt L I N  ] #dv_x dv_y a_y a_x"
   ]
  },
  {
   "cell_type": "code",
   "execution_count": 8,
   "metadata": {},
   "outputs": [
    {
     "data": {
      "text/plain": [
       "6-element Vector{Polynomial{DynamicPolynomials.Commutative{DynamicPolynomials.CreationOrder}, Graded{LexOrder}, Int64}}:\n",
       " F_m - q_evB\n",
       " F_e - q_eE\n",
       " -F_e + F_m\n",
       " -U_H + Eh\n",
       " -L + vdt\n",
       " dtI - q_eN"
      ]
     },
     "execution_count": 8,
     "metadata": {},
     "output_type": "execute_result"
    }
   ],
   "source": [
    "axioms= \n",
    "[\n",
    "    F_m - q_e * v * B,                    # Lorentz force\n",
    "    F_e - q_e * E,                        # electric force (E homogenous electric feild between the upper and lower metal plate)\n",
    "    F_m - F_e,                            # Newton's 3rd Law\n",
    "    E * h - U_H,                          # electric potnetial U_H to field E relation per plate width h (the electric field is not known)\n",
    "    v * dt - L,                           # velocity (v = L/dt) is not known\n",
    "  #  I * dt - Q,                           # amount of charge Q, is the current I times dt (can be measured by an amp meter)\n",
    "    I * dt - N * q_e,                       # amount of charge Q, is the current I times dt (can be measured by an amp meter)\n",
    "   # Q - N * q_e,                          # the charge Q is the number of electrons N by the chage of each electron q_e\n",
    "   ## n * L * h * d - N,                      # charge density is the number of electrons traveling through the metal plate in a given time over the volume V\n",
    "   # n * V - N,                            # charge density is the number of electrons traveling through the metal plate in a given time over the volume V\n",
    "   # V - L * h * d,                        # the volume V is the product of the length L by the width h, by the thickness of the plate d\n",
    "    ]\n",
    "    "
   ]
  },
  {
   "cell_type": "code",
   "execution_count": 11,
   "metadata": {},
   "outputs": [
    {
     "name": "stdout",
     "output_type": "stream",
     "text": [
      "size.(candidate_mons) = [(19438,), (19438,), (19438,), (19438,), (19438,), (19438,)]\n",
      "Set parameter Username\n",
      "Academic license - for non-commercial use only - expires 2024-12-04\n",
      "Set parameter TimeLimit to value 600\n",
      "size.(coeff_αs) = [(19438,), (19438,), (19438,), (19438,), (19438,), (19438,)]\n",
      "Set parameter TimeLimit to value 600\n",
      "Gurobi Optimizer version 11.0.0 build v11.0.0rc2 (win64 - Windows 11+.0 (22631.2))\n",
      "\n",
      "CPU model: Intel(R) Core(TM) i9-10885H CPU @ 2.40GHz, instruction set [SSE2|AVX|AVX2]\n",
      "Thread count: 8 physical cores, 16 logical processors, using up to 16 threads\n",
      "\n",
      "Optimize a model with 114894 rows, 118275 columns and 235899 nonzeros\n",
      "Model fingerprint: 0x8063a4d5\n",
      "Coefficient statistics:\n",
      "  Matrix range     [1e+00, 1e+00]\n",
      "  Objective range  [0e+00, 0e+00]\n",
      "  Bounds range     [0e+00, 0e+00]\n",
      "  RHS range        [1e+00, 1e+00]\n",
      "Presolve removed 114894 rows and 118275 columns\n",
      "Presolve time: 0.10s\n",
      "Presolve: All rows and columns removed\n",
      "Iteration    Objective       Primal Inf.    Dual Inf.      Time\n",
      "       0   -0.0000000e+00   0.000000e+00   1.840400e-02      0s\n",
      "\n",
      "Solved in 0 iterations and 0.16 seconds (0.10 work units)\n",
      "Optimal objective -0.000000000e+00\n",
      "\n",
      "User-callback calls 65, time in user-callback 0.00 sec\n",
      "termination_status(model) = MathOptInterface.OPTIMAL\n"
     ]
    },
    {
     "data": {
      "text/plain": [
       "OPTIMAL::TerminationStatusCode = 1"
      ]
     },
     "execution_count": 11,
     "metadata": {},
     "output_type": "execute_result"
    }
   ],
   "source": [
    "deg = 2\n",
    "deg_overall = 8\n",
    "theDegrees = [ 1   2  2 2  1  2 2  2  1  1 1 1] \n",
    "            # F_m q_e v B F_e E h U_H dt L I N  \n",
    "\n",
    "candidate_mons = [\n",
    "    #mons_of_max_degree_and_unit_overall(params, deg, deg_overall, [])\n",
    "    all_monomials_up_to_max_deg_overall_and_individual(x, deg, deg_overall, theDegrees)\n",
    "    for ai=axioms\n",
    "]\n",
    "\n",
    "@show size.(candidate_mons)\n",
    "\n",
    "# model = Model(Mosek.Optimizer)\n",
    "model = Model(Gurobi.Optimizer)\n",
    "set_optimizer_attribute(model, \"TimeLimit\", 600.0)\n",
    "\n",
    "mons_q = mons_of_max_degree_and_unit_overall([I N q_e B h L U_H], deg, deg_overall, []) #  only include variables expected to appear in the final theorem \n",
    "coeff_q =   @variable(model, [1:size(mons_q,1)], base_name=\"q\")\n",
    "\n",
    "q = sum(ci .* mi for (ci, mi)=zip(coeff_q, mons_q)) # Zip pairs things without needing a ref index, e.g., zip([1, 2, 3], [4,5,6])=((1,4), (2,5), (3,6))\n",
    "coeff_αs = [\n",
    "    @variable(model, [1:size(X,1)], base_name=\"α$i\")\n",
    "    for (i,X)=enumerate(candidate_mons)\n",
    "    ]\n",
    "@show size.(coeff_αs)\n",
    "αs = [sum(ci .* mi) for (ci, mi)=zip(coeff_αs, candidate_mons)]\n",
    "\n",
    "residual = q - sum(αᵢ * aᵢ for (αᵢ, aᵢ)=zip(αs,axioms));\n",
    "eqs = coefficients(residual)\n",
    "\n",
    "# Ensure that the sum of the coefficients on the terms involving m isn't zero, in order that m is part of expression\n",
    "@constraint model sum(coeff_q[degree.(mons_q, [U_H ]).>0]) == 1.0\n",
    "\n",
    "@constraint model eqs .== 0\n",
    "@objective model Max 0\n",
    "\n",
    "optimize!(model)\n",
    "@show termination_status(model)"
   ]
  },
  {
   "cell_type": "code",
   "execution_count": 12,
   "metadata": {},
   "outputs": [
    {
     "data": {
      "text/plain": [
       "#45 (generic function with 1 method)"
      ]
     },
     "execution_count": 12,
     "metadata": {},
     "output_type": "execute_result"
    }
   ],
   "source": [
    "value_poly = p -> sum(value.(coefficients(p)).* monomials(p))"
   ]
  },
  {
   "cell_type": "code",
   "execution_count": 13,
   "metadata": {},
   "outputs": [
    {
     "data": {
      "text/latex": [
       "$$ q_e^{2}U_HLN^{2} - q_eBhL^{2}IN $$"
      ],
      "text/plain": [
       "q_e²U_HLN² - q_eBhL²IN"
      ]
     },
     "execution_count": 13,
     "metadata": {},
     "output_type": "execute_result"
    }
   ],
   "source": [
    "value_q = value_poly(q)\n",
    "value_q"
   ]
  },
  {
   "cell_type": "markdown",
   "metadata": {},
   "source": [
    "After rearangment we get  U_H  = B h L I / (N q_e)"
   ]
  },
  {
   "cell_type": "code",
   "execution_count": 14,
   "metadata": {},
   "outputs": [
    {
     "name": "stdout",
     "output_type": "stream",
     "text": [
      "value_αs = value_poly.(αs) = Polynomial{DynamicPolynomials.Commutative{DynamicPolynomials.CreationOrder}, Graded{LexOrder}, Float64}[hdtLIN, -hdtLIN, -hdtLIN, -q_edtLIN, q_eBhLIN, -q_eU_HLN]\n"
     ]
    },
    {
     "data": {
      "text/plain": [
       "6-element Vector{Polynomial{DynamicPolynomials.Commutative{DynamicPolynomials.CreationOrder}, Graded{LexOrder}, Float64}}:\n",
       " hdtLIN\n",
       " -hdtLIN\n",
       " -hdtLIN\n",
       " -q_edtLIN\n",
       " q_eBhLIN\n",
       " -q_eU_HLN"
      ]
     },
     "execution_count": 14,
     "metadata": {},
     "output_type": "execute_result"
    },
    {
     "name": "stderr",
     "output_type": "stream",
     "text": [
      "WARNING: both JuMP and DynamicPolynomials export \"name\"; uses of it in module Main must be qualified\n"
     ]
    }
   ],
   "source": [
    "@show value_αs = value_poly.(αs)"
   ]
  },
  {
   "cell_type": "markdown",
   "metadata": {},
   "source": [
    "______________________________________________________________ eliminate q ____________________________________________________________________________________"
   ]
  },
  {
   "cell_type": "code",
   "execution_count": 15,
   "metadata": {},
   "outputs": [
    {
     "data": {
      "text/plain": [
       "1×15 Matrix{Variable{DynamicPolynomials.Commutative{DynamicPolynomials.CreationOrder}, Graded{LexOrder}}}:\n",
       " F_m  q_e  v  B  F_e  E  h  U_H  dt  L  I  N  n  Q  d"
      ]
     },
     "execution_count": 15,
     "metadata": {},
     "output_type": "execute_result"
    }
   ],
   "source": [
    "@polyvar F_m q_e v B F_e E h U_H dt L I N n Q d # the order matters per evaluation # Q N n V d\n",
    "\n",
    "x =     [F_m q_e v B F_e E h U_H dt L I N n Q d] #dv_x dv_y a_y a_x"
   ]
  },
  {
   "cell_type": "code",
   "execution_count": 16,
   "metadata": {},
   "outputs": [
    {
     "data": {
      "text/plain": [
       "7-element Vector{Polynomial{DynamicPolynomials.Commutative{DynamicPolynomials.CreationOrder}, Graded{LexOrder}, Int64}}:\n",
       " F_m - q_evB\n",
       " F_e - q_eE\n",
       " -F_e + F_m\n",
       " -U_H + Eh\n",
       " -L + vdt\n",
       " dtI - q_eN\n",
       " -N + hLnd"
      ]
     },
     "execution_count": 16,
     "metadata": {},
     "output_type": "execute_result"
    }
   ],
   "source": [
    "axioms= \n",
    "[\n",
    "    F_m - q_e * v * B,                    # Lorentz force\n",
    "    F_e - q_e * E,                        # electric force (E homogenous electric feild between the upper and lower metal plate)\n",
    "    F_m - F_e,                            # Newton's 3rd Law\n",
    "    E * h - U_H,                          # electric potnetial U_H to field E relation per plate width h (the electric field is not known)\n",
    "    v * dt - L,                           # velocity (v = L/dt) is not known\n",
    "  #  I * dt - Q,                           # amount of charge Q, is the current I times dt (can be measured by an amp meter)\n",
    "    I * dt - N * q_e,                       # amount of charge Q, is the current I times dt (can be measured by an amp meter)\n",
    "   # Q - N * q_e,                          # the charge Q is the number of electrons N by the chage of each electron q_e\n",
    "    n * L * h * d - N,                      # charge density is the number of electrons traveling through the metal plate in a given time over the volume V\n",
    "   # n * V - N,                            # charge density is the number of electrons traveling through the metal plate in a given time over the volume V\n",
    "   # V - L * h * d,                        # the volume V is the product of the length L by the width h, by the thickness of the plate d\n",
    "    ]"
   ]
  },
  {
   "cell_type": "code",
   "execution_count": 17,
   "metadata": {},
   "outputs": [
    {
     "name": "stdout",
     "output_type": "stream",
     "text": [
      "size.(candidate_mons) = [(79665,), (79665,), (79665,), (79665,), (79665,), (79665,), (79665,)]\n"
     ]
    }
   ],
   "source": [
    "deg = 2\n",
    "deg_overall = 8\n",
    "theDegrees = [ 1   2  2 2  1  2 2  2  1  1 1 1 1 1 1] \n",
    "            # F_m q_e v B F_e E h U_H dt L I N n Q d  \n",
    "\n",
    "candidate_mons = [\n",
    "    #mons_of_max_degree_and_unit_overall(params, deg, deg_overall, [])\n",
    "    all_monomials_up_to_max_deg_overall_and_individual(x, deg, deg_overall, theDegrees)\n",
    "    for ai=axioms\n",
    "]\n",
    "\n",
    "@show size.(candidate_mons)\n",
    "\n",
    "# model = Model(Mosek.Optimizer)\n",
    "model = Model(Gurobi.Optimizer)\n",
    "set_optimizer_attribute(model, \"TimeLimit\", 600.0)\n",
    "\n",
    "mons_q = mons_of_max_degree_and_unit_overall([I n q_e B h d U_H], deg, deg_overall, []) #  only include variables expected to appear in the final theorem \n",
    "coeff_q =   @variable(model, [1:size(mons_q,1)], base_name=\"q\")\n",
    "\n",
    "q = sum(ci .* mi for (ci, mi)=zip(coeff_q, mons_q)) # Zip pairs things without needing a ref index, e.g., zip([1, 2, 3], [4,5,6])=((1,4), (2,5), (3,6))\n",
    "coeff_αs = [\n",
    "    @variable(model, [1:size(X,1)], base_name=\"α$i\")\n",
    "    for (i,X)=enumerate(candidate_mons)\n",
    "    ]\n",
    "@show size.(coeff_αs)\n",
    "αs = [sum(ci .* mi) for (ci, mi)=zip(coeff_αs, candidate_mons)]\n",
    "\n",
    "residual = q - sum(αᵢ * aᵢ for (αᵢ, aᵢ)=zip(αs,axioms));\n",
    "eqs = coefficients(residual)\n",
    "\n",
    "# Ensure that the sum of the coefficients on the terms involving m isn't zero, in order that m is part of expression\n",
    "@constraint model sum(coeff_q[degree.(mons_q, [U_H ]).>0]) == 1.0\n",
    "\n",
    "@constraint model eqs .== 0\n",
    "@objective model Max 0\n",
    "\n",
    "optimize!(model)\n",
    "@show termination_status(model)"
   ]
  }
 ],
 "metadata": {
  "kernelspec": {
   "display_name": "Julia 1.10.2",
   "language": "julia",
   "name": "julia-1.10"
  },
  "language_info": {
   "file_extension": ".jl",
   "mimetype": "application/julia",
   "name": "julia",
   "version": "1.9.4"
  }
 },
 "nbformat": 4,
 "nbformat_minor": 2
}
