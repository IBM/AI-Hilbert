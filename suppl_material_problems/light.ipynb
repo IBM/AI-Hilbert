{
 "cells": [
  {
   "cell_type": "markdown",
   "metadata": {},
   "source": [
    "Radiation Damping. Light Scattering\n",
    "\n",
    "https://www.feynmanlectures.caltech.edu/I_32.html\n",
    "\n",
    "total amount of light scattered in all directions\n"
   ]
  },
  {
   "cell_type": "code",
   "execution_count": 1,
   "metadata": {},
   "outputs": [],
   "source": [
    "using DynamicPolynomials\n",
    "using JuMP\n",
    "using MosekTools\n",
    "using LinearAlgebra\n",
    "using CSV\n",
    "using DataFrames\n",
    "import JSON\n",
    "using Dates\n",
    "using Gurobi"
   ]
  },
  {
   "cell_type": "markdown",
   "metadata": {},
   "source": [
    "functions for generating monomials"
   ]
  },
  {
   "cell_type": "code",
   "execution_count": 2,
   "metadata": {},
   "outputs": [
    {
     "data": {
      "text/plain": [
       "all_monomials_up_to_max_deg_overall_and_individual (generic function with 1 method)"
      ]
     },
     "execution_count": 2,
     "metadata": {},
     "output_type": "execute_result"
    }
   ],
   "source": [
    "function all_monomials_up_to_max_deg(x, deg)\n",
    "    if size(x,1) == 0\n",
    "        [1]\n",
    "    else\n",
    "    [ x[1]^k * m for k=0:deg \n",
    "      for m=all_monomials_up_to_max_deg(x[2:end], deg)\n",
    "    ]\n",
    "    end\n",
    "end\n",
    "\n",
    "function mons_of_max_degree_and_unit(x, deg, u)\n",
    "    [m\n",
    "        for m=all_monomials_up_to_max_deg(x, deg)\n",
    "        #if all(unit(m) .== u)\n",
    "    ]\n",
    "end\n",
    "                \n",
    "function degree_poly(p)\n",
    "    maximum(degree.(monomials(p)))\n",
    "end\n",
    "\n",
    "function all_monomials_up_to_max_deg_overall(x, deg, deg_overall)\n",
    "    if size(x,1) == 0\n",
    "        [1]\n",
    "    else\n",
    "    [ x[1]^k * m for k=0:min(deg, deg_overall) \n",
    "                for m=all_monomials_up_to_max_deg_overall(x[2:end], deg, deg_overall-k)\n",
    "    ]\n",
    "    end\n",
    "end\n",
    "\n",
    "function mons_of_max_degree_and_unit_overall(x, deg, deg_overall, u)\n",
    "    [m\n",
    "        for m=all_monomials_up_to_max_deg_overall(x, deg, deg_overall)\n",
    "        #if all(unit(m) .== u)\n",
    "    ]\n",
    "end\n",
    "\n",
    "function all_monomials_up_to_max_deg_overall_and_individual(x, deg, deg_overall, theDegrees)\n",
    "    if size(x,1) == 0\n",
    "        [1]\n",
    "    else\n",
    "    [ x[1]^k * m for k=0:min(deg, deg_overall, theDegrees[1]) \n",
    "                for m=all_monomials_up_to_max_deg_overall_and_individual(x[2:end], deg, deg_overall-k, theDegrees[2:end])\n",
    "    ]\n",
    "    end\n",
    "end"
   ]
  },
  {
   "cell_type": "code",
   "execution_count": 17,
   "metadata": {},
   "outputs": [
    {
     "data": {
      "text/plain": [
       "1×10 Matrix{Variable{DynamicPolynomials.Commutative{DynamicPolynomials.CreationOrder}, Graded{LexOrder}}}:\n",
       " P  S  r  qc  ap  sin_theta  dA  dtheta  w  x_0"
      ]
     },
     "execution_count": 17,
     "metadata": {},
     "output_type": "execute_result"
    }
   ],
   "source": [
    "@polyvar  P S  r  qc ap sin_theta dA dtheta  w x_0 # Intg c eps_0 W Q E  P  q_e x_0 m m_e  r_0  a b lambda  w e c    # the order matters per evaluation # sin_theta, a = sin_theta, b = cos_theta \n",
    "\n",
    "x =[  P S  r  qc ap sin_theta dA dtheta w x_0]  # Intg sin_theta \n",
    "# w_0 natural fequency of atom vibration"
   ]
  },
  {
   "cell_type": "code",
   "execution_count": 18,
   "metadata": {},
   "outputs": [
    {
     "data": {
      "text/plain": [
       "5-element Vector{Polynomial{DynamicPolynomials.Commutative{DynamicPolynomials.CreationOrder}, Graded{LexOrder}, Float64}}:\n",
       " Sr² - qc²ap²sin_theta²\n",
       " dA - 6.283185307179586r²sin_thetadtheta\n",
       " P - SdA\n",
       " 1.3333333333333333 - sin_theta³dtheta\n",
       " ap² - 0.5w⁴x_0²"
      ]
     },
     "execution_count": 18,
     "metadata": {},
     "output_type": "execute_result"
    }
   ],
   "source": [
    "axioms= \n",
    "[\n",
    "  # a^2 + b^2 - 1,  # a = sin_theta, b = cos_theta     \n",
    "  # S - eps_0 * c * E^2, #need an expectation over E (I.32.1)\n",
    "  # S * 16 * pi^2 *eps_0 * r^2 * c^3 - qc^2 * ap^2 * a^2, #sin_theta^2, # rate of radiation of energy (I.32.2)\n",
    "  S * r^2 - qc^2 * ap^2 * sin_theta^2, ##S * 16 * pi^2 *eps_0 * r^2 * c^3 - qc^2 * ap^2 * sin_theta^2, #sin_theta^2, # rate of radiation of energy (I.32.2)\n",
    "    dA - 2* pi* r^2 * sin_theta * dtheta, # The area of a spherical segment is 2πrsinθ⋅rdθ\n",
    " #  Intg * sin_theta^3 * dtheta - 4/3,            # a crocked way of defining an integral of sin^3 theta between 0 and pi\n",
    " #  P - Intg * S * dA,\n",
    "    P - S * dA, \n",
    "    #Intg - sin_theta^3 * dtheta,\n",
    "    #Intg - 4/3,\n",
    "    4/3 -  sin_theta^3 * dtheta,\n",
    "    #P * 6 * pi * eps_0 * c^3 - q^2 * ap^2,                #               (I.32.5)\n",
    "   ap^2 - 0.5 *w^4 * x_0^2,                              #               (I.32.5b) The average of the acceleration of an ocilating charge  over a cycle (squared)\n",
    "    #P * 12 * pi * eps_0 * c^3 - q^2 * w^4 * x_0^2,     #               (I.32.6)\n",
    " #   e^2 * 4 * pi * eps_0 - q_e^2,                       # electric potenial of an electron (I.32.7)\n",
    " #   W - 1/2 * m * w^2 * x_0^2,                          #  total energy of an oscillator, on the average half is kinetic and half is potential energy (I.32.9)\n",
    " #   r_0 * m_e * c^2 - e^2,                              # radius magnitude\n",
    " #   Q * 4 * pi * r_0 - 3 * lambda,                      # total energy content of the oscillator at any time divided by the energy loss per radian\n",
    " #   lambda * w - 2* pi * c,                             # wavelength to angualr frequency relation\n",
    "    ]"
   ]
  },
  {
   "cell_type": "code",
   "execution_count": 20,
   "metadata": {},
   "outputs": [
    {
     "name": "stdout",
     "output_type": "stream",
     "text": [
      "size.(candidate_mons) = [(58170,), (58170,), (58170,), (58170,), (58170,)]\n",
      "Set parameter Username\n",
      "Academic license - for non-commercial use only - expires 2024-12-04\n",
      "Set parameter TimeLimit to value 600\n",
      "size.(coeff_αs) = [(58170,), (58170,), (58170,), (58170,), (58170,)]\n",
      "Set parameter TimeLimit to value 600\n",
      "Gurobi Optimizer version 11.0.0 build v11.0.0rc2 (win64 - Windows 11+.0 (22631.2))\n",
      "\n",
      "CPU model: Intel(R) Core(TM) i9-10885H CPU @ 2.40GHz, instruction set [SSE2|AVX|AVX2]\n",
      "Thread count: 8 physical cores, 16 logical processors, using up to 16 threads\n",
      "\n",
      "Optimize a model with 386146 rows, 292603 columns and 584703 nonzeros\n",
      "Model fingerprint: 0x0ffd25c9\n",
      "Coefficient statistics:\n",
      "  Matrix range     [5e-01, 6e+00]\n",
      "  Objective range  [0e+00, 0e+00]\n",
      "  Bounds range     [0e+00, 0e+00]\n",
      "  RHS range        [4e+00, 4e+00]\n",
      "Presolve removed 386146 rows and 292603 columns\n",
      "Presolve time: 0.22s\n",
      "Presolve: All rows and columns removed\n",
      "Iteration    Objective       Primal Inf.    Dual Inf.      Time\n",
      "       0   -0.0000000e+00   0.000000e+00   1.184700e-02      0s\n",
      "\n",
      "Solved in 0 iterations and 0.38 seconds (0.31 work units)\n",
      "Optimal objective -0.000000000e+00\n",
      "\n",
      "User-callback calls 62, time in user-callback 0.00 sec\n",
      "termination_status(model) = MathOptInterface.OPTIMAL\n"
     ]
    },
    {
     "data": {
      "text/plain": [
       "OPTIMAL::TerminationStatusCode = 1"
      ]
     },
     "execution_count": 20,
     "metadata": {},
     "output_type": "execute_result"
    }
   ],
   "source": [
    "deg = 4\n",
    "deg_overall = 10\n",
    "theDegrees = [ 2  2 4 2  2   3         2   2   4   2] # 4 2 ]                                                # [2 2 2 2 2 2  2   2   2 2  2  3  3    2    2 2 2 2 2  2   ] \n",
    "            #  P S r qc ap sin_theta dA dtheta  w x_0] # Intg  W Q E S P q q_e x_0 ap m m_e r r_0 lambda a b w e c eps_0             \n",
    "#theDegrees = [2     2  2   4 3  4  4  3         2  2     4  2]                                                # [2 2 2 2 2 2  2   2   2 2  2  3  3    2    2 2 2 2 2  2   ] \n",
    "            # Intg S eps_0 r c qc ap sin_theta dA dtheta w x_0 # W Q E S P q q_e x_0 ap m m_e r r_0 lambda a b w e c eps_0 \n",
    "\n",
    "candidate_mons = [\n",
    "    #mons_of_max_degree_and_unit_overall(params, deg, deg_overall, [])\n",
    "    all_monomials_up_to_max_deg_overall_and_individual(x, deg, deg_overall, theDegrees)\n",
    "    for ai=axioms\n",
    "]\n",
    "@show size.(candidate_mons)\n",
    "\n",
    "# model = Model(Mosek.Optimizer)\n",
    "model = Model(Gurobi.Optimizer)\n",
    "set_optimizer_attribute(model, \"TimeLimit\", 600.0)\n",
    "\n",
    "mons_q = mons_of_max_degree_and_unit_overall([ P qc r w x_0 ], deg, deg_overall, []) #  only include variables expected to appear in the final theorem \n",
    "coeff_q =   @variable(model, [1:size(mons_q,1)], base_name=\"q\")\n",
    "\n",
    "q = sum(ci .* mi for (ci, mi)=zip(coeff_q, mons_q)) # Zip pairs things without needing a ref index, e.g., zip([1, 2, 3], [4,5,6])=((1,4), (2,5), (3,6))\n",
    "coeff_αs = [\n",
    "    @variable(model, [1:size(X,1)], base_name=\"α$i\")\n",
    "    for (i,X)=enumerate(candidate_mons)\n",
    "    ]\n",
    "@show size.(coeff_αs)\n",
    "αs = [sum(ci .* mi) for (ci, mi)=zip(coeff_αs, candidate_mons)]\n",
    "\n",
    "residual = q - sum(αᵢ * aᵢ for (αᵢ, aᵢ)=zip(αs,axioms));\n",
    "eqs = coefficients(residual)\n",
    "\n",
    "# Ensure that the sum of the coefficients on the terms involving m isn't zero, in order that m is part of expression\n",
    "@constraint model sum(coeff_q[degree.(mons_q, [P ]).>0]) == 4.0 # insist that some variables will appear\n",
    "#@constraint model sum(coeff_q[degree.(mons_q,[E_c]).>0]) == 0.0 # insist that some variables will not appear\n",
    "@constraint model eqs .== 0\n",
    "@objective model Max 0\n",
    "\n",
    "optimize!(model)\n",
    "@show termination_status(model)"
   ]
  },
  {
   "cell_type": "code",
   "execution_count": 1,
   "metadata": {},
   "outputs": [
    {
     "data": {
      "text/plain": [
       "#3 (generic function with 1 method)"
      ]
     },
     "execution_count": 1,
     "metadata": {},
     "output_type": "execute_result"
    }
   ],
   "source": [
    "value_poly = p -> sum(value.(coefficients(p)).* monomials(p))\n"
   ]
  },
  {
   "cell_type": "code",
   "execution_count": 22,
   "metadata": {},
   "outputs": [
    {
     "data": {
      "text/latex": [
       "$$ 4.0P - 16.755160819145562qc^{2}w^{4}x_0^{2} $$"
      ],
      "text/plain": [
       "4.0P - 16.755160819145562qc²w⁴x_0²"
      ]
     },
     "execution_count": 22,
     "metadata": {},
     "output_type": "execute_result"
    }
   ],
   "source": [
    "value_q = value_poly(q)\n",
    "value_q"
   ]
  },
  {
   "cell_type": "markdown",
   "metadata": {},
   "source": [
    "dividing by 4, we get as expected  P = 4/3*pi q_c^2 x_0^2 w^4"
   ]
  },
  {
   "cell_type": "code",
   "execution_count": 23,
   "metadata": {},
   "outputs": [
    {
     "name": "stdout",
     "output_type": "stream",
     "text": [
      "value_αs = value_poly.(αs) = Polynomial{DynamicPolynomials.Commutative{DynamicPolynomials.CreationOrder}, Graded{LexOrder}, Float64}[25.132741228718345sin_thetadtheta, 4.0S, 4.0, -12.566370614359172qc²w⁴x_0², 25.132741228718345qc²sin_theta³dtheta]\n"
     ]
    },
    {
     "data": {
      "text/plain": [
       "5-element Vector{Polynomial{DynamicPolynomials.Commutative{DynamicPolynomials.CreationOrder}, Graded{LexOrder}, Float64}}:\n",
       " 25.132741228718345sin_thetadtheta\n",
       " 4.0S\n",
       " 4.0\n",
       " -12.566370614359172qc²w⁴x_0²\n",
       " 25.132741228718345qc²sin_theta³dtheta"
      ]
     },
     "execution_count": 23,
     "metadata": {},
     "output_type": "execute_result"
    }
   ],
   "source": [
    "@show value_αs = value_poly.(αs)"
   ]
  },
  {
   "cell_type": "markdown",
   "metadata": {},
   "source": [
    "______________________________alternative (squares ) formulation _____________________"
   ]
  },
  {
   "cell_type": "code",
   "execution_count": 5,
   "metadata": {},
   "outputs": [
    {
     "data": {
      "text/plain": [
       "1×10 Matrix{Variable{DynamicPolynomials.Commutative{DynamicPolynomials.CreationOrder}, Graded{LexOrder}}}:\n",
       " P  S  rs  qcs  aps  sin_theta  dA  dtheta  ws  x_0s"
      ]
     },
     "execution_count": 5,
     "metadata": {},
     "output_type": "execute_result"
    }
   ],
   "source": [
    "@polyvar  P S  rs  qcs aps sin_theta dA dtheta  ws x_0s # Intg c eps_0 W Q E  P  q_e x_0 m m_e  r_0  a b lambda  w e c    # the order matters per evaluation # sin_theta, a = sin_theta, b = cos_theta \n",
    "\n",
    "x =[  P S  rs  qcs aps sin_theta dA dtheta  ws x_0s]  # Intg sin_theta \n",
    "# w_0 natural fequency of atom vibration"
   ]
  },
  {
   "cell_type": "code",
   "execution_count": 6,
   "metadata": {},
   "outputs": [
    {
     "data": {
      "text/plain": [
       "5-element Vector{Polynomial{DynamicPolynomials.Commutative{DynamicPolynomials.CreationOrder}, Graded{LexOrder}, Float64}}:\n",
       " Srs - qcsapssin_theta²\n",
       " dA - 6.283185307179586rssin_thetadtheta\n",
       " -1.3333333333333333 + sin_theta³dtheta\n",
       " P - SdA\n",
       " aps - 0.5ws²x_0s"
      ]
     },
     "execution_count": 6,
     "metadata": {},
     "output_type": "execute_result"
    }
   ],
   "source": [
    "axioms= \n",
    "[\n",
    "  # a^2 + b^2 - 1,  # a = sin_theta, b = cos_theta     \n",
    "  # S - eps_0 * c * E^2, #need an expectation over E (I.32.1)\n",
    "  # S * 16 * pi^2 *eps_0 * r^2 * c^3 - qc^2 * ap^2 * a^2, #sin_theta^2, # rate of radiation of energy (I.32.2)\n",
    "  S * rs - qcs * aps * sin_theta^2, ##S * 16 * pi^2 *eps_0 * r^2 * c^3 - qc^2 * ap^2 * sin_theta^2, #sin_theta^2, # rate of radiation of energy (I.32.2)\n",
    "    dA - 2* pi* rs * sin_theta * dtheta, # \n",
    "    sin_theta^3 * dtheta - 4/3,            # a crocked way of defining an integral of sin^3 theta between 0 and pi\n",
    "    P - S * dA,\n",
    "    #P * 6 * pi * eps_0 * c^3 - q^2 * ap^2,              #               (I.32.5)\n",
    "   aps - 0.5 *ws^2 * x_0s,                               #               (I.32.5b)\n",
    "    #P * 12 * pi * eps_0 * c^3 - q^2 * w^4 * x_0^2,      #               (I.32.6)\n",
    " #   e^2 * 4 * pi * eps_0 - q_e^2,                       # electric potenial of an electron (I.32.7)\n",
    " #   W - 1/2 * m * w^2 * x_0^2,                          #  total energy of an oscillator, on the average half is kinetic and half is potential energy (I.32.9)\n",
    " #   r_0 * m_e * c^2 - e^2,                              # radius magnitude\n",
    " #   Q * 4 * pi * r_0 - 3 * lambda,                      # total energy content of the oscillator at any time divided by the energy loss per radian\n",
    " #   lambda * w - 2* pi * c,                             # wavelength to angualr frequency relation\n",
    "    ]"
   ]
  },
  {
   "cell_type": "code",
   "execution_count": 10,
   "metadata": {},
   "outputs": [
    {
     "name": "stdout",
     "output_type": "stream",
     "text": [
      "size.(candidate_mons) = [(21539,), (21539,), (21539,), (21539,), (21539,)]\n",
      "Set parameter Username\n",
      "Academic license - for non-commercial use only - expires 2024-12-04\n",
      "Set parameter TimeLimit to value 600\n",
      "size.(coeff_αs) = [(21539,), (21539,), (21539,), (21539,), (21539,)]\n",
      "Set parameter TimeLimit to value 600\n",
      "Gurobi Optimizer version 11.0.0 build v11.0.0rc2 (win64 - Windows 11+.0 (22631.2))\n",
      "\n",
      "CPU model: Intel(R) Core(TM) i9-10885H CPU @ 2.40GHz, instruction set [SSE2|AVX|AVX2]\n",
      "Thread count: 8 physical cores, 16 logical processors, using up to 16 threads\n",
      "\n",
      "Optimize a model with 125796 rows, 108698 columns and 217140 nonzeros\n",
      "Model fingerprint: 0xa6f23944\n",
      "Coefficient statistics:\n",
      "  Matrix range     [5e-01, 6e+00]\n",
      "  Objective range  [0e+00, 0e+00]\n",
      "  Bounds range     [0e+00, 0e+00]\n",
      "  RHS range        [4e+00, 4e+00]\n",
      "Presolve removed 125796 rows and 108698 columns\n",
      "Presolve time: 0.10s\n",
      "Presolve: All rows and columns removed\n",
      "Iteration    Objective       Primal Inf.    Dual Inf.      Time\n",
      "       0   -0.0000000e+00   0.000000e+00   7.462000e-03      0s\n",
      "\n",
      "Solved in 0 iterations and 0.19 seconds (0.09 work units)\n",
      "Optimal objective -0.000000000e+00\n",
      "\n",
      "User-callback calls 63, time in user-callback 0.00 sec\n",
      "termination_status(model) = MathOptInterface.OPTIMAL\n"
     ]
    },
    {
     "data": {
      "text/plain": [
       "OPTIMAL::TerminationStatusCode = 1"
      ]
     },
     "execution_count": 10,
     "metadata": {},
     "output_type": "execute_result"
    }
   ],
   "source": [
    "deg = 3\n",
    "deg_overall = 12\n",
    "theDegrees = [1 1 2   2   2   3         1   2      2  2] # 4 2 ]                                                # [2 2 2 2 2 2  2   2   2 2  2  3  3    2    2 2 2 2 2  2   ] \n",
    "            # P S rs qcs aps sin_theta dA dtheta  ws x_0s] # W Q E S P q q_e x_0 ap m m_e r r_0 lambda a b w e c eps_0             \n",
    "#theDegrees = [2     2  2   4 3  4  4  3         2  2     4  2]                                                # [2 2 2 2 2 2  2   2   2 2  2  3  3    2    2 2 2 2 2  2   ] \n",
    "            # Intg S eps_0 r c qc ap sin_theta dA dtheta w x_0 # W Q E S P q q_e x_0 ap m m_e r r_0 lambda a b w e c eps_0 \n",
    "\n",
    "candidate_mons = [\n",
    "    #mons_of_max_degree_and_unit_overall(params, deg, deg_overall, [])\n",
    "    all_monomials_up_to_max_deg_overall_and_individual(x, deg, deg_overall, theDegrees)\n",
    "    for ai=axioms\n",
    "]\n",
    "@show size.(candidate_mons)\n",
    "\n",
    "# model = Model(Mosek.Optimizer)\n",
    "model = Model(Gurobi.Optimizer)\n",
    "set_optimizer_attribute(model, \"TimeLimit\", 600.0)\n",
    "\n",
    "mons_q = mons_of_max_degree_and_unit_overall([ P qcs rs ws x_0s ], deg, deg_overall, []) #  only include variables expected to appear in the final theorem \n",
    "coeff_q =   @variable(model, [1:size(mons_q,1)], base_name=\"q\")\n",
    "\n",
    "q = sum(ci .* mi for (ci, mi)=zip(coeff_q, mons_q)) # Zip pairs things without needing a ref index, e.g., zip([1, 2, 3], [4,5,6])=((1,4), (2,5), (3,6))\n",
    "coeff_αs = [\n",
    "    @variable(model, [1:size(X,1)], base_name=\"α$i\")\n",
    "    for (i,X)=enumerate(candidate_mons)\n",
    "    ]\n",
    "@show size.(coeff_αs)\n",
    "αs = [sum(ci .* mi) for (ci, mi)=zip(coeff_αs, candidate_mons)]\n",
    "\n",
    "residual = q - sum(αᵢ * aᵢ for (αᵢ, aᵢ)=zip(αs,axioms));\n",
    "eqs = coefficients(residual)\n",
    "\n",
    "# Ensure that the sum of the coefficients on the terms involving m isn't zero, in order that m is part of expression\n",
    "@constraint model sum(coeff_q[degree.(mons_q, [P ]).>0]) == 4.0 # insist that some variables will appear\n",
    "#@constraint model sum(coeff_q[degree.(mons_q,[E_c]).>0]) == 0.0 # insist that some variables will not appear\n",
    "@constraint model eqs .== 0\n",
    "@objective model Max 0\n",
    "\n",
    "optimize!(model)\n",
    "@show termination_status(model)"
   ]
  },
  {
   "cell_type": "code",
   "execution_count": 11,
   "metadata": {},
   "outputs": [
    {
     "data": {
      "text/plain": [
       "#71 (generic function with 1 method)"
      ]
     },
     "execution_count": 11,
     "metadata": {},
     "output_type": "execute_result"
    }
   ],
   "source": [
    "value_poly = p -> sum(value.(coefficients(p)).* monomials(p))"
   ]
  },
  {
   "cell_type": "code",
   "execution_count": 12,
   "metadata": {},
   "outputs": [
    {
     "data": {
      "text/latex": [
       "$$ 4.0Prsws - 16.755160819145562rsqcsws^{3}x_0s $$"
      ],
      "text/plain": [
       "4.0Prsws - 16.755160819145562rsqcsws³x_0s"
      ]
     },
     "execution_count": 12,
     "metadata": {},
     "output_type": "execute_result"
    }
   ],
   "source": [
    "value_q = value_poly(q)\n",
    "value_q"
   ]
  },
  {
   "cell_type": "code",
   "execution_count": 14,
   "metadata": {},
   "outputs": [
    {
     "name": "stdout",
     "output_type": "stream",
     "text": [
      "value_αs = value_poly.(αs) = Polynomial{DynamicPolynomials.Commutative{DynamicPolynomials.CreationOrder}, Graded{LexOrder}, Float64}[3.0sin_theta³dAdthetaws, 4.0qcsapssin_theta²ws, 25.132741228718345rsqcsapsws - 3.0SrsdAws + 3.0qcsapssin_theta²dAws, 4.0rsws, 33.510321638291124rsqcsws]\n"
     ]
    },
    {
     "data": {
      "text/plain": [
       "5-element Vector{Polynomial{DynamicPolynomials.Commutative{DynamicPolynomials.CreationOrder}, Graded{LexOrder}, Float64}}:\n",
       " 3.0sin_theta³dAdthetaws\n",
       " 4.0qcsapssin_theta²ws\n",
       " 25.132741228718345rsqcsapsws - 3.0SrsdAws + 3.0qcsapssin_theta²dAws\n",
       " 4.0rsws\n",
       " 33.510321638291124rsqcsws"
      ]
     },
     "execution_count": 14,
     "metadata": {},
     "output_type": "execute_result"
    }
   ],
   "source": [
    "@show value_αs = value_poly.(αs)"
   ]
  }
 ],
 "metadata": {
  "kernelspec": {
   "display_name": "Julia 1.10.2",
   "language": "julia",
   "name": "julia-1.10"
  },
  "language_info": {
   "file_extension": ".jl",
   "mimetype": "application/julia",
   "name": "julia",
   "version": "1.9.4"
  }
 },
 "nbformat": 4,
 "nbformat_minor": 2
}
