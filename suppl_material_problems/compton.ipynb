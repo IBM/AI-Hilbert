{
 "cells": [
  {
   "cell_type": "markdown",
   "metadata": {},
   "source": [
    "# This notebook contains background theory for the Compton Scattering Problem, and a solution using AI Hilbert.\n",
    "\n",
    "You will need to have installed Julia, CPLEX (or Gurobi) to reproduce the code run here.\n",
    "\n",
    "We ran everything using Julia version 1.7.3, and CPLEX\n",
    "\n",
    "If you wish to use Gurobi, comment out the \"using CPLEX\" line and uncomment the \"using Gurobi\" line"
   ]
  },
  {
   "cell_type": "code",
   "execution_count": 1,
   "metadata": {},
   "outputs": [],
   "source": [
    "using DynamicPolynomials\n",
    "using JuMP\n",
    "using LinearAlgebra\n",
    "using CSV\n",
    "using DataFrames\n",
    "import JSON\n",
    "using Dates\n",
    "using CPLEX\n",
    "#using Gurobi"
   ]
  },
  {
   "cell_type": "markdown",
   "metadata": {},
   "source": [
    "### Functions for generating monomials"
   ]
  },
  {
   "cell_type": "markdown",
   "metadata": {},
   "source": [
    "We have two versions of these functions: one which only controls the overall degree, and one which also controls each variable's degree, in order to have finer grained control"
   ]
  },
  {
   "cell_type": "code",
   "execution_count": 2,
   "metadata": {},
   "outputs": [
    {
     "data": {
      "text/plain": [
       "mons_of_max_degree_and_unit_overall (generic function with 1 method)"
      ]
     },
     "execution_count": 2,
     "metadata": {},
     "output_type": "execute_result"
    }
   ],
   "source": [
    "function all_monomials_up_to_max_deg(x, deg)\n",
    "    if size(x,1) == 0\n",
    "        [1]\n",
    "    else\n",
    "    [ x[1]^k * m for k=0:deg \n",
    "      for m=all_monomials_up_to_max_deg(x[2:end], deg)\n",
    "    ]\n",
    "    end\n",
    "end\n",
    "\n",
    "function mons_of_max_degree_and_unit(x, deg, u)\n",
    "    [m\n",
    "        for m=all_monomials_up_to_max_deg(x, deg)\n",
    "        #if all(unit(m) .== u)\n",
    "    ]\n",
    "end\n",
    "                \n",
    "function degree_poly(p)\n",
    "    maximum(degree.(monomials(p)))\n",
    "end\n",
    "\n",
    "function all_monomials_up_to_max_deg_overall(x, deg, deg_overall)\n",
    "    if size(x,1) == 0\n",
    "        [1]\n",
    "    else\n",
    "    [ x[1]^k * m for k=0:min(deg, deg_overall) \n",
    "                for m=all_monomials_up_to_max_deg_overall(x[2:end], deg, deg_overall-k)\n",
    "    ]\n",
    "    end\n",
    "end\n",
    "\n",
    "function all_monomials_up_to_max_deg_overall_and_individual(x, deg, deg_overall, theDegrees)\n",
    "    if size(x,1) == 0\n",
    "        [1]\n",
    "    else\n",
    "    [ x[1]^k * m for k=0:min(deg, deg_overall, theDegrees[1]) \n",
    "                for m=all_monomials_up_to_max_deg_overall_and_individual(x[2:end], deg, deg_overall-k, theDegrees[2:end])\n",
    "    ]\n",
    "    end\n",
    "end\n",
    "\n",
    "function mons_of_max_degree_and_unit_overall(x, deg, deg_overall, u)\n",
    "    [m\n",
    "        for m=all_monomials_up_to_max_deg_overall(x, deg, deg_overall)\n",
    "        #if all(unit(m) .== u)\n",
    "    ]\n",
    "end"
   ]
  },
  {
   "cell_type": "code",
   "execution_count": 3,
   "metadata": {},
   "outputs": [
    {
     "data": {
      "text/plain": [
       "1×15 Matrix{Variable{DynamicPolynomials.Commutative{DynamicPolynomials.CreationOrder}, Graded{LexOrder}}}:\n",
       " f1  lambda1  f2  lambda2  h  me  c  cos  E1  E2  Ee1  Ee2  p1  p2  pe2"
      ]
     },
     "execution_count": 3,
     "metadata": {},
     "output_type": "execute_result"
    }
   ],
   "source": [
    "@polyvar f1 lambda1 f2 lambda2 h me c cos E1 E2 Ee1 Ee2 p1 p2 pe2\n",
    "u =[f1 lambda1 f2 lambda2 h me c cos E1 E2 Ee1 Ee2 p1 p2 pe2]"
   ]
  },
  {
   "cell_type": "code",
   "execution_count": 4,
   "metadata": {},
   "outputs": [
    {
     "data": {
      "text/plain": [
       "10-element Vector{Polynomial{DynamicPolynomials.Commutative{DynamicPolynomials.CreationOrder}, Graded{LexOrder}, Int64}}:\n",
       " -Ee2 + Ee1 - E2 + E1\n",
       " E1 - f1h\n",
       " E2 - f2h\n",
       " cp1 - f1h\n",
       " cp2 - f2h\n",
       " -c + f1lambda1\n",
       " -c + f2lambda2\n",
       " Ee1 - mec²\n",
       " Ee2² - c²pe2² - me²c⁴\n",
       " pe2² - p2² - p1² + 2cosp1p2"
      ]
     },
     "execution_count": 4,
     "metadata": {},
     "output_type": "execute_result"
    }
   ],
   "source": [
    "# Including some axioms here\n",
    "axioms2 =[\n",
    "    E1+Ee1-E2-Ee2, # conservation of energy, E1 is initial photon energy, E2 final energy, Ee1/Ee2 is initial/final electron energy\n",
    "    E1-h*f1,       # photon energy in terms of frequency (f1 is initial frequency, f2 is final frequency)\n",
    "    E2-h*f2,\n",
    "    p1*c - h*f1,   # photon momemntum in terms of frequency (p1 is initial photon momentum, p2 is final momentum)\n",
    "    p2*c - h*f2,\n",
    "    lambda1*f1-c,  # relationship between frequency and wavelength\n",
    "    lambda2*f2-c,\n",
    "    Ee1-me*c^2,    # energy of essentially stationary (relative to speed of light) electron\n",
    "    Ee2^2-pe2^2*c^2-me^2*c^4, #relativistic energy-momentum relation applied to the electron after collision (after squaring); pe2 is final momentum\n",
    "    pe2^2-p1^2-p2^2+2*p1*p2*cos, # conservation of momentum, after taking inner product of vector representation of conservation law\n",
    "    ]"
   ]
  },
  {
   "cell_type": "code",
   "execution_count": 5,
   "metadata": {},
   "outputs": [
    {
     "name": "stdout",
     "output_type": "stream",
     "text": [
      "size.(candidate_mons) = [(54264,), (54264,), (54264,), (54264,), (54264,), (54264,), (54264,), (54264,), (54264,), (54264,)]\n",
      "size.(coeff_αs) = [(54264,), (54264,), (54264,), (54264,), (54264,), (54264,), (54264,), (54264,), (54264,), (54264,)]\n",
      "CPLEX Error  3003: Not a mixed-integer problem.\n",
      "Version identifier: 22.1.1.0 | 2022-11-27 | 9160aff4d\n",
      "Parallel mode: deterministic, using up to 8 threads for concurrent optimization:\n",
      " * Starting dual Simplex on 1 thread...\n",
      " * Starting Barrier on 6 threads...\n",
      " * Starting primal Simplex on 1 thread...\n",
      "Tried aggregator 1 time.\n",
      "LP Presolve eliminated 420157 rows and 370276 columns.\n",
      "Aggregator did 175781 substitutions.\n",
      "Reduced LP has 1977 rows, 2589 columns, and 7208 nonzeros.\n",
      "Presolve time = 1.17 sec. (349.78 ticks)\n",
      "Initializing dual steep norms . . .\n",
      "\n",
      "Iteration log . . .\n",
      "Iteration:     1   Dual infeasibility =            47.000000\n",
      "Iteration:   171   Dual infeasibility =            33.999990\n",
      "Iteration:   347   Dual infeasibility =            15.999990\n",
      "Iteration:   483   Dual objective     =             1.000000\n",
      "\n",
      "Dual simplex solved model.\n",
      "\n",
      "termination_status(model) = MathOptInterface.OPTIMAL\n",
      "value_poly2(q) = 0.5h²c² - 0.5h²c²cos² - 0.5lambda2hmec³ + 0.5lambda1hmec³ - 0.5lambda2hmec³cos + 0.5lambda1hmec³cos\n",
      "value_αs = value_poly2.(αs) = Polynomial{DynamicPolynomials.Commutative{DynamicPolynomials.CreationOrder}, Graded{LexOrder}, Float64}[-0.25lambda2hc + 0.25lambda1hc - 0.25lambda1lambda2Ee2 - 0.25lambda1lambda2Ee1 - 0.25lambda2hccos - 0.25lambda1lambda2cosEe2 - 0.25lambda1lambda2cosEe1 + 0.25f1lambda1²lambda2cosp2, 0.25lambda2hc - 0.25lambda1hc + 0.25lambda1lambda2Ee2 - 0.25lambda1lambda2Ee1 + 0.5lambda1²Ee1 + 0.25lambda2hccos + 0.25lambda1lambda2cosEe2 + 0.25lambda1lambda2cosE2 + 0.5lambda1lambda2mec² - 0.5lambda1²mec² + 0.25lambda1lambda2mec²cos - 0.5f1lambda1²lambda2cosp2, -0.25lambda2hc - 0.25lambda1lambda2Ee2 - 0.25lambda1lambda2Ee1 - 0.25lambda1lambda2cosEe2 - 0.25lambda1lambda2cosE1 + 0.5lambda2hccos² + 0.25lambda1f2lambda2²p2 - 0.5lambda1lambda2ccos²p1 - 0.25lambda1lambda2mec²cos + 0.25lambda1f2lambda2²cosp2, -0.25lambda2hc - 0.25lambda2hccos + 0.5lambda1lambda2cos²E2 - 0.25f1lambda1²lambda2p1 + 0.5f1lambda1²lambda2cosp2 - 0.25f1lambda1²lambda2cosp1, -0.25lambda1lambda2E2 + 0.25lambda1lambda2cosEe2 + 0.25lambda1lambda2cosE1 - 0.25lambda1f2lambda2²p2 + 0.5lambda1lambda2ccos²p1 - 0.25lambda1lambda2mec²cos - 0.25lambda1f2lambda2²cosp2, -0.25h²c + 0.25lambda2hEe2 - 0.25lambda2hEe1 + 0.5lambda1hEe1 + 0.25lambda2hcosEe2 + 0.25lambda2hcosE2 - 0.25lambda2hcp1 + 0.5lambda2hcos²E2 - 0.25lambda2hccosp1 + 0.5lambda2hmec² - 0.5lambda1hmec² + 0.25lambda1lambda2cosEe2p2 - 0.25lambda1lambda2cosEe1p2 + 0.25lambda1lambda2cosE2p2 + 0.25lambda1lambda2cosE1p2 - 0.25f1lambda1lambda2hp1 + 0.25lambda2hmec²cos + 0.25lambda1lambda2ccosp1² + 0.25lambda1f2lambda2²pe2² - 0.25lambda1f2lambda2²p2² - 0.25f1lambda1lambda2hcosp1, -0.25h²c - 0.25lambda1hEe2 - 0.25lambda1hEe1 - 0.25lambda1hE2 - 0.25lambda1lambda2E2p2 + 0.5h²ccos² - 0.25lambda1lambda2cosE2p2 + 0.25lambda1lambda2cpe2² - 0.5lambda1hmec²cos + 0.25lambda1lambda2ccosp2² - 0.25f1lambda1²lambda2pe2² + 0.25f1lambda1²lambda2p2², 0.25lambda1lambda2Ee1 + 0.5lambda1lambda2E1 - 0.5lambda1²E1 + 0.25lambda2hccos + 0.25lambda1lambda2cosEe1 - 0.25lambda1lambda2cosE2 + 0.25lambda1lambda2cosE1 - 0.25lambda1lambda2ccosp2 + 0.25lambda1lambda2mec² + 0.25lambda1lambda2mec²cos, -0.25lambda1lambda2 - 0.25lambda1lambda2cos, -0.25lambda1lambda2c²cos - 0.25f1lambda1²lambda2c]\n"
     ]
    },
    {
     "data": {
      "text/plain": [
       "10-element Vector{Polynomial{DynamicPolynomials.Commutative{DynamicPolynomials.CreationOrder}, Graded{LexOrder}, Float64}}:\n",
       " -0.25lambda2hc + 0.25lambda1hc - 0.25lambda1lambda2Ee2 - 0.25lambda1lambda2Ee1 - 0.25lambda2hccos - 0.25lambda1lambda2cosEe2 - 0.25lambda1lambda2cosEe1 + 0.25f1lambda1²lambda2cosp2\n",
       " 0.25lambda2hc - 0.25lambda1hc + 0.25lambda1lambda2Ee2 - 0.25lambda1lambda2Ee1 + 0.5lambda1²Ee1 + 0.25lambda2hccos + 0.25lambda1lambda2cosEe2 + 0.25lambda1lambda2cosE2 + 0.5lambda1lambda2mec² - 0.5lambda1²mec² + 0.25lambda1lambda2mec²cos - 0.5f1lambda1²lambda2cosp2\n",
       " -0.25lambda2hc - 0.25lambda1lambda2Ee2 - 0.25lambda1lambda2Ee1 - 0.25lambda1lambda2cosEe2 - 0.25lambda1lambda2cosE1 + 0.5lambda2hccos² + 0.25lambda1f2lambda2²p2 - 0.5lambda1lambda2ccos²p1 - 0.25lambda1lambda2mec²cos + 0.25lambda1f2lambda2²cosp2\n",
       " -0.25lambda2hc - 0.25lambda2hccos + 0.5lambda1lambda2cos²E2 - 0.25f1lambda1²lambda2p1 + 0.5f1lambda1²lambda2cosp2 - 0.25f1lambda1²lambda2cosp1\n",
       " -0.25lambda1lambda2E2 + 0.25lambda1lambda2cosEe2 + 0.25lambda1lambda2cosE1 - 0.25lambda1f2lambda2²p2 + 0.5lambda1lambda2ccos²p1 - 0.25lambda1lambda2mec²cos - 0.25lambda1f2lambda2²cosp2\n",
       " -0.25h²c + 0.25lambda2hEe2 - 0.25lambda2hEe1 + 0.5lambda1hEe1 + 0.25lambda2hcosEe2 + 0.25lambda2hcosE2 - 0.25lambda2hcp1 + 0.5lambda2hcos²E2 - 0.25lambda2hccosp1 + 0.5lambda2hmec² - 0.5lambda1hmec² + 0.25lambda1lambda2cosEe2p2 - 0.25lambda1lambda2cosEe1p2 + 0.25lambda1lambda2cosE2p2 + 0.25lambda1lambda2cosE1p2 - 0.25f1lambda1lambda2hp1 + 0.25lambda2hmec²cos + 0.25lambda1lambda2ccosp1² + 0.25lambda1f2lambda2²pe2² - 0.25lambda1f2lambda2²p2² - 0.25f1lambda1lambda2hcosp1\n",
       " -0.25h²c - 0.25lambda1hEe2 - 0.25lambda1hEe1 - 0.25lambda1hE2 - 0.25lambda1lambda2E2p2 + 0.5h²ccos² - 0.25lambda1lambda2cosE2p2 + 0.25lambda1lambda2cpe2² - 0.5lambda1hmec²cos + 0.25lambda1lambda2ccosp2² - 0.25f1lambda1²lambda2pe2² + 0.25f1lambda1²lambda2p2²\n",
       " 0.25lambda1lambda2Ee1 + 0.5lambda1lambda2E1 - 0.5lambda1²E1 + 0.25lambda2hccos + 0.25lambda1lambda2cosEe1 - 0.25lambda1lambda2cosE2 + 0.25lambda1lambda2cosE1 - 0.25lambda1lambda2ccosp2 + 0.25lambda1lambda2mec² + 0.25lambda1lambda2mec²cos\n",
       " -0.25lambda1lambda2 - 0.25lambda1lambda2cos\n",
       " -0.25lambda1lambda2c²cos - 0.25f1lambda1²lambda2c"
      ]
     },
     "execution_count": 5,
     "metadata": {},
     "output_type": "execute_result"
    }
   ],
   "source": [
    "### deg = 2\n",
    "deg_overall=6\n",
    "deg_overall_q=8 # degree of final polynomial law\n",
    "\n",
    "deg_elementwise=[2, 2, 2, 2, 2, 2, 2, 2, 2, 2, 2, 2, 2, 2, 2] \n",
    "deg_elementwise_q=[2, 2, 2, 2, 2, 2, 4, 2, 2, 2, 2, 2, 2, 2, 2]\n",
    "\n",
    "deg = 8\n",
    "#maxD = 1\n",
    "\n",
    "candidate_mons = [\n",
    "    mons_of_max_degree_and_unit_overall(u, deg, deg_overall, deg_elementwise)\n",
    "    for ai=axioms2\n",
    "]\n",
    "@show size.(candidate_mons)\n",
    "#@show candidate_mons\n",
    "\n",
    "# If you want to use Gurobi instead of CPLEX, you need to comment out the next line, and uncomment out the subsequent line\n",
    "model = Model(CPLEX.Optimizer)\n",
    "# model = Model(Gurobi.Optimizer)\n",
    "# set_optimizer_attribute(model, \"Presolve\", 0)\n",
    "# set_optimizer_attribute(model, \"OptimalityTol\", 1e-9)\n",
    "# set_optimizer_attribute(model, \"FeasibilityTol\", 1e-9)\n",
    "# set_optimizer_attribute(model, \"IntFeasTol\", 1e-9)\n",
    "# set_optimizer_attribute(model, \"MIPGap\", 1e-9)\n",
    "# set_optimizer_attribute(model, \"Quad\", 1)\n",
    "\n",
    "# we are assuming only the initial and final wavelengths of light, the cosine of the angle of scatering are measurable.\n",
    "# Also, we assume h, me, c (Planck's constant, rest mass of electron, speed of light) are known and thus can appear in final expression\n",
    "mons_q = mons_of_max_degree_and_unit_overall([lambda1 lambda2 cos h me c] , deg, deg_overall_q, deg_elementwise_q)\n",
    "coeff_q =   @variable(model, [1:size(mons_q,1)], base_name=\"q\")\n",
    "abs_coeff_q =   @variable(model, [1:size(mons_q,1)], base_name=\"abq\")\n",
    "\n",
    "q = sum(ci .* mi for (ci, mi)=zip(coeff_q, mons_q)) # Zip pairs things without needing a ref index, e.g., zip([1, 2, 3], [4,5,6])=((1,4), (2,5), (3,6))\n",
    "#@show q\n",
    "\n",
    "coeff_αs = [\n",
    "    @variable(model, [1:size(X,1)], base_name=\"α$i\")\n",
    "    for (i,X)=enumerate(candidate_mons)\n",
    "    ]\n",
    "@show size.(coeff_αs)\n",
    "\n",
    "αs = [sum(ci .* mi) for (ci, mi)=zip(coeff_αs, candidate_mons)]\n",
    "#@show αs\n",
    "\n",
    "residual = q - sum(αᵢ * aᵢ for (αᵢ, aᵢ)=zip(αs,axioms2));\n",
    "eqs = coefficients(residual)\n",
    "#@show residual\n",
    "#@show eqs\n",
    "\n",
    "\n",
    "# Ensure that the sum of the coefficients on the terms involving p isn't zero, in order that p is part of expression\n",
    "@constraint model sum(coeff_q[degree.(mons_q, lambda1).>0]) == 1.0\n",
    "\n",
    "@constraint model eqs .== 0\n",
    "@constraint model abs_coeff_q.>=coeff_q\n",
    "@constraint model abs_coeff_q.>=-coeff_q\n",
    "#@variable(model, t[i=1:maxD]>=0.0)\n",
    "#@constraint(model, imposeabs1[i=1:maxD], t[i]>=q(data_var[i,:]))\n",
    "#@constraint(model, imposeabs2[i=1:maxD], t[i]>=-q(data_var[i,:]))\n",
    "#@constraint(model, q(data_var[10,:]) == 0)\n",
    "@objective model Min sum(abs_coeff_q) # Reduce number of non-zero coefficients via Lasso trick\n",
    "#@objective model Min 100*sum(t) # Reduce number of non-zero coefficients via Lasso trick\n",
    "\n",
    "optimize!(model)\n",
    "@show termination_status(model)\n",
    "#@show q\n",
    "#@show value.(coeff_q)\n",
    "#@show value.(abs_coeff_q)\n",
    "\n",
    "\n",
    "value_poly2 = p -> sum(value.(coefficients(p)).* monomials(p))\n",
    "@show value_poly2(q)\n",
    "@show value_αs=value_poly2.(αs)"
   ]
  },
  {
   "cell_type": "code",
   "execution_count": null,
   "metadata": {},
   "outputs": [],
   "source": []
  }
 ],
 "metadata": {
  "kernelspec": {
   "display_name": "Julia 1.9.4",
   "language": "julia",
   "name": "julia-1.9"
  },
  "language_info": {
   "file_extension": ".jl",
   "mimetype": "application/julia",
   "name": "julia",
   "version": "1.9.4"
  }
 },
 "nbformat": 4,
 "nbformat_minor": 4
}
