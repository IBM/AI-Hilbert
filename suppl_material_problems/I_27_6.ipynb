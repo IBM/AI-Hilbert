{
 "cells": [
  {
   "cell_type": "markdown",
   "metadata": {},
   "source": [
    "I-27-6 Feynamn Lectures on Physics\n",
    "\n",
    "https://www.feynmanlectures.caltech.edu/I_27.html\n",
    "\n",
    "Optical geometry - derivation of focal length based on distances (d1,d2) from lens and refraction index n \n",
    "\n",
    "foc = 1/(1/d1+n/d2) ==> foc/d1 + foc*n/d2 = 1 ==> foc*d2 + foc * n * d1 - d1 * d2=0\n"
   ]
  },
  {
   "cell_type": "code",
   "execution_count": 23,
   "metadata": {},
   "outputs": [],
   "source": [
    "using DynamicPolynomials\n",
    "using JuMP\n",
    "using MosekTools\n",
    "using LinearAlgebra\n",
    "using CSV\n",
    "using DataFrames\n",
    "import JSON\n",
    "using Dates\n",
    "using Gurobi\n",
    "using SymbolicUtils # for symbolic simplification"
   ]
  },
  {
   "cell_type": "markdown",
   "metadata": {},
   "source": [
    "functions for generating monomials"
   ]
  },
  {
   "cell_type": "code",
   "execution_count": 24,
   "metadata": {},
   "outputs": [
    {
     "data": {
      "text/plain": [
       "all_monomials_up_to_max_deg_overall_and_individual (generic function with 1 method)"
      ]
     },
     "execution_count": 24,
     "metadata": {},
     "output_type": "execute_result"
    }
   ],
   "source": [
    "function all_monomials_up_to_max_deg(x, deg)\n",
    "    if size(x,1) == 0\n",
    "        [1]\n",
    "    else\n",
    "    [ x[1]^k * m for k=0:deg \n",
    "      for m=all_monomials_up_to_max_deg(x[2:end], deg)\n",
    "    ]\n",
    "    end\n",
    "end\n",
    "\n",
    "function mons_of_max_degree_and_unit(x, deg, u)\n",
    "    [m\n",
    "        for m=all_monomials_up_to_max_deg(x, deg)\n",
    "        #if all(unit(m) .== u)\n",
    "    ]\n",
    "end\n",
    "                \n",
    "function degree_poly(p)\n",
    "    maximum(degree.(monomials(p)))\n",
    "end\n",
    "\n",
    "function all_monomials_up_to_max_deg_overall(x, deg, deg_overall)\n",
    "    if size(x,1) == 0\n",
    "        [1]\n",
    "    else\n",
    "    [ x[1]^k * m for k=0:min(deg, deg_overall) \n",
    "                for m=all_monomials_up_to_max_deg_overall(x[2:end], deg, deg_overall-k)\n",
    "    ]\n",
    "    end\n",
    "end\n",
    "\n",
    "function mons_of_max_degree_and_unit_overall(x, deg, deg_overall, u)\n",
    "    [m\n",
    "        for m=all_monomials_up_to_max_deg_overall(x, deg, deg_overall)\n",
    "        #if all(unit(m) .== u)\n",
    "    ]\n",
    "end\n",
    "\n",
    "function all_monomials_up_to_max_deg_overall_and_individual(x, deg, deg_overall, theDegrees)\n",
    "    if size(x,1) == 0\n",
    "        [1]\n",
    "    else\n",
    "    [ x[1]^k * m for k=0:min(deg, deg_overall, theDegrees[1]) \n",
    "                for m=all_monomials_up_to_max_deg_overall_and_individual(x[2:end], deg, deg_overall-k, theDegrees[2:end])\n",
    "    ]\n",
    "    end\n",
    "end"
   ]
  },
  {
   "cell_type": "code",
   "execution_count": 5,
   "metadata": {},
   "outputs": [
    {
     "data": {
      "text/plain": [
       "1×10 Matrix{Variable{DynamicPolynomials.Commutative{DynamicPolynomials.CreationOrder}, Graded{LexOrder}}}:\n",
       " tvq  n  VQ  top1  top2  h  d1  d2  r  foc"
      ]
     },
     "execution_count": 5,
     "metadata": {},
     "output_type": "execute_result"
    }
   ],
   "source": [
    "@polyvar tvq n VQ top1 top2 h d1 d2 r foc   # \n",
    "\n",
    "x   =   [ tvq n VQ top1 top2 h d1 d2 r foc   ] #"
   ]
  },
  {
   "cell_type": "code",
   "execution_count": 17,
   "metadata": {},
   "outputs": [
    {
     "data": {
      "text/plain": [
       "6-element Vector{Polynomial{DynamicPolynomials.Commutative{DynamicPolynomials.CreationOrder}, Graded{LexOrder}, Int64}}:\n",
       " VQ + tvq - nVQ\n",
       " -h² + 2top1d1\n",
       " 2top2d2 - nh²\n",
       " -h² + 2VQr\n",
       " top2 + top1 - tvq\n",
       " -foc - r + nfoc"
      ]
     },
     "execution_count": 17,
     "metadata": {},
     "output_type": "execute_result"
    }
   ],
   "source": [
    "axioms= \n",
    "[\n",
    "    tvq - (n-1) * VQ,\n",
    "    top1 *  (2 * d1) - h^2 ,         # top1 - h^2 / (2 * d1),\n",
    "    top2 * (2 * d2) - (n * h^2),     # top2 - (n * h^2) / (2 * d2),\n",
    "    VQ * (2 * r) - h^2,              # VQ - h^2 / (2 * r),\n",
    "    top1 + top2 - tvq,\n",
    "    foc*(n-1) - r,                   # foc - r/(n-1)\n",
    "    #d1>0,\n",
    "    #d2>0,\n",
    "    #h>0,\n",
    "    #VQ>0,\n",
    "    #r>0,\n",
    "    #top1>0,\n",
    "    #n>1,\n",
    "    #tvq>0,\n",
    "    #top2>0,\n",
    "]\n",
    "    "
   ]
  },
  {
   "cell_type": "code",
   "execution_count": 34,
   "metadata": {},
   "outputs": [
    {
     "name": "stdout",
     "output_type": "stream",
     "text": [
      "size.(candidate_mons) = [(93784,), (93784,), (93784,), (93784,), (93784,), (93784,)]\n"
     ]
    }
   ],
   "source": [
    "deg = 3\n",
    "deg_overall = 14\n",
    "theDegrees = [ 2   2  2   2    2   2  3  3 2  2 ] \n",
    "            # tvq  n  VQ top1 top2 h d1 d2 r foc  \n",
    "\n",
    "candidate_mons = [\n",
    "    #mons_of_max_degree_and_unit_overall(params, deg, deg_overall, [])\n",
    "    all_monomials_up_to_max_deg_overall_and_individual(x, deg, deg_overall, theDegrees)\n",
    "    for ai=axioms\n",
    "]\n",
    "\n",
    "@show size.(candidate_mons)\n",
    "\n",
    "#model = Model(Mosek.Optimizer)\n",
    "model = Model(Gurobi.Optimizer)\n",
    "set_optimizer_attribute(model, \"TimeLimit\", 600.0)\n",
    "\n",
    "mons_q = mons_of_max_degree_and_unit_overall([d1 d2 n  foc], deg, deg_overall, []) #  only include variables expected to appear in the final theorem \n",
    "coeff_q =   @variable(model, [1:size(mons_q,1)], base_name=\"q\")\n",
    "\n",
    "q = sum(ci .* mi for (ci, mi)=zip(coeff_q, mons_q)) # Zip pairs things without needing a ref index, e.g., zip([1, 2, 3], [4,5,6])=((1,4), (2,5), (3,6))\n",
    "coeff_αs = [\n",
    "    @variable(model, [1:size(X,1)], base_name=\"α$i\")\n",
    "    for (i,X)=enumerate(candidate_mons)\n",
    "    ]\n",
    "@show size.(coeff_αs)\n",
    "αs = [sum(ci .* mi) for (ci, mi)=zip(coeff_αs, candidate_mons)]\n",
    "\n",
    "residual = q - sum(αᵢ * aᵢ for (αᵢ, aᵢ)=zip(αs,axioms));\n",
    "eqs = coefficients(residual)\n",
    "\n",
    "# Ensure that the sum of the coefficients on the terms involving m isn't zero, in order that m is part of expression\n",
    "@constraint model sum(coeff_q[degree.(mons_q, [foc]).>0]) == 1.0\n",
    "\n",
    "@constraint model eqs .== 0\n",
    "@objective model Max 0\n",
    "\n",
    "optimize!(model)\n",
    "@show termination_status(model)"
   ]
  },
  {
   "cell_type": "code",
   "execution_count": 29,
   "metadata": {},
   "outputs": [
    {
     "data": {
      "text/plain": [
       "#143 (generic function with 1 method)"
      ]
     },
     "execution_count": 29,
     "metadata": {},
     "output_type": "execute_result"
    }
   ],
   "source": [
    "value_poly = p -> sum(value.(coefficients(p)).* monomials(p))"
   ]
  },
  {
   "cell_type": "code",
   "execution_count": 30,
   "metadata": {},
   "outputs": [
    {
     "data": {
      "text/latex": [
       "$$ foc^{2} + rfoc - nfoc^{2} $$"
      ],
      "text/plain": [
       "foc² + rfoc - nfoc²"
      ]
     },
     "execution_count": 30,
     "metadata": {},
     "output_type": "execute_result"
    }
   ],
   "source": [
    "value_q = value_poly(q)\n",
    "value_q"
   ]
  },
  {
   "cell_type": "code",
   "execution_count": 31,
   "metadata": {},
   "outputs": [
    {
     "data": {
      "text/latex": [
       "$$ foc^{2} + rfoc - nfoc^{2} $$"
      ],
      "text/plain": [
       "foc² + rfoc - nfoc²"
      ]
     },
     "execution_count": 31,
     "metadata": {},
     "output_type": "execute_result"
    }
   ],
   "source": [
    "q_sim = simplify(value_q)"
   ]
  },
  {
   "cell_type": "markdown",
   "metadata": {},
   "source": [
    "which can be simplified to (foc^2*h^2*r*(d1*d2 + d2*r - d1*d2*n + d1*n*r))/2\n",
    "\n"
   ]
  },
  {
   "cell_type": "code",
   "execution_count": 27,
   "metadata": {},
   "outputs": [
    {
     "name": "stdout",
     "output_type": "stream",
     "text": [
      "value_αs = value_poly.(αs) = Polynomial{DynamicPolynomials.Commutative{DynamicPolynomials.CreationOrder}, Graded{LexOrder}, Float64}[d1d2r²foc², -0.5d2r²foc², -0.5d1r²foc², -0.5d1d2rfoc² + 0.5nd1d2rfoc², d1d2r²foc², 0.0]\n"
     ]
    },
    {
     "data": {
      "text/plain": [
       "6-element Vector{Polynomial{DynamicPolynomials.Commutative{DynamicPolynomials.CreationOrder}, Graded{LexOrder}, Float64}}:\n",
       " d1d2r²foc²\n",
       " -0.5d2r²foc²\n",
       " -0.5d1r²foc²\n",
       " -0.5d1d2rfoc² + 0.5nd1d2rfoc²\n",
       " d1d2r²foc²\n",
       " 0.0"
      ]
     },
     "execution_count": 27,
     "metadata": {},
     "output_type": "execute_result"
    }
   ],
   "source": [
    "@show value_αs = value_poly.(αs)"
   ]
  },
  {
   "cell_type": "markdown",
   "metadata": {},
   "source": []
  }
 ],
 "metadata": {
  "kernelspec": {
   "display_name": "Julia 1.10.2",
   "language": "julia",
   "name": "julia-1.10"
  },
  "language_info": {
   "file_extension": ".jl",
   "mimetype": "application/julia",
   "name": "julia",
   "version": "1.9.4"
  }
 },
 "nbformat": 4,
 "nbformat_minor": 2
}
