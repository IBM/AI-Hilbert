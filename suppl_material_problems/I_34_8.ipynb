{
 "cells": [
  {
   "cell_type": "markdown",
   "metadata": {},
   "source": [
    "I-34-8 Feynamn Lectures on Physics\n",
    "\n",
    "https://www.feynmanlectures.caltech.edu/I_34.html\n",
    "\n",
    "w=q v V /p\n",
    "\n",
    "\n"
   ]
  },
  {
   "cell_type": "code",
   "execution_count": 1,
   "metadata": {},
   "outputs": [],
   "source": [
    "using DynamicPolynomials\n",
    "using JuMP\n",
    "using MosekTools\n",
    "using LinearAlgebra\n",
    "using CSV\n",
    "using DataFrames\n",
    "import JSON\n",
    "using Dates\n",
    "using Gurobi\n",
    "using SymbolicUtils # for symbolic simplification"
   ]
  },
  {
   "cell_type": "markdown",
   "metadata": {},
   "source": [
    "functions for generating monomials"
   ]
  },
  {
   "cell_type": "code",
   "execution_count": 2,
   "metadata": {},
   "outputs": [
    {
     "data": {
      "text/plain": [
       "all_monomials_up_to_max_deg_overall_and_individual (generic function with 1 method)"
      ]
     },
     "execution_count": 2,
     "metadata": {},
     "output_type": "execute_result"
    }
   ],
   "source": [
    "function all_monomials_up_to_max_deg(x, deg)\n",
    "    if size(x,1) == 0\n",
    "        [1]\n",
    "    else\n",
    "    [ x[1]^k * m for k=0:deg \n",
    "      for m=all_monomials_up_to_max_deg(x[2:end], deg)\n",
    "    ]\n",
    "    end\n",
    "end\n",
    "\n",
    "function mons_of_max_degree_and_unit(x, deg, u)\n",
    "    [m\n",
    "        for m=all_monomials_up_to_max_deg(x, deg)\n",
    "        #if all(unit(m) .== u)\n",
    "    ]\n",
    "end\n",
    "                \n",
    "function degree_poly(p)\n",
    "    maximum(degree.(monomials(p)))\n",
    "end\n",
    "\n",
    "function all_monomials_up_to_max_deg_overall(x, deg, deg_overall)\n",
    "    if size(x,1) == 0\n",
    "        [1]\n",
    "    else\n",
    "    [ x[1]^k * m for k=0:min(deg, deg_overall) \n",
    "                for m=all_monomials_up_to_max_deg_overall(x[2:end], deg, deg_overall-k)\n",
    "    ]\n",
    "    end\n",
    "end\n",
    "\n",
    "function mons_of_max_degree_and_unit_overall(x, deg, deg_overall, u)\n",
    "    [m\n",
    "        for m=all_monomials_up_to_max_deg_overall(x, deg, deg_overall)\n",
    "        #if all(unit(m) .== u)\n",
    "    ]\n",
    "end\n",
    "\n",
    "function all_monomials_up_to_max_deg_overall_and_individual(x, deg, deg_overall, theDegrees)\n",
    "    if size(x,1) == 0\n",
    "        [1]\n",
    "    else\n",
    "    [ x[1]^k * m for k=0:min(deg, deg_overall, theDegrees[1]) \n",
    "                for m=all_monomials_up_to_max_deg_overall_and_individual(x[2:end], deg, deg_overall-k, theDegrees[2:end])\n",
    "    ]\n",
    "    end\n",
    "end"
   ]
  },
  {
   "cell_type": "code",
   "execution_count": 3,
   "metadata": {},
   "outputs": [
    {
     "data": {
      "text/plain": [
       "1×9 Matrix{Variable{DynamicPolynomials.Commutative{DynamicPolynomials.CreationOrder}, Graded{LexOrder}}}:\n",
       " omega  Dt  Dp  Dangle  F  qc  v  B  p"
      ]
     },
     "execution_count": 3,
     "metadata": {},
     "output_type": "execute_result"
    }
   ],
   "source": [
    "@polyvar omega Dt Dp Dangle F qc v B p    # \n",
    "\n",
    "x   =   [omega Dt Dp Dangle F qc v B p ] #"
   ]
  },
  {
   "cell_type": "code",
   "execution_count": 5,
   "metadata": {},
   "outputs": [
    {
     "data": {
      "text/plain": [
       "4-element Vector{Polynomial{DynamicPolynomials.Commutative{DynamicPolynomials.CreationOrder}, Graded{LexOrder}, Int64}}:\n",
       " -Dangle + omegaDt\n",
       " Dp - DtF\n",
       " F - qcvB\n",
       " -Dp + Danglep"
      ]
     },
     "execution_count": 5,
     "metadata": {},
     "output_type": "execute_result"
    }
   ],
   "source": [
    "axioms= \n",
    "[\n",
    "    omega * Dt - Dangle, # omega = Dangle/Dt, \n",
    "    Dp - F * Dt,        # Dp = F * Dt, \n",
    "    F - qc * v * B,      # F = q * v * B\n",
    "    Dangle * p - Dp,     # Dangle = Dp/p     \n",
    "]\n"
   ]
  },
  {
   "cell_type": "code",
   "execution_count": 6,
   "metadata": {},
   "outputs": [
    {
     "ename": "LoadError",
     "evalue": "BoundsError: attempt to access 0-element Vector{Int64} at index [1]",
     "output_type": "error",
     "traceback": [
      "BoundsError: attempt to access 0-element Vector{Int64} at index [1]",
      "",
      "Stacktrace:",
      "  [1] getindex",
      "    @ .\\essentials.jl:13 [inlined]",
      "  [2] all_monomials_up_to_max_deg_overall_and_individual(x::Vector{Variable{DynamicPolynomials.Commutative{DynamicPolynomials.CreationOrder}, Graded{LexOrder}}}, deg::Int64, deg_overall::Int64, theDegrees::Vector{Int64})",
      "    @ Main .\\In[2]:43",
      "  [3] (::var\"#12#13\"{Vector{Variable{DynamicPolynomials.Commutative{DynamicPolynomials.CreationOrder}, Graded{LexOrder}}}, Int64, Int64, Vector{Int64}})(k::Int64)",
      "    @ Main .\\none:0",
      "  [4] iterate(::Base.Generator{UnitRange{Int64}, var\"#12#13\"{Vector{Variable{DynamicPolynomials.Commutative{DynamicPolynomials.CreationOrder}, Graded{LexOrder}}}, Int64, Int64, Vector{Int64}}})",
      "    @ Base .\\generator.jl:47",
      "  [5] iterate(f::Base.Iterators.Flatten{Base.Generator{UnitRange{Int64}, var\"#12#13\"{Vector{Variable{DynamicPolynomials.Commutative{DynamicPolynomials.CreationOrder}, Graded{LexOrder}}}, Int64, Int64, Vector{Int64}}}}, state::Tuple{})",
      "    @ Base.Iterators .\\iterators.jl:1195",
      "  [6] iterate(f::Base.Iterators.Flatten{Base.Generator{UnitRange{Int64}, var\"#12#13\"{Vector{Variable{DynamicPolynomials.Commutative{DynamicPolynomials.CreationOrder}, Graded{LexOrder}}}, Int64, Int64, Vector{Int64}}}})",
      "    @ Base.Iterators .\\iterators.jl:1191",
      "  [7] grow_to!(dest::Vector{Any}, itr::Base.Iterators.Flatten{Base.Generator{UnitRange{Int64}, var\"#12#13\"{Vector{Variable{DynamicPolynomials.Commutative{DynamicPolynomials.CreationOrder}, Graded{LexOrder}}}, Int64, Int64, Vector{Int64}}}})",
      "    @ Base .\\array.jl:855",
      "  [8] _collect",
      "    @ .\\array.jl:759 [inlined]",
      "  [9] collect(itr::Base.Iterators.Flatten{Base.Generator{UnitRange{Int64}, var\"#12#13\"{Vector{Variable{DynamicPolynomials.Commutative{DynamicPolynomials.CreationOrder}, Graded{LexOrder}}}, Int64, Int64, Vector{Int64}}}})",
      "    @ Base .\\array.jl:707",
      " [10] all_monomials_up_to_max_deg_overall_and_individual(x::Vector{Variable{DynamicPolynomials.Commutative{DynamicPolynomials.CreationOrder}, Graded{LexOrder}}}, deg::Int64, deg_overall::Int64, theDegrees::Vector{Int64})",
      "    @ Main .\\In[2]:43",
      " [11] (::var\"#12#13\"{Vector{Variable{DynamicPolynomials.Commutative{DynamicPolynomials.CreationOrder}, Graded{LexOrder}}}, Int64, Int64, Vector{Int64}})(k::Int64)",
      "    @ Main .\\none:0",
      " [12] iterate(::Base.Generator{UnitRange{Int64}, var\"#12#13\"{Vector{Variable{DynamicPolynomials.Commutative{DynamicPolynomials.CreationOrder}, Graded{LexOrder}}}, Int64, Int64, Vector{Int64}}})",
      "    @ Base .\\generator.jl:47",
      " [13] iterate(f::Base.Iterators.Flatten{Base.Generator{UnitRange{Int64}, var\"#12#13\"{Vector{Variable{DynamicPolynomials.Commutative{DynamicPolynomials.CreationOrder}, Graded{LexOrder}}}, Int64, Int64, Vector{Int64}}}}, state::Tuple{})",
      "    @ Base.Iterators .\\iterators.jl:1195",
      " [14] iterate(f::Base.Iterators.Flatten{Base.Generator{UnitRange{Int64}, var\"#12#13\"{Vector{Variable{DynamicPolynomials.Commutative{DynamicPolynomials.CreationOrder}, Graded{LexOrder}}}, Int64, Int64, Vector{Int64}}}})",
      "    @ Base.Iterators .\\iterators.jl:1191",
      " [15] grow_to!(dest::Vector{Any}, itr::Base.Iterators.Flatten{Base.Generator{UnitRange{Int64}, var\"#12#13\"{Vector{Variable{DynamicPolynomials.Commutative{DynamicPolynomials.CreationOrder}, Graded{LexOrder}}}, Int64, Int64, Vector{Int64}}}})",
      "    @ Base .\\array.jl:855",
      " [16] _collect",
      "    @ .\\array.jl:759 [inlined]",
      " [17] collect(itr::Base.Iterators.Flatten{Base.Generator{UnitRange{Int64}, var\"#12#13\"{Vector{Variable{DynamicPolynomials.Commutative{DynamicPolynomials.CreationOrder}, Graded{LexOrder}}}, Int64, Int64, Vector{Int64}}}})",
      "    @ Base .\\array.jl:707",
      " [18] all_monomials_up_to_max_deg_overall_and_individual(x::Vector{Variable{DynamicPolynomials.Commutative{DynamicPolynomials.CreationOrder}, Graded{LexOrder}}}, deg::Int64, deg_overall::Int64, theDegrees::Vector{Int64})",
      "    @ Main .\\In[2]:43",
      " [19] (::var\"#12#13\"{Vector{Variable{DynamicPolynomials.Commutative{DynamicPolynomials.CreationOrder}, Graded{LexOrder}}}, Int64, Int64, Vector{Int64}})(k::Int64)",
      "    @ Main .\\none:0",
      " [20] iterate(::Base.Generator{UnitRange{Int64}, var\"#12#13\"{Vector{Variable{DynamicPolynomials.Commutative{DynamicPolynomials.CreationOrder}, Graded{LexOrder}}}, Int64, Int64, Vector{Int64}}})",
      "    @ Base .\\generator.jl:47",
      " [21] iterate(f::Base.Iterators.Flatten{Base.Generator{UnitRange{Int64}, var\"#12#13\"{Vector{Variable{DynamicPolynomials.Commutative{DynamicPolynomials.CreationOrder}, Graded{LexOrder}}}, Int64, Int64, Vector{Int64}}}}, state::Tuple{})",
      "    @ Base.Iterators .\\iterators.jl:1195",
      " [22] iterate(f::Base.Iterators.Flatten{Base.Generator{UnitRange{Int64}, var\"#12#13\"{Vector{Variable{DynamicPolynomials.Commutative{DynamicPolynomials.CreationOrder}, Graded{LexOrder}}}, Int64, Int64, Vector{Int64}}}})",
      "    @ Base.Iterators .\\iterators.jl:1191",
      " [23] grow_to!(dest::Vector{Any}, itr::Base.Iterators.Flatten{Base.Generator{UnitRange{Int64}, var\"#12#13\"{Vector{Variable{DynamicPolynomials.Commutative{DynamicPolynomials.CreationOrder}, Graded{LexOrder}}}, Int64, Int64, Vector{Int64}}}})",
      "    @ Base .\\array.jl:855",
      " [24] _collect",
      "    @ .\\array.jl:759 [inlined]",
      " [25] collect(itr::Base.Iterators.Flatten{Base.Generator{UnitRange{Int64}, var\"#12#13\"{Vector{Variable{DynamicPolynomials.Commutative{DynamicPolynomials.CreationOrder}, Graded{LexOrder}}}, Int64, Int64, Vector{Int64}}}})",
      "    @ Base .\\array.jl:707",
      " [26] all_monomials_up_to_max_deg_overall_and_individual(x::Vector{Variable{DynamicPolynomials.Commutative{DynamicPolynomials.CreationOrder}, Graded{LexOrder}}}, deg::Int64, deg_overall::Int64, theDegrees::Vector{Int64})",
      "    @ Main .\\In[2]:43",
      " [27] (::var\"#12#13\"{Vector{Variable{DynamicPolynomials.Commutative{DynamicPolynomials.CreationOrder}, Graded{LexOrder}}}, Int64, Int64, Vector{Int64}})(k::Int64)",
      "    @ Main .\\none:0",
      " [28] iterate(::Base.Generator{UnitRange{Int64}, var\"#12#13\"{Vector{Variable{DynamicPolynomials.Commutative{DynamicPolynomials.CreationOrder}, Graded{LexOrder}}}, Int64, Int64, Vector{Int64}}})",
      "    @ Base .\\generator.jl:47",
      " [29] iterate(f::Base.Iterators.Flatten{Base.Generator{UnitRange{Int64}, var\"#12#13\"{Vector{Variable{DynamicPolynomials.Commutative{DynamicPolynomials.CreationOrder}, Graded{LexOrder}}}, Int64, Int64, Vector{Int64}}}}, state::Tuple{})",
      "    @ Base.Iterators .\\iterators.jl:1195",
      " [30] iterate(f::Base.Iterators.Flatten{Base.Generator{UnitRange{Int64}, var\"#12#13\"{Vector{Variable{DynamicPolynomials.Commutative{DynamicPolynomials.CreationOrder}, Graded{LexOrder}}}, Int64, Int64, Vector{Int64}}}})",
      "    @ Base.Iterators .\\iterators.jl:1191",
      " [31] grow_to!(dest::Vector{Any}, itr::Base.Iterators.Flatten{Base.Generator{UnitRange{Int64}, var\"#12#13\"{Vector{Variable{DynamicPolynomials.Commutative{DynamicPolynomials.CreationOrder}, Graded{LexOrder}}}, Int64, Int64, Vector{Int64}}}})",
      "    @ Base .\\array.jl:855",
      " [32] _collect",
      "    @ .\\array.jl:759 [inlined]",
      " [33] collect(itr::Base.Iterators.Flatten{Base.Generator{UnitRange{Int64}, var\"#12#13\"{Vector{Variable{DynamicPolynomials.Commutative{DynamicPolynomials.CreationOrder}, Graded{LexOrder}}}, Int64, Int64, Vector{Int64}}}})",
      "    @ Base .\\array.jl:707",
      " [34] all_monomials_up_to_max_deg_overall_and_individual(x::Vector{Variable{DynamicPolynomials.Commutative{DynamicPolynomials.CreationOrder}, Graded{LexOrder}}}, deg::Int64, deg_overall::Int64, theDegrees::Vector{Int64})",
      "    @ Main .\\In[2]:43",
      " [35] (::var\"#12#13\"{Matrix{Variable{DynamicPolynomials.Commutative{DynamicPolynomials.CreationOrder}, Graded{LexOrder}}}, Int64, Int64, Matrix{Int64}})(k::Int64)",
      "    @ Main .\\none:0",
      " [36] iterate",
      "    @ .\\generator.jl:47 [inlined]",
      " [37] iterate",
      "    @ .\\iterators.jl:1195 [inlined]",
      " [38] iterate",
      "    @ .\\iterators.jl:1191 [inlined]",
      " [39] grow_to!(dest::Vector{Any}, itr::Base.Iterators.Flatten{Base.Generator{UnitRange{Int64}, var\"#12#13\"{Matrix{Variable{DynamicPolynomials.Commutative{DynamicPolynomials.CreationOrder}, Graded{LexOrder}}}, Int64, Int64, Matrix{Int64}}}})",
      "    @ Base .\\array.jl:855",
      " [40] _collect",
      "    @ .\\array.jl:759 [inlined]",
      " [41] collect(itr::Base.Iterators.Flatten{Base.Generator{UnitRange{Int64}, var\"#12#13\"{Matrix{Variable{DynamicPolynomials.Commutative{DynamicPolynomials.CreationOrder}, Graded{LexOrder}}}, Int64, Int64, Matrix{Int64}}}})",
      "    @ Base .\\array.jl:707",
      " [42] all_monomials_up_to_max_deg_overall_and_individual(x::Matrix{Variable{DynamicPolynomials.Commutative{DynamicPolynomials.CreationOrder}, Graded{LexOrder}}}, deg::Int64, deg_overall::Int64, theDegrees::Matrix{Int64})",
      "    @ Main .\\In[2]:43",
      " [43] (::var\"#15#16\")(ai::Polynomial{DynamicPolynomials.Commutative{DynamicPolynomials.CreationOrder}, Graded{LexOrder}, Int64})",
      "    @ Main .\\none:0",
      " [44] iterate",
      "    @ .\\generator.jl:47 [inlined]",
      " [45] collect(itr::Base.Generator{Vector{Polynomial{DynamicPolynomials.Commutative{DynamicPolynomials.CreationOrder}, Graded{LexOrder}, Int64}}, var\"#15#16\"})",
      "    @ Base .\\array.jl:782",
      " [46] top-level scope",
      "    @ In[6]:6"
     ]
    }
   ],
   "source": [
    "deg = 3\n",
    "deg_overall = 10\n",
    "theDegrees = [  2    2  2   2    2 2  2 2 2] \n",
    "            #  omega Dt Dp Dangle F qc v B p \n",
    "\n",
    "candidate_mons = [\n",
    "    #mons_of_max_degree_and_unit_overall(params, deg, deg_overall, [])\n",
    "    all_monomials_up_to_max_deg_overall_and_individual(x, deg, deg_overall, theDegrees)\n",
    "    for ai=axioms\n",
    "]\n",
    "\n",
    "@show size.(candidate_mons)\n",
    "\n",
    "#model = Model(Mosek.Optimizer)\n",
    "model = Model(Gurobi.Optimizer)\n",
    "set_optimizer_attribute(model, \"TimeLimit\", 600.0)\n",
    "\n",
    "mons_q = mons_of_max_degree_and_unit_overall([omega qc v B p ], deg, deg_overall, []) #  only include variables expected to appear in the final theorem \n",
    "coeff_q =   @variable(model, [1:size(mons_q,1)], base_name=\"q\")\n",
    "\n",
    "q = sum(ci .* mi for (ci, mi)=zip(coeff_q, mons_q)) # Zip pairs things without needing a ref index, e.g., zip([1, 2, 3], [4,5,6])=((1,4), (2,5), (3,6))\n",
    "coeff_αs = [\n",
    "    @variable(model, [1:size(X,1)], base_name=\"α$i\")\n",
    "    for (i,X)=enumerate(candidate_mons)\n",
    "    ]\n",
    "@show size.(coeff_αs)\n",
    "αs = [sum(ci .* mi) for (ci, mi)=zip(coeff_αs, candidate_mons)]\n",
    "\n",
    "residual = q - sum(αᵢ * aᵢ for (αᵢ, aᵢ)=zip(αs,axioms));\n",
    "eqs = coefficients(residual)\n",
    "\n",
    "# Ensure that the sum of the coefficients on the terms involving m isn't zero, in order that m is part of expression\n",
    "@constraint model sum(coeff_q[degree.(mons_q, [omega]).>0]) == 1.0\n",
    "\n",
    "@constraint model eqs .== 0\n",
    "@objective model Max 0\n",
    "\n",
    "optimize!(model)\n",
    "@show termination_status(model)"
   ]
  },
  {
   "cell_type": "code",
   "execution_count": 7,
   "metadata": {},
   "outputs": [
    {
     "data": {
      "text/plain": [
       "#43 (generic function with 1 method)"
      ]
     },
     "execution_count": 7,
     "metadata": {},
     "output_type": "execute_result"
    }
   ],
   "source": [
    "value_poly = p -> sum(value.(coefficients(p)).* monomials(p))"
   ]
  },
  {
   "cell_type": "code",
   "execution_count": 8,
   "metadata": {},
   "outputs": [
    {
     "data": {
      "text/latex": [
       "$$ -p^{3}c^{2} + p^{3}v^{2} + m_0pv^{2}c^{2} $$"
      ],
      "text/plain": [
       "-p³c² + p³v² + m_0pv²c²"
      ]
     },
     "execution_count": 8,
     "metadata": {},
     "output_type": "execute_result"
    }
   ],
   "source": [
    "value_q = value_poly(q)\n",
    "value_q"
   ]
  },
  {
   "cell_type": "code",
   "execution_count": 9,
   "metadata": {},
   "outputs": [
    {
     "data": {
      "text/latex": [
       "$$ -p^{3}c^{2} + p^{3}v^{2} + m_0pv^{2}c^{2} $$"
      ],
      "text/plain": [
       "-p³c² + p³v² + m_0pv²c²"
      ]
     },
     "execution_count": 9,
     "metadata": {},
     "output_type": "execute_result"
    }
   ],
   "source": [
    "q_sim = simplify(value_q)"
   ]
  },
  {
   "cell_type": "markdown",
   "metadata": {},
   "source": [
    "which can be reorganized to arrive at the known relation p = m_0 * v /sqrt(1 - v*v/c*c)"
   ]
  },
  {
   "cell_type": "code",
   "execution_count": 10,
   "metadata": {},
   "outputs": [
    {
     "name": "stdout",
     "output_type": "stream",
     "text": [
      "value_αs = value_poly.(αs) = Polynomial{DynamicPolynomials.Commutative{DynamicPolynomials.CreationOrder}, Graded{LexOrder}, Float64}[-p²c² + p²v² - mpvc² + mpv³, -pv²]\n"
     ]
    },
    {
     "data": {
      "text/plain": [
       "2-element Vector{Polynomial{DynamicPolynomials.Commutative{DynamicPolynomials.CreationOrder}, Graded{LexOrder}, Float64}}:\n",
       " -p²c² + p²v² - mpvc² + mpv³\n",
       " -pv²"
      ]
     },
     "execution_count": 10,
     "metadata": {},
     "output_type": "execute_result"
    }
   ],
   "source": [
    "@show value_αs = value_poly.(αs)"
   ]
  },
  {
   "cell_type": "markdown",
   "metadata": {},
   "source": []
  }
 ],
 "metadata": {
  "kernelspec": {
   "display_name": "Julia 1.10.2",
   "language": "julia",
   "name": "julia-1.10"
  },
  "language_info": {
   "file_extension": ".jl",
   "mimetype": "application/julia",
   "name": "julia",
   "version": "1.9.4"
  }
 },
 "nbformat": 4,
 "nbformat_minor": 2
}
